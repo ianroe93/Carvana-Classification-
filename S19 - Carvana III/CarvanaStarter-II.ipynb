{
 "cells": [
  {
   "cell_type": "markdown",
   "metadata": {},
   "source": [
    "# Carvana"
   ]
  },
  {
   "cell_type": "markdown",
   "metadata": {},
   "source": [
    "In this code, we will be re-visiting Carvana. We will explore evaluation metrics for classification problems, and we will gain experience in working with categorical independent variables."
   ]
  },
  {
   "cell_type": "markdown",
   "metadata": {},
   "source": [
    "## Import packages"
   ]
  },
  {
   "cell_type": "markdown",
   "metadata": {},
   "source": [
    "First, we will import our normal selection of packages. However, this time, we will be importing the classification version of the models we've been using. These will have different names, but generally, the parameters will be identical or nearly so."
   ]
  },
  {
   "cell_type": "code",
   "execution_count": 1,
   "metadata": {},
   "outputs": [],
   "source": [
    "import numpy as np\n",
    "import pandas as pd\n",
    "from matplotlib import pyplot as plt\n",
    "import matplotlib as mpl\n",
    "import seaborn as sns\n",
    "import dill\n",
    "\n",
    "from sklearn.metrics import roc_auc_score, accuracy_score, precision_score, f1_score, confusion_matrix, ConfusionMatrixDisplay, RocCurveDisplay, classification_report\n",
    "from sklearn.impute import SimpleImputer\n",
    "from sklearn.preprocessing import OneHotEncoder, FunctionTransformer, LabelEncoder, StandardScaler, OrdinalEncoder\n",
    "from sklearn.pipeline import Pipeline\n",
    "from sklearn.compose import ColumnTransformer\n",
    "from sklearn.linear_model import LogisticRegression\n",
    "from sklearn.tree import DecisionTreeClassifier, plot_tree\n",
    "from sklearn.ensemble import RandomForestClassifier\n",
    "from sklearn.model_selection import train_test_split, GridSearchCV, KFold, cross_val_predict\n",
    "from xgboost import XGBClassifier\n",
    "\n",
    "from patsy import dmatrices, dmatrix, build_design_matrices\n",
    "\n",
    "# Set number of CPU cores for parallel algorithms\n",
    "import os\n",
    "if \"CPU_LIMIT\" in os.environ:\n",
    "    # If you are on JupyterHub, this gives you the right number of CPUs for your virtual machine\n",
    "    num_cpus = int(os.getenv(\"CPU_LIMIT\").split('.')[0])\n",
    "else:\n",
    "    # If you are not on JupyterHub, this gives you the right number for your computer.\n",
    "    num_cpus = os.cpu_count()"
   ]
  },
  {
   "cell_type": "code",
   "execution_count": 2,
   "metadata": {},
   "outputs": [],
   "source": [
    "# This sets some nicer defaults for plotting.\n",
    "# This must be run in a separate cell from importing matplotlib due to a bug.\n",
    "params = {'legend.fontsize': 'large',\n",
    "          'figure.figsize': (11.0, 11.0),\n",
    "          'axes.labelsize': 'x-large',\n",
    "          'axes.titlesize':'xx-large',\n",
    "          'xtick.labelsize':'large',\n",
    "          'ytick.labelsize':'large'}\n",
    "mpl.rcParams.update(params)\n",
    "\n",
    "# This makes it so that the pandas dataframes don't get truncated horizontally.\n",
    "pd.options.display.max_columns = 200"
   ]
  },
  {
   "cell_type": "markdown",
   "metadata": {},
   "source": [
    "## Load the Data"
   ]
  },
  {
   "cell_type": "markdown",
   "metadata": {},
   "source": [
    "We have seen this data before, but this time we are going to use the full training set from Kaggle (the previous training set was a cut down version to allow for an in class competition), and we will use the full test set from Kaggle as well. We will submit our results for the test set to Kaggle in order to finally evaluate our models."
   ]
  },
  {
   "cell_type": "code",
   "execution_count": 3,
   "metadata": {},
   "outputs": [],
   "source": [
    "df_train = pd.read_csv('training.csv') \n",
    "df_test = pd.read_csv('test.csv') "
   ]
  },
  {
   "cell_type": "code",
   "execution_count": 4,
   "metadata": {},
   "outputs": [
    {
     "data": {
      "text/plain": [
       "(72983, 34)"
      ]
     },
     "execution_count": 4,
     "metadata": {},
     "output_type": "execute_result"
    }
   ],
   "source": [
    "df_train.shape"
   ]
  },
  {
   "cell_type": "code",
   "execution_count": 5,
   "metadata": {},
   "outputs": [
    {
     "data": {
      "text/plain": [
       "(48707, 33)"
      ]
     },
     "execution_count": 5,
     "metadata": {},
     "output_type": "execute_result"
    }
   ],
   "source": [
    "df_test.shape"
   ]
  },
  {
   "cell_type": "markdown",
   "metadata": {},
   "source": [
    "## Summarize the data"
   ]
  },
  {
   "cell_type": "markdown",
   "metadata": {},
   "source": [
    "Let's take a more holistic look at the data."
   ]
  },
  {
   "cell_type": "code",
   "execution_count": 6,
   "metadata": {},
   "outputs": [],
   "source": [
    "def summarize_dataframe(df):\n",
    "    \"\"\"Summarize a dataframe, and report missing values.\"\"\"\n",
    "    missing_values = pd.DataFrame({'Variable Name': df.columns,\n",
    "                                   'Data Type': df.dtypes,\n",
    "                                   'Missing Values': df.isnull().sum(),\n",
    "                                   'Unique Values': [df[name].nunique() for name in df.columns]}\n",
    "                                 ).set_index('Variable Name')\n",
    "    with pd.option_context(\"display.max_rows\", 1000):\n",
    "        display(pd.concat([missing_values, df.describe(include='all').transpose()], axis=1).fillna(\"\"))"
   ]
  },
  {
   "cell_type": "code",
   "execution_count": 7,
   "metadata": {},
   "outputs": [
    {
     "data": {
      "text/html": [
       "<div>\n",
       "<style scoped>\n",
       "    .dataframe tbody tr th:only-of-type {\n",
       "        vertical-align: middle;\n",
       "    }\n",
       "\n",
       "    .dataframe tbody tr th {\n",
       "        vertical-align: top;\n",
       "    }\n",
       "\n",
       "    .dataframe thead th {\n",
       "        text-align: right;\n",
       "    }\n",
       "</style>\n",
       "<table border=\"1\" class=\"dataframe\">\n",
       "  <thead>\n",
       "    <tr style=\"text-align: right;\">\n",
       "      <th></th>\n",
       "      <th>Data Type</th>\n",
       "      <th>Missing Values</th>\n",
       "      <th>Unique Values</th>\n",
       "      <th>count</th>\n",
       "      <th>unique</th>\n",
       "      <th>top</th>\n",
       "      <th>freq</th>\n",
       "      <th>mean</th>\n",
       "      <th>std</th>\n",
       "      <th>min</th>\n",
       "      <th>25%</th>\n",
       "      <th>50%</th>\n",
       "      <th>75%</th>\n",
       "      <th>max</th>\n",
       "    </tr>\n",
       "  </thead>\n",
       "  <tbody>\n",
       "    <tr>\n",
       "      <th>RefId</th>\n",
       "      <td>int64</td>\n",
       "      <td>0</td>\n",
       "      <td>72983</td>\n",
       "      <td>72983.0</td>\n",
       "      <td></td>\n",
       "      <td></td>\n",
       "      <td></td>\n",
       "      <td>36511.428497</td>\n",
       "      <td>21077.241302</td>\n",
       "      <td>1.0</td>\n",
       "      <td>18257.5</td>\n",
       "      <td>36514.0</td>\n",
       "      <td>54764.5</td>\n",
       "      <td>73014.0</td>\n",
       "    </tr>\n",
       "    <tr>\n",
       "      <th>IsBadBuy</th>\n",
       "      <td>int64</td>\n",
       "      <td>0</td>\n",
       "      <td>2</td>\n",
       "      <td>72983.0</td>\n",
       "      <td></td>\n",
       "      <td></td>\n",
       "      <td></td>\n",
       "      <td>0.122988</td>\n",
       "      <td>0.328425</td>\n",
       "      <td>0.0</td>\n",
       "      <td>0.0</td>\n",
       "      <td>0.0</td>\n",
       "      <td>0.0</td>\n",
       "      <td>1.0</td>\n",
       "    </tr>\n",
       "    <tr>\n",
       "      <th>PurchDate</th>\n",
       "      <td>object</td>\n",
       "      <td>0</td>\n",
       "      <td>517</td>\n",
       "      <td>72983.0</td>\n",
       "      <td>517</td>\n",
       "      <td>11/23/2010</td>\n",
       "      <td>384</td>\n",
       "      <td></td>\n",
       "      <td></td>\n",
       "      <td></td>\n",
       "      <td></td>\n",
       "      <td></td>\n",
       "      <td></td>\n",
       "      <td></td>\n",
       "    </tr>\n",
       "    <tr>\n",
       "      <th>Auction</th>\n",
       "      <td>object</td>\n",
       "      <td>0</td>\n",
       "      <td>3</td>\n",
       "      <td>72983.0</td>\n",
       "      <td>3</td>\n",
       "      <td>MANHEIM</td>\n",
       "      <td>41043</td>\n",
       "      <td></td>\n",
       "      <td></td>\n",
       "      <td></td>\n",
       "      <td></td>\n",
       "      <td></td>\n",
       "      <td></td>\n",
       "      <td></td>\n",
       "    </tr>\n",
       "    <tr>\n",
       "      <th>VehYear</th>\n",
       "      <td>int64</td>\n",
       "      <td>0</td>\n",
       "      <td>10</td>\n",
       "      <td>72983.0</td>\n",
       "      <td></td>\n",
       "      <td></td>\n",
       "      <td></td>\n",
       "      <td>2005.343052</td>\n",
       "      <td>1.731252</td>\n",
       "      <td>2001.0</td>\n",
       "      <td>2004.0</td>\n",
       "      <td>2005.0</td>\n",
       "      <td>2007.0</td>\n",
       "      <td>2010.0</td>\n",
       "    </tr>\n",
       "    <tr>\n",
       "      <th>VehicleAge</th>\n",
       "      <td>int64</td>\n",
       "      <td>0</td>\n",
       "      <td>10</td>\n",
       "      <td>72983.0</td>\n",
       "      <td></td>\n",
       "      <td></td>\n",
       "      <td></td>\n",
       "      <td>4.176644</td>\n",
       "      <td>1.71221</td>\n",
       "      <td>0.0</td>\n",
       "      <td>3.0</td>\n",
       "      <td>4.0</td>\n",
       "      <td>5.0</td>\n",
       "      <td>9.0</td>\n",
       "    </tr>\n",
       "    <tr>\n",
       "      <th>Make</th>\n",
       "      <td>object</td>\n",
       "      <td>0</td>\n",
       "      <td>33</td>\n",
       "      <td>72983.0</td>\n",
       "      <td>33</td>\n",
       "      <td>CHEVROLET</td>\n",
       "      <td>17248</td>\n",
       "      <td></td>\n",
       "      <td></td>\n",
       "      <td></td>\n",
       "      <td></td>\n",
       "      <td></td>\n",
       "      <td></td>\n",
       "      <td></td>\n",
       "    </tr>\n",
       "    <tr>\n",
       "      <th>Model</th>\n",
       "      <td>object</td>\n",
       "      <td>0</td>\n",
       "      <td>1063</td>\n",
       "      <td>72983.0</td>\n",
       "      <td>1063</td>\n",
       "      <td>PT CRUISER</td>\n",
       "      <td>2329</td>\n",
       "      <td></td>\n",
       "      <td></td>\n",
       "      <td></td>\n",
       "      <td></td>\n",
       "      <td></td>\n",
       "      <td></td>\n",
       "      <td></td>\n",
       "    </tr>\n",
       "    <tr>\n",
       "      <th>Trim</th>\n",
       "      <td>object</td>\n",
       "      <td>2360</td>\n",
       "      <td>134</td>\n",
       "      <td>70623.0</td>\n",
       "      <td>134</td>\n",
       "      <td>Bas</td>\n",
       "      <td>13950</td>\n",
       "      <td></td>\n",
       "      <td></td>\n",
       "      <td></td>\n",
       "      <td></td>\n",
       "      <td></td>\n",
       "      <td></td>\n",
       "      <td></td>\n",
       "    </tr>\n",
       "    <tr>\n",
       "      <th>SubModel</th>\n",
       "      <td>object</td>\n",
       "      <td>8</td>\n",
       "      <td>863</td>\n",
       "      <td>72975.0</td>\n",
       "      <td>863</td>\n",
       "      <td>4D SEDAN</td>\n",
       "      <td>15236</td>\n",
       "      <td></td>\n",
       "      <td></td>\n",
       "      <td></td>\n",
       "      <td></td>\n",
       "      <td></td>\n",
       "      <td></td>\n",
       "      <td></td>\n",
       "    </tr>\n",
       "    <tr>\n",
       "      <th>Color</th>\n",
       "      <td>object</td>\n",
       "      <td>8</td>\n",
       "      <td>16</td>\n",
       "      <td>72975.0</td>\n",
       "      <td>16</td>\n",
       "      <td>SILVER</td>\n",
       "      <td>14875</td>\n",
       "      <td></td>\n",
       "      <td></td>\n",
       "      <td></td>\n",
       "      <td></td>\n",
       "      <td></td>\n",
       "      <td></td>\n",
       "      <td></td>\n",
       "    </tr>\n",
       "    <tr>\n",
       "      <th>Transmission</th>\n",
       "      <td>object</td>\n",
       "      <td>9</td>\n",
       "      <td>3</td>\n",
       "      <td>72974.0</td>\n",
       "      <td>3</td>\n",
       "      <td>AUTO</td>\n",
       "      <td>70398</td>\n",
       "      <td></td>\n",
       "      <td></td>\n",
       "      <td></td>\n",
       "      <td></td>\n",
       "      <td></td>\n",
       "      <td></td>\n",
       "      <td></td>\n",
       "    </tr>\n",
       "    <tr>\n",
       "      <th>WheelTypeID</th>\n",
       "      <td>float64</td>\n",
       "      <td>3169</td>\n",
       "      <td>4</td>\n",
       "      <td>69814.0</td>\n",
       "      <td></td>\n",
       "      <td></td>\n",
       "      <td></td>\n",
       "      <td>1.494299</td>\n",
       "      <td>0.52129</td>\n",
       "      <td>0.0</td>\n",
       "      <td>1.0</td>\n",
       "      <td>1.0</td>\n",
       "      <td>2.0</td>\n",
       "      <td>3.0</td>\n",
       "    </tr>\n",
       "    <tr>\n",
       "      <th>WheelType</th>\n",
       "      <td>object</td>\n",
       "      <td>3174</td>\n",
       "      <td>3</td>\n",
       "      <td>69809.0</td>\n",
       "      <td>3</td>\n",
       "      <td>Alloy</td>\n",
       "      <td>36050</td>\n",
       "      <td></td>\n",
       "      <td></td>\n",
       "      <td></td>\n",
       "      <td></td>\n",
       "      <td></td>\n",
       "      <td></td>\n",
       "      <td></td>\n",
       "    </tr>\n",
       "    <tr>\n",
       "      <th>VehOdo</th>\n",
       "      <td>int64</td>\n",
       "      <td>0</td>\n",
       "      <td>39947</td>\n",
       "      <td>72983.0</td>\n",
       "      <td></td>\n",
       "      <td></td>\n",
       "      <td></td>\n",
       "      <td>71499.995917</td>\n",
       "      <td>14578.913128</td>\n",
       "      <td>4825.0</td>\n",
       "      <td>61837.0</td>\n",
       "      <td>73361.0</td>\n",
       "      <td>82436.0</td>\n",
       "      <td>115717.0</td>\n",
       "    </tr>\n",
       "    <tr>\n",
       "      <th>Nationality</th>\n",
       "      <td>object</td>\n",
       "      <td>5</td>\n",
       "      <td>4</td>\n",
       "      <td>72978.0</td>\n",
       "      <td>4</td>\n",
       "      <td>AMERICAN</td>\n",
       "      <td>61028</td>\n",
       "      <td></td>\n",
       "      <td></td>\n",
       "      <td></td>\n",
       "      <td></td>\n",
       "      <td></td>\n",
       "      <td></td>\n",
       "      <td></td>\n",
       "    </tr>\n",
       "    <tr>\n",
       "      <th>Size</th>\n",
       "      <td>object</td>\n",
       "      <td>5</td>\n",
       "      <td>12</td>\n",
       "      <td>72978.0</td>\n",
       "      <td>12</td>\n",
       "      <td>MEDIUM</td>\n",
       "      <td>30785</td>\n",
       "      <td></td>\n",
       "      <td></td>\n",
       "      <td></td>\n",
       "      <td></td>\n",
       "      <td></td>\n",
       "      <td></td>\n",
       "      <td></td>\n",
       "    </tr>\n",
       "    <tr>\n",
       "      <th>TopThreeAmericanName</th>\n",
       "      <td>object</td>\n",
       "      <td>5</td>\n",
       "      <td>4</td>\n",
       "      <td>72978.0</td>\n",
       "      <td>4</td>\n",
       "      <td>GM</td>\n",
       "      <td>25314</td>\n",
       "      <td></td>\n",
       "      <td></td>\n",
       "      <td></td>\n",
       "      <td></td>\n",
       "      <td></td>\n",
       "      <td></td>\n",
       "      <td></td>\n",
       "    </tr>\n",
       "    <tr>\n",
       "      <th>MMRAcquisitionAuctionAveragePrice</th>\n",
       "      <td>float64</td>\n",
       "      <td>18</td>\n",
       "      <td>10342</td>\n",
       "      <td>72965.0</td>\n",
       "      <td></td>\n",
       "      <td></td>\n",
       "      <td></td>\n",
       "      <td>6128.909217</td>\n",
       "      <td>2461.992768</td>\n",
       "      <td>0.0</td>\n",
       "      <td>4273.0</td>\n",
       "      <td>6097.0</td>\n",
       "      <td>7765.0</td>\n",
       "      <td>35722.0</td>\n",
       "    </tr>\n",
       "    <tr>\n",
       "      <th>MMRAcquisitionAuctionCleanPrice</th>\n",
       "      <td>float64</td>\n",
       "      <td>18</td>\n",
       "      <td>11379</td>\n",
       "      <td>72965.0</td>\n",
       "      <td></td>\n",
       "      <td></td>\n",
       "      <td></td>\n",
       "      <td>7373.636031</td>\n",
       "      <td>2722.491986</td>\n",
       "      <td>0.0</td>\n",
       "      <td>5406.0</td>\n",
       "      <td>7303.0</td>\n",
       "      <td>9021.0</td>\n",
       "      <td>36859.0</td>\n",
       "    </tr>\n",
       "    <tr>\n",
       "      <th>MMRAcquisitionRetailAveragePrice</th>\n",
       "      <td>float64</td>\n",
       "      <td>18</td>\n",
       "      <td>12725</td>\n",
       "      <td>72965.0</td>\n",
       "      <td></td>\n",
       "      <td></td>\n",
       "      <td></td>\n",
       "      <td>8497.034332</td>\n",
       "      <td>3156.285284</td>\n",
       "      <td>0.0</td>\n",
       "      <td>6280.0</td>\n",
       "      <td>8444.0</td>\n",
       "      <td>10651.0</td>\n",
       "      <td>39080.0</td>\n",
       "    </tr>\n",
       "    <tr>\n",
       "      <th>MMRAcquisitonRetailCleanPrice</th>\n",
       "      <td>float64</td>\n",
       "      <td>18</td>\n",
       "      <td>13456</td>\n",
       "      <td>72965.0</td>\n",
       "      <td></td>\n",
       "      <td></td>\n",
       "      <td></td>\n",
       "      <td>9850.92824</td>\n",
       "      <td>3385.789541</td>\n",
       "      <td>0.0</td>\n",
       "      <td>7493.0</td>\n",
       "      <td>9789.0</td>\n",
       "      <td>12088.0</td>\n",
       "      <td>41482.0</td>\n",
       "    </tr>\n",
       "    <tr>\n",
       "      <th>MMRCurrentAuctionAveragePrice</th>\n",
       "      <td>float64</td>\n",
       "      <td>315</td>\n",
       "      <td>10315</td>\n",
       "      <td>72668.0</td>\n",
       "      <td></td>\n",
       "      <td></td>\n",
       "      <td></td>\n",
       "      <td>6132.081287</td>\n",
       "      <td>2434.567723</td>\n",
       "      <td>0.0</td>\n",
       "      <td>4275.0</td>\n",
       "      <td>6062.0</td>\n",
       "      <td>7736.0</td>\n",
       "      <td>35722.0</td>\n",
       "    </tr>\n",
       "    <tr>\n",
       "      <th>MMRCurrentAuctionCleanPrice</th>\n",
       "      <td>float64</td>\n",
       "      <td>315</td>\n",
       "      <td>11265</td>\n",
       "      <td>72668.0</td>\n",
       "      <td></td>\n",
       "      <td></td>\n",
       "      <td></td>\n",
       "      <td>7390.681827</td>\n",
       "      <td>2686.248852</td>\n",
       "      <td>0.0</td>\n",
       "      <td>5414.0</td>\n",
       "      <td>7313.0</td>\n",
       "      <td>9013.0</td>\n",
       "      <td>36859.0</td>\n",
       "    </tr>\n",
       "    <tr>\n",
       "      <th>MMRCurrentRetailAveragePrice</th>\n",
       "      <td>float64</td>\n",
       "      <td>315</td>\n",
       "      <td>12493</td>\n",
       "      <td>72668.0</td>\n",
       "      <td></td>\n",
       "      <td></td>\n",
       "      <td></td>\n",
       "      <td>8775.723331</td>\n",
       "      <td>3090.702941</td>\n",
       "      <td>0.0</td>\n",
       "      <td>6536.0</td>\n",
       "      <td>8729.0</td>\n",
       "      <td>10911.0</td>\n",
       "      <td>39080.0</td>\n",
       "    </tr>\n",
       "    <tr>\n",
       "      <th>MMRCurrentRetailCleanPrice</th>\n",
       "      <td>float64</td>\n",
       "      <td>315</td>\n",
       "      <td>13192</td>\n",
       "      <td>72668.0</td>\n",
       "      <td></td>\n",
       "      <td></td>\n",
       "      <td></td>\n",
       "      <td>10145.385314</td>\n",
       "      <td>3310.254351</td>\n",
       "      <td>0.0</td>\n",
       "      <td>7784.0</td>\n",
       "      <td>10103.0</td>\n",
       "      <td>12309.0</td>\n",
       "      <td>41062.0</td>\n",
       "    </tr>\n",
       "    <tr>\n",
       "      <th>PRIMEUNIT</th>\n",
       "      <td>object</td>\n",
       "      <td>69564</td>\n",
       "      <td>2</td>\n",
       "      <td>3419.0</td>\n",
       "      <td>2</td>\n",
       "      <td>NO</td>\n",
       "      <td>3357</td>\n",
       "      <td></td>\n",
       "      <td></td>\n",
       "      <td></td>\n",
       "      <td></td>\n",
       "      <td></td>\n",
       "      <td></td>\n",
       "      <td></td>\n",
       "    </tr>\n",
       "    <tr>\n",
       "      <th>AUCGUART</th>\n",
       "      <td>object</td>\n",
       "      <td>69564</td>\n",
       "      <td>2</td>\n",
       "      <td>3419.0</td>\n",
       "      <td>2</td>\n",
       "      <td>GREEN</td>\n",
       "      <td>3340</td>\n",
       "      <td></td>\n",
       "      <td></td>\n",
       "      <td></td>\n",
       "      <td></td>\n",
       "      <td></td>\n",
       "      <td></td>\n",
       "      <td></td>\n",
       "    </tr>\n",
       "    <tr>\n",
       "      <th>BYRNO</th>\n",
       "      <td>int64</td>\n",
       "      <td>0</td>\n",
       "      <td>74</td>\n",
       "      <td>72983.0</td>\n",
       "      <td></td>\n",
       "      <td></td>\n",
       "      <td></td>\n",
       "      <td>26345.842155</td>\n",
       "      <td>25717.351219</td>\n",
       "      <td>835.0</td>\n",
       "      <td>17212.0</td>\n",
       "      <td>19662.0</td>\n",
       "      <td>22808.0</td>\n",
       "      <td>99761.0</td>\n",
       "    </tr>\n",
       "    <tr>\n",
       "      <th>VNZIP1</th>\n",
       "      <td>int64</td>\n",
       "      <td>0</td>\n",
       "      <td>153</td>\n",
       "      <td>72983.0</td>\n",
       "      <td></td>\n",
       "      <td></td>\n",
       "      <td></td>\n",
       "      <td>58043.059945</td>\n",
       "      <td>26151.640415</td>\n",
       "      <td>2764.0</td>\n",
       "      <td>32124.0</td>\n",
       "      <td>73108.0</td>\n",
       "      <td>80022.0</td>\n",
       "      <td>99224.0</td>\n",
       "    </tr>\n",
       "    <tr>\n",
       "      <th>VNST</th>\n",
       "      <td>object</td>\n",
       "      <td>0</td>\n",
       "      <td>37</td>\n",
       "      <td>72983.0</td>\n",
       "      <td>37</td>\n",
       "      <td>TX</td>\n",
       "      <td>13596</td>\n",
       "      <td></td>\n",
       "      <td></td>\n",
       "      <td></td>\n",
       "      <td></td>\n",
       "      <td></td>\n",
       "      <td></td>\n",
       "      <td></td>\n",
       "    </tr>\n",
       "    <tr>\n",
       "      <th>VehBCost</th>\n",
       "      <td>float64</td>\n",
       "      <td>0</td>\n",
       "      <td>2072</td>\n",
       "      <td>72983.0</td>\n",
       "      <td></td>\n",
       "      <td></td>\n",
       "      <td></td>\n",
       "      <td>6730.934326</td>\n",
       "      <td>1767.846435</td>\n",
       "      <td>1.0</td>\n",
       "      <td>5435.0</td>\n",
       "      <td>6700.0</td>\n",
       "      <td>7900.0</td>\n",
       "      <td>45469.0</td>\n",
       "    </tr>\n",
       "    <tr>\n",
       "      <th>IsOnlineSale</th>\n",
       "      <td>int64</td>\n",
       "      <td>0</td>\n",
       "      <td>2</td>\n",
       "      <td>72983.0</td>\n",
       "      <td></td>\n",
       "      <td></td>\n",
       "      <td></td>\n",
       "      <td>0.02528</td>\n",
       "      <td>0.156975</td>\n",
       "      <td>0.0</td>\n",
       "      <td>0.0</td>\n",
       "      <td>0.0</td>\n",
       "      <td>0.0</td>\n",
       "      <td>1.0</td>\n",
       "    </tr>\n",
       "    <tr>\n",
       "      <th>WarrantyCost</th>\n",
       "      <td>int64</td>\n",
       "      <td>0</td>\n",
       "      <td>281</td>\n",
       "      <td>72983.0</td>\n",
       "      <td></td>\n",
       "      <td></td>\n",
       "      <td></td>\n",
       "      <td>1276.580985</td>\n",
       "      <td>598.846788</td>\n",
       "      <td>462.0</td>\n",
       "      <td>837.0</td>\n",
       "      <td>1155.0</td>\n",
       "      <td>1623.0</td>\n",
       "      <td>7498.0</td>\n",
       "    </tr>\n",
       "  </tbody>\n",
       "</table>\n",
       "</div>"
      ],
      "text/plain": [
       "                                  Data Type  Missing Values  Unique Values  \\\n",
       "RefId                                 int64               0          72983   \n",
       "IsBadBuy                              int64               0              2   \n",
       "PurchDate                            object               0            517   \n",
       "Auction                              object               0              3   \n",
       "VehYear                               int64               0             10   \n",
       "VehicleAge                            int64               0             10   \n",
       "Make                                 object               0             33   \n",
       "Model                                object               0           1063   \n",
       "Trim                                 object            2360            134   \n",
       "SubModel                             object               8            863   \n",
       "Color                                object               8             16   \n",
       "Transmission                         object               9              3   \n",
       "WheelTypeID                         float64            3169              4   \n",
       "WheelType                            object            3174              3   \n",
       "VehOdo                                int64               0          39947   \n",
       "Nationality                          object               5              4   \n",
       "Size                                 object               5             12   \n",
       "TopThreeAmericanName                 object               5              4   \n",
       "MMRAcquisitionAuctionAveragePrice   float64              18          10342   \n",
       "MMRAcquisitionAuctionCleanPrice     float64              18          11379   \n",
       "MMRAcquisitionRetailAveragePrice    float64              18          12725   \n",
       "MMRAcquisitonRetailCleanPrice       float64              18          13456   \n",
       "MMRCurrentAuctionAveragePrice       float64             315          10315   \n",
       "MMRCurrentAuctionCleanPrice         float64             315          11265   \n",
       "MMRCurrentRetailAveragePrice        float64             315          12493   \n",
       "MMRCurrentRetailCleanPrice          float64             315          13192   \n",
       "PRIMEUNIT                            object           69564              2   \n",
       "AUCGUART                             object           69564              2   \n",
       "BYRNO                                 int64               0             74   \n",
       "VNZIP1                                int64               0            153   \n",
       "VNST                                 object               0             37   \n",
       "VehBCost                            float64               0           2072   \n",
       "IsOnlineSale                          int64               0              2   \n",
       "WarrantyCost                          int64               0            281   \n",
       "\n",
       "                                     count unique         top   freq  \\\n",
       "RefId                              72983.0                             \n",
       "IsBadBuy                           72983.0                             \n",
       "PurchDate                          72983.0    517  11/23/2010    384   \n",
       "Auction                            72983.0      3     MANHEIM  41043   \n",
       "VehYear                            72983.0                             \n",
       "VehicleAge                         72983.0                             \n",
       "Make                               72983.0     33   CHEVROLET  17248   \n",
       "Model                              72983.0   1063  PT CRUISER   2329   \n",
       "Trim                               70623.0    134         Bas  13950   \n",
       "SubModel                           72975.0    863    4D SEDAN  15236   \n",
       "Color                              72975.0     16      SILVER  14875   \n",
       "Transmission                       72974.0      3        AUTO  70398   \n",
       "WheelTypeID                        69814.0                             \n",
       "WheelType                          69809.0      3       Alloy  36050   \n",
       "VehOdo                             72983.0                             \n",
       "Nationality                        72978.0      4    AMERICAN  61028   \n",
       "Size                               72978.0     12      MEDIUM  30785   \n",
       "TopThreeAmericanName               72978.0      4          GM  25314   \n",
       "MMRAcquisitionAuctionAveragePrice  72965.0                             \n",
       "MMRAcquisitionAuctionCleanPrice    72965.0                             \n",
       "MMRAcquisitionRetailAveragePrice   72965.0                             \n",
       "MMRAcquisitonRetailCleanPrice      72965.0                             \n",
       "MMRCurrentAuctionAveragePrice      72668.0                             \n",
       "MMRCurrentAuctionCleanPrice        72668.0                             \n",
       "MMRCurrentRetailAveragePrice       72668.0                             \n",
       "MMRCurrentRetailCleanPrice         72668.0                             \n",
       "PRIMEUNIT                           3419.0      2          NO   3357   \n",
       "AUCGUART                            3419.0      2       GREEN   3340   \n",
       "BYRNO                              72983.0                             \n",
       "VNZIP1                             72983.0                             \n",
       "VNST                               72983.0     37          TX  13596   \n",
       "VehBCost                           72983.0                             \n",
       "IsOnlineSale                       72983.0                             \n",
       "WarrantyCost                       72983.0                             \n",
       "\n",
       "                                           mean           std     min  \\\n",
       "RefId                              36511.428497  21077.241302     1.0   \n",
       "IsBadBuy                               0.122988      0.328425     0.0   \n",
       "PurchDate                                                               \n",
       "Auction                                                                 \n",
       "VehYear                             2005.343052      1.731252  2001.0   \n",
       "VehicleAge                             4.176644       1.71221     0.0   \n",
       "Make                                                                    \n",
       "Model                                                                   \n",
       "Trim                                                                    \n",
       "SubModel                                                                \n",
       "Color                                                                   \n",
       "Transmission                                                            \n",
       "WheelTypeID                            1.494299       0.52129     0.0   \n",
       "WheelType                                                               \n",
       "VehOdo                             71499.995917  14578.913128  4825.0   \n",
       "Nationality                                                             \n",
       "Size                                                                    \n",
       "TopThreeAmericanName                                                    \n",
       "MMRAcquisitionAuctionAveragePrice   6128.909217   2461.992768     0.0   \n",
       "MMRAcquisitionAuctionCleanPrice     7373.636031   2722.491986     0.0   \n",
       "MMRAcquisitionRetailAveragePrice    8497.034332   3156.285284     0.0   \n",
       "MMRAcquisitonRetailCleanPrice        9850.92824   3385.789541     0.0   \n",
       "MMRCurrentAuctionAveragePrice       6132.081287   2434.567723     0.0   \n",
       "MMRCurrentAuctionCleanPrice         7390.681827   2686.248852     0.0   \n",
       "MMRCurrentRetailAveragePrice        8775.723331   3090.702941     0.0   \n",
       "MMRCurrentRetailCleanPrice         10145.385314   3310.254351     0.0   \n",
       "PRIMEUNIT                                                               \n",
       "AUCGUART                                                                \n",
       "BYRNO                              26345.842155  25717.351219   835.0   \n",
       "VNZIP1                             58043.059945  26151.640415  2764.0   \n",
       "VNST                                                                    \n",
       "VehBCost                            6730.934326   1767.846435     1.0   \n",
       "IsOnlineSale                            0.02528      0.156975     0.0   \n",
       "WarrantyCost                        1276.580985    598.846788   462.0   \n",
       "\n",
       "                                       25%      50%      75%       max  \n",
       "RefId                              18257.5  36514.0  54764.5   73014.0  \n",
       "IsBadBuy                               0.0      0.0      0.0       1.0  \n",
       "PurchDate                                                               \n",
       "Auction                                                                 \n",
       "VehYear                             2004.0   2005.0   2007.0    2010.0  \n",
       "VehicleAge                             3.0      4.0      5.0       9.0  \n",
       "Make                                                                    \n",
       "Model                                                                   \n",
       "Trim                                                                    \n",
       "SubModel                                                                \n",
       "Color                                                                   \n",
       "Transmission                                                            \n",
       "WheelTypeID                            1.0      1.0      2.0       3.0  \n",
       "WheelType                                                               \n",
       "VehOdo                             61837.0  73361.0  82436.0  115717.0  \n",
       "Nationality                                                             \n",
       "Size                                                                    \n",
       "TopThreeAmericanName                                                    \n",
       "MMRAcquisitionAuctionAveragePrice   4273.0   6097.0   7765.0   35722.0  \n",
       "MMRAcquisitionAuctionCleanPrice     5406.0   7303.0   9021.0   36859.0  \n",
       "MMRAcquisitionRetailAveragePrice    6280.0   8444.0  10651.0   39080.0  \n",
       "MMRAcquisitonRetailCleanPrice       7493.0   9789.0  12088.0   41482.0  \n",
       "MMRCurrentAuctionAveragePrice       4275.0   6062.0   7736.0   35722.0  \n",
       "MMRCurrentAuctionCleanPrice         5414.0   7313.0   9013.0   36859.0  \n",
       "MMRCurrentRetailAveragePrice        6536.0   8729.0  10911.0   39080.0  \n",
       "MMRCurrentRetailCleanPrice          7784.0  10103.0  12309.0   41062.0  \n",
       "PRIMEUNIT                                                               \n",
       "AUCGUART                                                                \n",
       "BYRNO                              17212.0  19662.0  22808.0   99761.0  \n",
       "VNZIP1                             32124.0  73108.0  80022.0   99224.0  \n",
       "VNST                                                                    \n",
       "VehBCost                            5435.0   6700.0   7900.0   45469.0  \n",
       "IsOnlineSale                           0.0      0.0      0.0       1.0  \n",
       "WarrantyCost                         837.0   1155.0   1623.0    7498.0  "
      ]
     },
     "metadata": {},
     "output_type": "display_data"
    }
   ],
   "source": [
    "summarize_dataframe(df_train)"
   ]
  },
  {
   "cell_type": "markdown",
   "metadata": {},
   "source": [
    "## Engineer features"
   ]
  },
  {
   "cell_type": "markdown",
   "metadata": {},
   "source": [
    "As long as we don't need to use any information other than what we have, we can go ahead and engineer new features on the full training set. Here we will convert PurchDate column from an object (i.e., string) to a formal datetime object in Python."
   ]
  },
  {
   "cell_type": "code",
   "execution_count": 8,
   "metadata": {},
   "outputs": [],
   "source": [
    "df_train['PurchDate'] = pd.to_datetime(df_train['PurchDate'], format='%m/%d/%Y')\n",
    "\n",
    "df_test['PurchDate'] = pd.to_datetime(df_test['PurchDate'], format='%m/%d/%Y')"
   ]
  },
  {
   "cell_type": "markdown",
   "metadata": {},
   "source": [
    "Instead of using the variable directly, we will engineer two new features based on the purchase date: month and year."
   ]
  },
  {
   "cell_type": "code",
   "execution_count": 9,
   "metadata": {},
   "outputs": [],
   "source": [
    "df_train['Month'] = df_train['PurchDate'].dt.month\n",
    "df_train['Year'] = df_train['PurchDate'].dt.year\n",
    "\n",
    "df_test['Month'] = df_test['PurchDate'].dt.month\n",
    "df_test['Year'] = df_test['PurchDate'].dt.year"
   ]
  },
  {
   "cell_type": "markdown",
   "metadata": {},
   "source": [
    "Note that any feature engineering that can't be done with only a single row of data (i.e. you need the mean of a whole column), should only be done after splitting."
   ]
  },
  {
   "cell_type": "markdown",
   "metadata": {},
   "source": [
    "## Split Into Training and Validation"
   ]
  },
  {
   "cell_type": "markdown",
   "metadata": {},
   "source": [
    "Now we will split the train dataset into a smaller training and a validation set, as is best practice."
   ]
  },
  {
   "cell_type": "code",
   "execution_count": 10,
   "metadata": {},
   "outputs": [],
   "source": [
    "df_smaller_train, df_validation = train_test_split(df_train, test_size = 0.25, random_state = 201)"
   ]
  },
  {
   "cell_type": "markdown",
   "metadata": {},
   "source": [
    "There is a bug that gives a warning later on in the code which you can fix by making copies of the above dataframe. This step is unnecessary, but it avoids showing a warning, so I'm going to include it."
   ]
  },
  {
   "cell_type": "code",
   "execution_count": 11,
   "metadata": {},
   "outputs": [],
   "source": [
    "df_smaller_train = df_smaller_train.copy()\n",
    "df_validation = df_validation.copy()"
   ]
  },
  {
   "cell_type": "markdown",
   "metadata": {},
   "source": [
    "## Imputing Missing Values"
   ]
  },
  {
   "cell_type": "markdown",
   "metadata": {},
   "source": [
    "We see that we have a lot of missing values among both continuous and categorical variables. We've seen how to impute missing values for continuous variables several times before. We generally take the mean of the data that is there, and then fill in the missing values with that mean. However, this may not always be the best option depending on the data, particularly if the fact that the data is missing is likely to be meaningful."
   ]
  },
  {
   "cell_type": "code",
   "execution_count": 12,
   "metadata": {},
   "outputs": [],
   "source": [
    "continuous_imputer = SimpleImputer(missing_values=np.nan, strategy='mean')"
   ]
  },
  {
   "cell_type": "markdown",
   "metadata": {},
   "source": [
    "Imputing over categorical variables is challenging for three reasons. First, there are two equally reasonable ways to fill in missing values; you can either replace the missing values with the most common value in a category (for example \"SILVER\" is the most common value for `Color` in this dataset, for any missing values in the dataset, you would replace it with silver), or you can replace the value with some value that indicates it is missing (like the word \"MISSING\") and treat that like another category. The first method assumes that data is just accidentally missing, while the second assumes that there is something meaningful in it missing, which seems to be more common for categorical data than continuous data. As we've seen before `WheelTypeID` very much falls into this latter category.\n",
    "\n",
    "The second way in which categorical variables are challenging is that often times there are many, many values for a categorical variable, which means that there are very few data points associated with each category. A good example of this is `Model` for which there are `1063` unique values. The models with few observations are unlikely to be predictive, but we may still want to include the models with lots of observations and then lump everything else into an \"Other\" category. We also may want to do this either by the percentage of the dataset (e.g. any category that is less than 10% of the data should be lumped in other) or by the number of samples in the dataset (e.g. any category that has fewer than 1000 samples should be lumped in \"Other\").\n",
    "\n",
    "The third reason that we imputing is challenging for categorical data is that the test set may have categories that we have never seen before. For example, if a new model car comes out, and we are trying to use model to predict the probability of `IsBadBuy`, then we won't have that model in the data we trained on. The simplest way to handle this is by lumping any of these observations into an \"Other\" category."
   ]
  },
  {
   "cell_type": "markdown",
   "metadata": {},
   "source": [
    "Unfortunately, there is not any pre-packaged transformer that will do all of these things for us. Fortunately, it's not hard to write a custom transformer that will do all of these things for us. I have done so below. Note that you do not need to understand how I wrote this. It will be sufficient to know how to use it."
   ]
  },
  {
   "cell_type": "code",
   "execution_count": 13,
   "metadata": {},
   "outputs": [],
   "source": [
    "from sklearn.base import BaseEstimator, TransformerMixin\n",
    "\n",
    "class CategoricalImputer(BaseEstimator, TransformerMixin):\n",
    "    \"\"\"\n",
    "    Custom defined imputer for categorical data. This allows you to specify an \n",
    "    other class where any category that doesn't meet the requirements necessary to\n",
    "    be in \n",
    "    \"\"\"\n",
    "    \n",
    "    def __init__(self, other_threshold=0, \n",
    "                 other_label=\"OTHER\",\n",
    "                 missing_first=True,\n",
    "                 missing_values=np.nan, \n",
    "                 strategy='constant', \n",
    "                 fill_value=\"MISSING\", \n",
    "                 copy=True, \n",
    "                 add_indicator=False):\n",
    "        self.add_indicator = add_indicator\n",
    "        self.copy=copy\n",
    "        self.fill_value=fill_value\n",
    "        self.missing_first=missing_first\n",
    "        self.missing_values=missing_values\n",
    "        self.other_label=other_label\n",
    "        self.other_threshold=other_threshold\n",
    "        self.strategy=strategy\n",
    "        if hasattr(missing_values, \"__iter__\"):\n",
    "            self.missing_values = missing_values\n",
    "        else:\n",
    "            self.missing_values = [missing_values]\n",
    "        self._imputer = SimpleImputer(missing_values=missing_values, strategy=strategy, fill_value=fill_value, copy=copy, add_indicator=False)\n",
    "        self._column_categories = {}\n",
    "\n",
    "        \n",
    "    def fit(self, X, y=None):\n",
    "        if type(self.other_threshold) == int or type(self.other_threshold) == float:\n",
    "            other_threshold = [self.other_threshold]*len(X.columns)\n",
    "        elif len(self.other_threshold) == len(X.columns):\n",
    "            other_threshold = self.other_threshold\n",
    "        else:\n",
    "            raise TypeError(\"other_threshold must be either a single number or a list of numbers equal to the number of columns.\")\n",
    "\n",
    "        i = 0\n",
    "        X = X.copy()\n",
    "        X = X[:].astype(object)\n",
    "        if self.missing_first:\n",
    "            X = pd.DataFrame(self._imputer.fit_transform(X), columns=X.columns, index=X.index)\n",
    "        column_categories = {}\n",
    "        for column in X.columns:\n",
    "            if other_threshold[i] < 1:\n",
    "                other_threshold[i] = other_threshold[i]*X[column].shape[0]\n",
    "            \n",
    "            value_counts = X[column].value_counts()\n",
    "            categories = [category for category in value_counts.index if value_counts.loc[category] >= other_threshold[i]]\n",
    "            if value_counts.iloc[-1] >= other_threshold[i]:\n",
    "                categories[-1] = self.other_label\n",
    "            else:\n",
    "                categories.append(self.other_label)\n",
    "            \n",
    "            self._column_categories[column] = categories\n",
    "            i = i + 1\n",
    "        \n",
    "        return self\n",
    "    \n",
    "    def transform(self, X, y=None):\n",
    "        X = X.copy()\n",
    "        X = X[:].astype(object)\n",
    "        if self.missing_first:\n",
    "            X = pd.DataFrame(self._imputer.fit_transform(X), columns=X.columns, index=X.index)\n",
    "        for column in X.columns:\n",
    "            X.loc[~X[column].isin(self._column_categories[column]) & ~X[column].isin(self.missing_values), column] = self.other_label\n",
    "        return pd.DataFrame(self._imputer.fit_transform(X), columns=X.columns, index=X.index)[:].astype(str)"
   ]
  },
  {
   "cell_type": "markdown",
   "metadata": {},
   "source": [
    "While the above block of text may look intimidating, you really do not need to understand the actual code. You should know how to use the code, and if you want to use this function in a different notebook, you should just copy and paste the above block of code."
   ]
  },
  {
   "cell_type": "markdown",
   "metadata": {},
   "source": [
    "To use `CategoricalImputer` you don't necessarily need to specify anything. If you just use it as follows:\n",
    "\n",
    "```python\n",
    "imputer=CategoricalImputer()\n",
    "imputer.fit(X[[\"Categorical Column 1\", \"Categorical Column 2\"]])\n",
    "imputer.transform(X[[\"Categorical Column 1\", \"Categorical Column 2\"]])\n",
    "```\n",
    "\n",
    "it will just replace all missing values (`np.nan`) with the word \"MISSING\". However, you can specify a few other helpful items:\n",
    "  * `other_threshold`: This will set the threshold for which if there are any categories below the threshold, it will replace them with the word \"OTHER. If you specify a number between 0 and 1, it will be interpreted as a fraction of the full data (so .1 will mean that the category has to make up at least 10% of the data to be included, otherwise it becomes \"OTHER\"). If you specify an integer, it will indicate the absolute number of rows that have to have that category (e.g. 1000 means that 1000 rows have to have that category or it gets grouped with \"OTHER\"). You can also specify a list that is as long as the number of columns you have (so if you are imputing over three columns, you need a list with three items), and the threshold for the column will correspond to the threshold in the same place in the list. **By default this is `0`.**\n",
    "  * `other_label`: This sets the label for the other category. **By default this is `\"OTHER\"`.**\n",
    "  * `missing_first`: If this is `True`, then missing values are imputed first and then the missing category is treated like any other category. This means that if the number of missing observations is below the threshold, it will be lumped into \"OTHER\". If this is `False`, then missing values will be imputed at the end, so you will know which values were missing even if there were only a few. **By default this is `True`.**\n",
    "\n",
    "Finally, you can set all imputer values just like the `SimpleImputer` function where the documentation is [here](https://scikit-learn.org/stable/modules/generated/sklearn.impute.SimpleImputer.html). The defaults are `missing_values=np.nan, strategy='constant', fill_value=\"MISSING\"`, which are generally reasonable for a categorical problem, but you may need to change things if a) your data already has a \"MISSING\" category, b) if your missing values are not indicated by `np.nan`, or c) you can replace `strategy='constant'` with `strategy='most_frequent'` if you would rather use the most frequent category to fill in.\n",
    "\n",
    "This imputer will also set the least common class the value of `other_label` (by default \"OTHER\"). This allows any values that are in the test data, but not the training data to also be assigned to this \"OTHER\" category."
   ]
  },
  {
   "cell_type": "code",
   "execution_count": 14,
   "metadata": {},
   "outputs": [],
   "source": [
    "categorical_imputer = CategoricalImputer(other_threshold=.01)"
   ]
  },
  {
   "cell_type": "markdown",
   "metadata": {},
   "source": [
    "I find that it is very helpful to print the list of the columns names and then organize the column names into two lists, one of continuous variables and one of categorical variables. If you print the list first, you can copy and paste in order to avoid any accidental typos."
   ]
  },
  {
   "cell_type": "code",
   "execution_count": 15,
   "metadata": {},
   "outputs": [
    {
     "data": {
      "text/plain": [
       "['RefId',\n",
       " 'IsBadBuy',\n",
       " 'PurchDate',\n",
       " 'Auction',\n",
       " 'VehYear',\n",
       " 'VehicleAge',\n",
       " 'Make',\n",
       " 'Model',\n",
       " 'Trim',\n",
       " 'SubModel',\n",
       " 'Color',\n",
       " 'Transmission',\n",
       " 'WheelTypeID',\n",
       " 'WheelType',\n",
       " 'VehOdo',\n",
       " 'Nationality',\n",
       " 'Size',\n",
       " 'TopThreeAmericanName',\n",
       " 'MMRAcquisitionAuctionAveragePrice',\n",
       " 'MMRAcquisitionAuctionCleanPrice',\n",
       " 'MMRAcquisitionRetailAveragePrice',\n",
       " 'MMRAcquisitonRetailCleanPrice',\n",
       " 'MMRCurrentAuctionAveragePrice',\n",
       " 'MMRCurrentAuctionCleanPrice',\n",
       " 'MMRCurrentRetailAveragePrice',\n",
       " 'MMRCurrentRetailCleanPrice',\n",
       " 'PRIMEUNIT',\n",
       " 'AUCGUART',\n",
       " 'BYRNO',\n",
       " 'VNZIP1',\n",
       " 'VNST',\n",
       " 'VehBCost',\n",
       " 'IsOnlineSale',\n",
       " 'WarrantyCost',\n",
       " 'Month',\n",
       " 'Year']"
      ]
     },
     "execution_count": 15,
     "metadata": {},
     "output_type": "execute_result"
    }
   ],
   "source": [
    "list(df_smaller_train.columns)"
   ]
  },
  {
   "cell_type": "markdown",
   "metadata": {},
   "source": [
    "Now we can figure out what is a categorical feature and what is a continuous feature and split them out. Note I have left out `IsBadBuy` because that is the target variable, and I've left out `PurchDate` and `RefId` because they will never repeat and we can't really use it to build a model."
   ]
  },
  {
   "cell_type": "code",
   "execution_count": 16,
   "metadata": {},
   "outputs": [],
   "source": [
    "continuous_features = ['VehicleAge', 'VehOdo', 'MMRAcquisitionAuctionAveragePrice', 'MMRAcquisitionAuctionCleanPrice',\n",
    "                       'MMRAcquisitionRetailAveragePrice', 'MMRAcquisitonRetailCleanPrice',\n",
    "                       'MMRCurrentAuctionAveragePrice', 'MMRCurrentAuctionCleanPrice',\n",
    "                       'MMRCurrentRetailAveragePrice', 'MMRCurrentRetailCleanPrice', 'VehBCost', 'WarrantyCost']\n",
    "categorical_features = ['Auction', 'VehYear', 'Make', 'Model', 'Trim', 'SubModel', 'Color', \n",
    "                        'Transmission', 'WheelTypeID', 'WheelType', 'Nationality', \n",
    "                        'Size', 'TopThreeAmericanName', 'PRIMEUNIT', 'AUCGUART', \n",
    "                        'BYRNO', 'VNZIP1', 'VNST', 'IsOnlineSale', 'Month', 'Year']"
   ]
  },
  {
   "cell_type": "markdown",
   "metadata": {},
   "source": [
    "Then we can impute the columns all in one fell swoop."
   ]
  },
  {
   "cell_type": "code",
   "execution_count": 17,
   "metadata": {},
   "outputs": [],
   "source": [
    "continuous_imputer.fit(df_smaller_train[continuous_features])\n",
    "df_smaller_train.loc[:, continuous_features] = continuous_imputer.transform(df_smaller_train[continuous_features])\n",
    "df_validation.loc[:, continuous_features] = continuous_imputer.transform(df_validation[continuous_features])\n",
    "df_test.loc[:, continuous_features] = continuous_imputer.transform(df_test[continuous_features])"
   ]
  },
  {
   "cell_type": "code",
   "execution_count": 18,
   "metadata": {},
   "outputs": [],
   "source": [
    "categorical_imputer.fit(df_smaller_train[categorical_features])\n",
    "df_smaller_train.loc[:, categorical_features] = categorical_imputer.transform(df_smaller_train[categorical_features])\n",
    "df_validation.loc[:, categorical_features] = categorical_imputer.transform(df_validation[categorical_features])\n",
    "df_test.loc[:, categorical_features] = categorical_imputer.transform(df_test[categorical_features])"
   ]
  },
  {
   "cell_type": "code",
   "execution_count": 19,
   "metadata": {},
   "outputs": [
    {
     "data": {
      "text/html": [
       "<div>\n",
       "<style scoped>\n",
       "    .dataframe tbody tr th:only-of-type {\n",
       "        vertical-align: middle;\n",
       "    }\n",
       "\n",
       "    .dataframe tbody tr th {\n",
       "        vertical-align: top;\n",
       "    }\n",
       "\n",
       "    .dataframe thead th {\n",
       "        text-align: right;\n",
       "    }\n",
       "</style>\n",
       "<table border=\"1\" class=\"dataframe\">\n",
       "  <thead>\n",
       "    <tr style=\"text-align: right;\">\n",
       "      <th></th>\n",
       "      <th>Data Type</th>\n",
       "      <th>Missing Values</th>\n",
       "      <th>Unique Values</th>\n",
       "      <th>count</th>\n",
       "      <th>unique</th>\n",
       "      <th>top</th>\n",
       "      <th>freq</th>\n",
       "      <th>mean</th>\n",
       "      <th>min</th>\n",
       "      <th>25%</th>\n",
       "      <th>50%</th>\n",
       "      <th>75%</th>\n",
       "      <th>max</th>\n",
       "      <th>std</th>\n",
       "    </tr>\n",
       "  </thead>\n",
       "  <tbody>\n",
       "    <tr>\n",
       "      <th>RefId</th>\n",
       "      <td>int64</td>\n",
       "      <td>0</td>\n",
       "      <td>54737</td>\n",
       "      <td>54737.0</td>\n",
       "      <td></td>\n",
       "      <td></td>\n",
       "      <td></td>\n",
       "      <td>36551.075105</td>\n",
       "      <td>2.0</td>\n",
       "      <td>18307.0</td>\n",
       "      <td>36610.0</td>\n",
       "      <td>54804.0</td>\n",
       "      <td>73012.0</td>\n",
       "      <td>21089.487147</td>\n",
       "    </tr>\n",
       "    <tr>\n",
       "      <th>IsBadBuy</th>\n",
       "      <td>int64</td>\n",
       "      <td>0</td>\n",
       "      <td>2</td>\n",
       "      <td>54737.0</td>\n",
       "      <td></td>\n",
       "      <td></td>\n",
       "      <td></td>\n",
       "      <td>0.12255</td>\n",
       "      <td>0.0</td>\n",
       "      <td>0.0</td>\n",
       "      <td>0.0</td>\n",
       "      <td>0.0</td>\n",
       "      <td>1.0</td>\n",
       "      <td>0.327923</td>\n",
       "    </tr>\n",
       "    <tr>\n",
       "      <th>PurchDate</th>\n",
       "      <td>datetime64[ns]</td>\n",
       "      <td>0</td>\n",
       "      <td>516</td>\n",
       "      <td>54737.0</td>\n",
       "      <td></td>\n",
       "      <td></td>\n",
       "      <td></td>\n",
       "      <td>2010-01-10 16:29:11.561101312</td>\n",
       "      <td>2009-01-05 00:00:00</td>\n",
       "      <td>2009-07-21 00:00:00</td>\n",
       "      <td>2010-01-21 00:00:00</td>\n",
       "      <td>2010-07-14 00:00:00</td>\n",
       "      <td>2010-12-30 00:00:00</td>\n",
       "      <td></td>\n",
       "    </tr>\n",
       "    <tr>\n",
       "      <th>Auction</th>\n",
       "      <td>object</td>\n",
       "      <td>0</td>\n",
       "      <td>2</td>\n",
       "      <td>54737.0</td>\n",
       "      <td>2</td>\n",
       "      <td>MANHEIM</td>\n",
       "      <td>30752</td>\n",
       "      <td></td>\n",
       "      <td></td>\n",
       "      <td></td>\n",
       "      <td></td>\n",
       "      <td></td>\n",
       "      <td></td>\n",
       "      <td></td>\n",
       "    </tr>\n",
       "    <tr>\n",
       "      <th>VehYear</th>\n",
       "      <td>object</td>\n",
       "      <td>0</td>\n",
       "      <td>10</td>\n",
       "      <td>54737.0</td>\n",
       "      <td>10</td>\n",
       "      <td>2006</td>\n",
       "      <td>12830</td>\n",
       "      <td></td>\n",
       "      <td></td>\n",
       "      <td></td>\n",
       "      <td></td>\n",
       "      <td></td>\n",
       "      <td></td>\n",
       "      <td></td>\n",
       "    </tr>\n",
       "    <tr>\n",
       "      <th>VehicleAge</th>\n",
       "      <td>int64</td>\n",
       "      <td>0</td>\n",
       "      <td>10</td>\n",
       "      <td>54737.0</td>\n",
       "      <td></td>\n",
       "      <td></td>\n",
       "      <td></td>\n",
       "      <td>4.174672</td>\n",
       "      <td>0.0</td>\n",
       "      <td>3.0</td>\n",
       "      <td>4.0</td>\n",
       "      <td>5.0</td>\n",
       "      <td>9.0</td>\n",
       "      <td>1.705836</td>\n",
       "    </tr>\n",
       "    <tr>\n",
       "      <th>Make</th>\n",
       "      <td>object</td>\n",
       "      <td>0</td>\n",
       "      <td>17</td>\n",
       "      <td>54737.0</td>\n",
       "      <td>17</td>\n",
       "      <td>CHEVROLET</td>\n",
       "      <td>12912</td>\n",
       "      <td></td>\n",
       "      <td></td>\n",
       "      <td></td>\n",
       "      <td></td>\n",
       "      <td></td>\n",
       "      <td></td>\n",
       "      <td></td>\n",
       "    </tr>\n",
       "    <tr>\n",
       "      <th>Model</th>\n",
       "      <td>object</td>\n",
       "      <td>0</td>\n",
       "      <td>18</td>\n",
       "      <td>54737.0</td>\n",
       "      <td>18</td>\n",
       "      <td>OTHER</td>\n",
       "      <td>39123</td>\n",
       "      <td></td>\n",
       "      <td></td>\n",
       "      <td></td>\n",
       "      <td></td>\n",
       "      <td></td>\n",
       "      <td></td>\n",
       "      <td></td>\n",
       "    </tr>\n",
       "    <tr>\n",
       "      <th>Trim</th>\n",
       "      <td>object</td>\n",
       "      <td>0</td>\n",
       "      <td>21</td>\n",
       "      <td>54737.0</td>\n",
       "      <td>21</td>\n",
       "      <td>Bas</td>\n",
       "      <td>10488</td>\n",
       "      <td></td>\n",
       "      <td></td>\n",
       "      <td></td>\n",
       "      <td></td>\n",
       "      <td></td>\n",
       "      <td></td>\n",
       "      <td></td>\n",
       "    </tr>\n",
       "    <tr>\n",
       "      <th>SubModel</th>\n",
       "      <td>object</td>\n",
       "      <td>0</td>\n",
       "      <td>14</td>\n",
       "      <td>54737.0</td>\n",
       "      <td>14</td>\n",
       "      <td>OTHER</td>\n",
       "      <td>28099</td>\n",
       "      <td></td>\n",
       "      <td></td>\n",
       "      <td></td>\n",
       "      <td></td>\n",
       "      <td></td>\n",
       "      <td></td>\n",
       "      <td></td>\n",
       "    </tr>\n",
       "    <tr>\n",
       "      <th>Color</th>\n",
       "      <td>object</td>\n",
       "      <td>0</td>\n",
       "      <td>11</td>\n",
       "      <td>54737.0</td>\n",
       "      <td>11</td>\n",
       "      <td>SILVER</td>\n",
       "      <td>11193</td>\n",
       "      <td></td>\n",
       "      <td></td>\n",
       "      <td></td>\n",
       "      <td></td>\n",
       "      <td></td>\n",
       "      <td></td>\n",
       "      <td></td>\n",
       "    </tr>\n",
       "    <tr>\n",
       "      <th>Transmission</th>\n",
       "      <td>object</td>\n",
       "      <td>0</td>\n",
       "      <td>3</td>\n",
       "      <td>54737.0</td>\n",
       "      <td>3</td>\n",
       "      <td>AUTO</td>\n",
       "      <td>52775</td>\n",
       "      <td></td>\n",
       "      <td></td>\n",
       "      <td></td>\n",
       "      <td></td>\n",
       "      <td></td>\n",
       "      <td></td>\n",
       "      <td></td>\n",
       "    </tr>\n",
       "    <tr>\n",
       "      <th>WheelTypeID</th>\n",
       "      <td>object</td>\n",
       "      <td>0</td>\n",
       "      <td>5</td>\n",
       "      <td>54737.0</td>\n",
       "      <td>5</td>\n",
       "      <td>1.0</td>\n",
       "      <td>26977</td>\n",
       "      <td></td>\n",
       "      <td></td>\n",
       "      <td></td>\n",
       "      <td></td>\n",
       "      <td></td>\n",
       "      <td></td>\n",
       "      <td></td>\n",
       "    </tr>\n",
       "    <tr>\n",
       "      <th>WheelType</th>\n",
       "      <td>object</td>\n",
       "      <td>0</td>\n",
       "      <td>4</td>\n",
       "      <td>54737.0</td>\n",
       "      <td>4</td>\n",
       "      <td>Alloy</td>\n",
       "      <td>26977</td>\n",
       "      <td></td>\n",
       "      <td></td>\n",
       "      <td></td>\n",
       "      <td></td>\n",
       "      <td></td>\n",
       "      <td></td>\n",
       "      <td></td>\n",
       "    </tr>\n",
       "    <tr>\n",
       "      <th>VehOdo</th>\n",
       "      <td>int64</td>\n",
       "      <td>0</td>\n",
       "      <td>34120</td>\n",
       "      <td>54737.0</td>\n",
       "      <td></td>\n",
       "      <td></td>\n",
       "      <td></td>\n",
       "      <td>71468.210406</td>\n",
       "      <td>5368.0</td>\n",
       "      <td>61809.0</td>\n",
       "      <td>73370.0</td>\n",
       "      <td>82419.0</td>\n",
       "      <td>114184.0</td>\n",
       "      <td>14604.099691</td>\n",
       "    </tr>\n",
       "    <tr>\n",
       "      <th>Nationality</th>\n",
       "      <td>object</td>\n",
       "      <td>0</td>\n",
       "      <td>4</td>\n",
       "      <td>54737.0</td>\n",
       "      <td>4</td>\n",
       "      <td>AMERICAN</td>\n",
       "      <td>45733</td>\n",
       "      <td></td>\n",
       "      <td></td>\n",
       "      <td></td>\n",
       "      <td></td>\n",
       "      <td></td>\n",
       "      <td></td>\n",
       "      <td></td>\n",
       "    </tr>\n",
       "    <tr>\n",
       "      <th>Size</th>\n",
       "      <td>object</td>\n",
       "      <td>0</td>\n",
       "      <td>12</td>\n",
       "      <td>54737.0</td>\n",
       "      <td>12</td>\n",
       "      <td>MEDIUM</td>\n",
       "      <td>23102</td>\n",
       "      <td></td>\n",
       "      <td></td>\n",
       "      <td></td>\n",
       "      <td></td>\n",
       "      <td></td>\n",
       "      <td></td>\n",
       "      <td></td>\n",
       "    </tr>\n",
       "    <tr>\n",
       "      <th>TopThreeAmericanName</th>\n",
       "      <td>object</td>\n",
       "      <td>0</td>\n",
       "      <td>4</td>\n",
       "      <td>54737.0</td>\n",
       "      <td>4</td>\n",
       "      <td>GM</td>\n",
       "      <td>18950</td>\n",
       "      <td></td>\n",
       "      <td></td>\n",
       "      <td></td>\n",
       "      <td></td>\n",
       "      <td></td>\n",
       "      <td></td>\n",
       "      <td></td>\n",
       "    </tr>\n",
       "    <tr>\n",
       "      <th>MMRAcquisitionAuctionAveragePrice</th>\n",
       "      <td>float64</td>\n",
       "      <td>0</td>\n",
       "      <td>9834</td>\n",
       "      <td>54737.0</td>\n",
       "      <td></td>\n",
       "      <td></td>\n",
       "      <td></td>\n",
       "      <td>6127.508772</td>\n",
       "      <td>0.0</td>\n",
       "      <td>4281.0</td>\n",
       "      <td>6095.0</td>\n",
       "      <td>7761.0</td>\n",
       "      <td>35722.0</td>\n",
       "      <td>2461.969087</td>\n",
       "    </tr>\n",
       "    <tr>\n",
       "      <th>MMRAcquisitionAuctionCleanPrice</th>\n",
       "      <td>float64</td>\n",
       "      <td>0</td>\n",
       "      <td>10724</td>\n",
       "      <td>54737.0</td>\n",
       "      <td></td>\n",
       "      <td></td>\n",
       "      <td></td>\n",
       "      <td>7373.545868</td>\n",
       "      <td>0.0</td>\n",
       "      <td>5414.0</td>\n",
       "      <td>7301.0</td>\n",
       "      <td>9015.0</td>\n",
       "      <td>36859.0</td>\n",
       "      <td>2723.607987</td>\n",
       "    </tr>\n",
       "    <tr>\n",
       "      <th>MMRAcquisitionRetailAveragePrice</th>\n",
       "      <td>float64</td>\n",
       "      <td>0</td>\n",
       "      <td>11980</td>\n",
       "      <td>54737.0</td>\n",
       "      <td></td>\n",
       "      <td></td>\n",
       "      <td></td>\n",
       "      <td>8496.36605</td>\n",
       "      <td>0.0</td>\n",
       "      <td>6286.0</td>\n",
       "      <td>8447.0</td>\n",
       "      <td>10649.0</td>\n",
       "      <td>39080.0</td>\n",
       "      <td>3157.823086</td>\n",
       "    </tr>\n",
       "    <tr>\n",
       "      <th>MMRAcquisitonRetailCleanPrice</th>\n",
       "      <td>float64</td>\n",
       "      <td>0</td>\n",
       "      <td>12606</td>\n",
       "      <td>54737.0</td>\n",
       "      <td></td>\n",
       "      <td></td>\n",
       "      <td></td>\n",
       "      <td>9852.08916</td>\n",
       "      <td>0.0</td>\n",
       "      <td>7500.0</td>\n",
       "      <td>9796.0</td>\n",
       "      <td>12089.0</td>\n",
       "      <td>41482.0</td>\n",
       "      <td>3388.277761</td>\n",
       "    </tr>\n",
       "    <tr>\n",
       "      <th>MMRCurrentAuctionAveragePrice</th>\n",
       "      <td>float64</td>\n",
       "      <td>0</td>\n",
       "      <td>9739</td>\n",
       "      <td>54737.0</td>\n",
       "      <td></td>\n",
       "      <td></td>\n",
       "      <td></td>\n",
       "      <td>6130.981249</td>\n",
       "      <td>0.0</td>\n",
       "      <td>4291.0</td>\n",
       "      <td>6076.0</td>\n",
       "      <td>7728.0</td>\n",
       "      <td>35722.0</td>\n",
       "      <td>2425.863067</td>\n",
       "    </tr>\n",
       "    <tr>\n",
       "      <th>MMRCurrentAuctionCleanPrice</th>\n",
       "      <td>float64</td>\n",
       "      <td>0</td>\n",
       "      <td>10581</td>\n",
       "      <td>54737.0</td>\n",
       "      <td></td>\n",
       "      <td></td>\n",
       "      <td></td>\n",
       "      <td>7390.583975</td>\n",
       "      <td>0.0</td>\n",
       "      <td>5433.0</td>\n",
       "      <td>7325.0</td>\n",
       "      <td>9004.0</td>\n",
       "      <td>36859.0</td>\n",
       "      <td>2677.997397</td>\n",
       "    </tr>\n",
       "    <tr>\n",
       "      <th>MMRCurrentRetailAveragePrice</th>\n",
       "      <td>float64</td>\n",
       "      <td>0</td>\n",
       "      <td>11720</td>\n",
       "      <td>54737.0</td>\n",
       "      <td></td>\n",
       "      <td></td>\n",
       "      <td></td>\n",
       "      <td>8775.679693</td>\n",
       "      <td>0.0</td>\n",
       "      <td>6558.0</td>\n",
       "      <td>8754.0</td>\n",
       "      <td>10893.0</td>\n",
       "      <td>39080.0</td>\n",
       "      <td>3080.389118</td>\n",
       "    </tr>\n",
       "    <tr>\n",
       "      <th>MMRCurrentRetailCleanPrice</th>\n",
       "      <td>float64</td>\n",
       "      <td>0</td>\n",
       "      <td>12285</td>\n",
       "      <td>54737.0</td>\n",
       "      <td></td>\n",
       "      <td></td>\n",
       "      <td></td>\n",
       "      <td>10146.748459</td>\n",
       "      <td>0.0</td>\n",
       "      <td>7803.0</td>\n",
       "      <td>10114.0</td>\n",
       "      <td>12308.0</td>\n",
       "      <td>41062.0</td>\n",
       "      <td>3300.075476</td>\n",
       "    </tr>\n",
       "    <tr>\n",
       "      <th>PRIMEUNIT</th>\n",
       "      <td>object</td>\n",
       "      <td>0</td>\n",
       "      <td>3</td>\n",
       "      <td>54737.0</td>\n",
       "      <td>3</td>\n",
       "      <td>MISSING</td>\n",
       "      <td>52157</td>\n",
       "      <td></td>\n",
       "      <td></td>\n",
       "      <td></td>\n",
       "      <td></td>\n",
       "      <td></td>\n",
       "      <td></td>\n",
       "      <td></td>\n",
       "    </tr>\n",
       "    <tr>\n",
       "      <th>AUCGUART</th>\n",
       "      <td>object</td>\n",
       "      <td>0</td>\n",
       "      <td>3</td>\n",
       "      <td>54737.0</td>\n",
       "      <td>3</td>\n",
       "      <td>MISSING</td>\n",
       "      <td>52157</td>\n",
       "      <td></td>\n",
       "      <td></td>\n",
       "      <td></td>\n",
       "      <td></td>\n",
       "      <td></td>\n",
       "      <td></td>\n",
       "      <td></td>\n",
       "    </tr>\n",
       "    <tr>\n",
       "      <th>BYRNO</th>\n",
       "      <td>object</td>\n",
       "      <td>0</td>\n",
       "      <td>32</td>\n",
       "      <td>54737.0</td>\n",
       "      <td>32</td>\n",
       "      <td>OTHER</td>\n",
       "      <td>3763</td>\n",
       "      <td></td>\n",
       "      <td></td>\n",
       "      <td></td>\n",
       "      <td></td>\n",
       "      <td></td>\n",
       "      <td></td>\n",
       "      <td></td>\n",
       "    </tr>\n",
       "    <tr>\n",
       "      <th>VNZIP1</th>\n",
       "      <td>object</td>\n",
       "      <td>0</td>\n",
       "      <td>35</td>\n",
       "      <td>54737.0</td>\n",
       "      <td>35</td>\n",
       "      <td>OTHER</td>\n",
       "      <td>16269</td>\n",
       "      <td></td>\n",
       "      <td></td>\n",
       "      <td></td>\n",
       "      <td></td>\n",
       "      <td></td>\n",
       "      <td></td>\n",
       "      <td></td>\n",
       "    </tr>\n",
       "    <tr>\n",
       "      <th>VNST</th>\n",
       "      <td>object</td>\n",
       "      <td>0</td>\n",
       "      <td>17</td>\n",
       "      <td>54737.0</td>\n",
       "      <td>17</td>\n",
       "      <td>TX</td>\n",
       "      <td>10203</td>\n",
       "      <td></td>\n",
       "      <td></td>\n",
       "      <td></td>\n",
       "      <td></td>\n",
       "      <td></td>\n",
       "      <td></td>\n",
       "      <td></td>\n",
       "    </tr>\n",
       "    <tr>\n",
       "      <th>VehBCost</th>\n",
       "      <td>float64</td>\n",
       "      <td>0</td>\n",
       "      <td>1989</td>\n",
       "      <td>54737.0</td>\n",
       "      <td></td>\n",
       "      <td></td>\n",
       "      <td></td>\n",
       "      <td>6731.68977</td>\n",
       "      <td>1.0</td>\n",
       "      <td>5435.0</td>\n",
       "      <td>6705.0</td>\n",
       "      <td>7900.0</td>\n",
       "      <td>45469.0</td>\n",
       "      <td>1771.444583</td>\n",
       "    </tr>\n",
       "    <tr>\n",
       "      <th>IsOnlineSale</th>\n",
       "      <td>object</td>\n",
       "      <td>0</td>\n",
       "      <td>2</td>\n",
       "      <td>54737.0</td>\n",
       "      <td>2</td>\n",
       "      <td>0</td>\n",
       "      <td>53364</td>\n",
       "      <td></td>\n",
       "      <td></td>\n",
       "      <td></td>\n",
       "      <td></td>\n",
       "      <td></td>\n",
       "      <td></td>\n",
       "      <td></td>\n",
       "    </tr>\n",
       "    <tr>\n",
       "      <th>WarrantyCost</th>\n",
       "      <td>int64</td>\n",
       "      <td>0</td>\n",
       "      <td>275</td>\n",
       "      <td>54737.0</td>\n",
       "      <td></td>\n",
       "      <td></td>\n",
       "      <td></td>\n",
       "      <td>1275.742788</td>\n",
       "      <td>462.0</td>\n",
       "      <td>837.0</td>\n",
       "      <td>1155.0</td>\n",
       "      <td>1623.0</td>\n",
       "      <td>7498.0</td>\n",
       "      <td>596.970028</td>\n",
       "    </tr>\n",
       "    <tr>\n",
       "      <th>Month</th>\n",
       "      <td>object</td>\n",
       "      <td>0</td>\n",
       "      <td>12</td>\n",
       "      <td>54737.0</td>\n",
       "      <td>12</td>\n",
       "      <td>10</td>\n",
       "      <td>5393</td>\n",
       "      <td></td>\n",
       "      <td></td>\n",
       "      <td></td>\n",
       "      <td></td>\n",
       "      <td></td>\n",
       "      <td></td>\n",
       "      <td></td>\n",
       "    </tr>\n",
       "    <tr>\n",
       "      <th>Year</th>\n",
       "      <td>object</td>\n",
       "      <td>0</td>\n",
       "      <td>2</td>\n",
       "      <td>54737.0</td>\n",
       "      <td>2</td>\n",
       "      <td>2010</td>\n",
       "      <td>28464</td>\n",
       "      <td></td>\n",
       "      <td></td>\n",
       "      <td></td>\n",
       "      <td></td>\n",
       "      <td></td>\n",
       "      <td></td>\n",
       "      <td></td>\n",
       "    </tr>\n",
       "  </tbody>\n",
       "</table>\n",
       "</div>"
      ],
      "text/plain": [
       "                                        Data Type  Missing Values  \\\n",
       "RefId                                       int64               0   \n",
       "IsBadBuy                                    int64               0   \n",
       "PurchDate                          datetime64[ns]               0   \n",
       "Auction                                    object               0   \n",
       "VehYear                                    object               0   \n",
       "VehicleAge                                  int64               0   \n",
       "Make                                       object               0   \n",
       "Model                                      object               0   \n",
       "Trim                                       object               0   \n",
       "SubModel                                   object               0   \n",
       "Color                                      object               0   \n",
       "Transmission                               object               0   \n",
       "WheelTypeID                                object               0   \n",
       "WheelType                                  object               0   \n",
       "VehOdo                                      int64               0   \n",
       "Nationality                                object               0   \n",
       "Size                                       object               0   \n",
       "TopThreeAmericanName                       object               0   \n",
       "MMRAcquisitionAuctionAveragePrice         float64               0   \n",
       "MMRAcquisitionAuctionCleanPrice           float64               0   \n",
       "MMRAcquisitionRetailAveragePrice          float64               0   \n",
       "MMRAcquisitonRetailCleanPrice             float64               0   \n",
       "MMRCurrentAuctionAveragePrice             float64               0   \n",
       "MMRCurrentAuctionCleanPrice               float64               0   \n",
       "MMRCurrentRetailAveragePrice              float64               0   \n",
       "MMRCurrentRetailCleanPrice                float64               0   \n",
       "PRIMEUNIT                                  object               0   \n",
       "AUCGUART                                   object               0   \n",
       "BYRNO                                      object               0   \n",
       "VNZIP1                                     object               0   \n",
       "VNST                                       object               0   \n",
       "VehBCost                                  float64               0   \n",
       "IsOnlineSale                               object               0   \n",
       "WarrantyCost                                int64               0   \n",
       "Month                                      object               0   \n",
       "Year                                       object               0   \n",
       "\n",
       "                                   Unique Values    count unique        top  \\\n",
       "RefId                                      54737  54737.0                     \n",
       "IsBadBuy                                       2  54737.0                     \n",
       "PurchDate                                    516  54737.0                     \n",
       "Auction                                        2  54737.0      2    MANHEIM   \n",
       "VehYear                                       10  54737.0     10       2006   \n",
       "VehicleAge                                    10  54737.0                     \n",
       "Make                                          17  54737.0     17  CHEVROLET   \n",
       "Model                                         18  54737.0     18      OTHER   \n",
       "Trim                                          21  54737.0     21        Bas   \n",
       "SubModel                                      14  54737.0     14      OTHER   \n",
       "Color                                         11  54737.0     11     SILVER   \n",
       "Transmission                                   3  54737.0      3       AUTO   \n",
       "WheelTypeID                                    5  54737.0      5        1.0   \n",
       "WheelType                                      4  54737.0      4      Alloy   \n",
       "VehOdo                                     34120  54737.0                     \n",
       "Nationality                                    4  54737.0      4   AMERICAN   \n",
       "Size                                          12  54737.0     12     MEDIUM   \n",
       "TopThreeAmericanName                           4  54737.0      4         GM   \n",
       "MMRAcquisitionAuctionAveragePrice           9834  54737.0                     \n",
       "MMRAcquisitionAuctionCleanPrice            10724  54737.0                     \n",
       "MMRAcquisitionRetailAveragePrice           11980  54737.0                     \n",
       "MMRAcquisitonRetailCleanPrice              12606  54737.0                     \n",
       "MMRCurrentAuctionAveragePrice               9739  54737.0                     \n",
       "MMRCurrentAuctionCleanPrice                10581  54737.0                     \n",
       "MMRCurrentRetailAveragePrice               11720  54737.0                     \n",
       "MMRCurrentRetailCleanPrice                 12285  54737.0                     \n",
       "PRIMEUNIT                                      3  54737.0      3    MISSING   \n",
       "AUCGUART                                       3  54737.0      3    MISSING   \n",
       "BYRNO                                         32  54737.0     32      OTHER   \n",
       "VNZIP1                                        35  54737.0     35      OTHER   \n",
       "VNST                                          17  54737.0     17         TX   \n",
       "VehBCost                                    1989  54737.0                     \n",
       "IsOnlineSale                                   2  54737.0      2          0   \n",
       "WarrantyCost                                 275  54737.0                     \n",
       "Month                                         12  54737.0     12         10   \n",
       "Year                                           2  54737.0      2       2010   \n",
       "\n",
       "                                    freq                           mean  \\\n",
       "RefId                                                      36551.075105   \n",
       "IsBadBuy                                                        0.12255   \n",
       "PurchDate                                 2010-01-10 16:29:11.561101312   \n",
       "Auction                            30752                                  \n",
       "VehYear                            12830                                  \n",
       "VehicleAge                                                     4.174672   \n",
       "Make                               12912                                  \n",
       "Model                              39123                                  \n",
       "Trim                               10488                                  \n",
       "SubModel                           28099                                  \n",
       "Color                              11193                                  \n",
       "Transmission                       52775                                  \n",
       "WheelTypeID                        26977                                  \n",
       "WheelType                          26977                                  \n",
       "VehOdo                                                     71468.210406   \n",
       "Nationality                        45733                                  \n",
       "Size                               23102                                  \n",
       "TopThreeAmericanName               18950                                  \n",
       "MMRAcquisitionAuctionAveragePrice                           6127.508772   \n",
       "MMRAcquisitionAuctionCleanPrice                             7373.545868   \n",
       "MMRAcquisitionRetailAveragePrice                             8496.36605   \n",
       "MMRAcquisitonRetailCleanPrice                                9852.08916   \n",
       "MMRCurrentAuctionAveragePrice                               6130.981249   \n",
       "MMRCurrentAuctionCleanPrice                                 7390.583975   \n",
       "MMRCurrentRetailAveragePrice                                8775.679693   \n",
       "MMRCurrentRetailCleanPrice                                 10146.748459   \n",
       "PRIMEUNIT                          52157                                  \n",
       "AUCGUART                           52157                                  \n",
       "BYRNO                               3763                                  \n",
       "VNZIP1                             16269                                  \n",
       "VNST                               10203                                  \n",
       "VehBCost                                                     6731.68977   \n",
       "IsOnlineSale                       53364                                  \n",
       "WarrantyCost                                                1275.742788   \n",
       "Month                               5393                                  \n",
       "Year                               28464                                  \n",
       "\n",
       "                                                   min                  25%  \\\n",
       "RefId                                              2.0              18307.0   \n",
       "IsBadBuy                                           0.0                  0.0   \n",
       "PurchDate                          2009-01-05 00:00:00  2009-07-21 00:00:00   \n",
       "Auction                                                                       \n",
       "VehYear                                                                       \n",
       "VehicleAge                                         0.0                  3.0   \n",
       "Make                                                                          \n",
       "Model                                                                         \n",
       "Trim                                                                          \n",
       "SubModel                                                                      \n",
       "Color                                                                         \n",
       "Transmission                                                                  \n",
       "WheelTypeID                                                                   \n",
       "WheelType                                                                     \n",
       "VehOdo                                          5368.0              61809.0   \n",
       "Nationality                                                                   \n",
       "Size                                                                          \n",
       "TopThreeAmericanName                                                          \n",
       "MMRAcquisitionAuctionAveragePrice                  0.0               4281.0   \n",
       "MMRAcquisitionAuctionCleanPrice                    0.0               5414.0   \n",
       "MMRAcquisitionRetailAveragePrice                   0.0               6286.0   \n",
       "MMRAcquisitonRetailCleanPrice                      0.0               7500.0   \n",
       "MMRCurrentAuctionAveragePrice                      0.0               4291.0   \n",
       "MMRCurrentAuctionCleanPrice                        0.0               5433.0   \n",
       "MMRCurrentRetailAveragePrice                       0.0               6558.0   \n",
       "MMRCurrentRetailCleanPrice                         0.0               7803.0   \n",
       "PRIMEUNIT                                                                     \n",
       "AUCGUART                                                                      \n",
       "BYRNO                                                                         \n",
       "VNZIP1                                                                        \n",
       "VNST                                                                          \n",
       "VehBCost                                           1.0               5435.0   \n",
       "IsOnlineSale                                                                  \n",
       "WarrantyCost                                     462.0                837.0   \n",
       "Month                                                                         \n",
       "Year                                                                          \n",
       "\n",
       "                                                   50%                  75%  \\\n",
       "RefId                                          36610.0              54804.0   \n",
       "IsBadBuy                                           0.0                  0.0   \n",
       "PurchDate                          2010-01-21 00:00:00  2010-07-14 00:00:00   \n",
       "Auction                                                                       \n",
       "VehYear                                                                       \n",
       "VehicleAge                                         4.0                  5.0   \n",
       "Make                                                                          \n",
       "Model                                                                         \n",
       "Trim                                                                          \n",
       "SubModel                                                                      \n",
       "Color                                                                         \n",
       "Transmission                                                                  \n",
       "WheelTypeID                                                                   \n",
       "WheelType                                                                     \n",
       "VehOdo                                         73370.0              82419.0   \n",
       "Nationality                                                                   \n",
       "Size                                                                          \n",
       "TopThreeAmericanName                                                          \n",
       "MMRAcquisitionAuctionAveragePrice               6095.0               7761.0   \n",
       "MMRAcquisitionAuctionCleanPrice                 7301.0               9015.0   \n",
       "MMRAcquisitionRetailAveragePrice                8447.0              10649.0   \n",
       "MMRAcquisitonRetailCleanPrice                   9796.0              12089.0   \n",
       "MMRCurrentAuctionAveragePrice                   6076.0               7728.0   \n",
       "MMRCurrentAuctionCleanPrice                     7325.0               9004.0   \n",
       "MMRCurrentRetailAveragePrice                    8754.0              10893.0   \n",
       "MMRCurrentRetailCleanPrice                     10114.0              12308.0   \n",
       "PRIMEUNIT                                                                     \n",
       "AUCGUART                                                                      \n",
       "BYRNO                                                                         \n",
       "VNZIP1                                                                        \n",
       "VNST                                                                          \n",
       "VehBCost                                        6705.0               7900.0   \n",
       "IsOnlineSale                                                                  \n",
       "WarrantyCost                                    1155.0               1623.0   \n",
       "Month                                                                         \n",
       "Year                                                                          \n",
       "\n",
       "                                                   max           std  \n",
       "RefId                                          73012.0  21089.487147  \n",
       "IsBadBuy                                           1.0      0.327923  \n",
       "PurchDate                          2010-12-30 00:00:00                \n",
       "Auction                                                               \n",
       "VehYear                                                               \n",
       "VehicleAge                                         9.0      1.705836  \n",
       "Make                                                                  \n",
       "Model                                                                 \n",
       "Trim                                                                  \n",
       "SubModel                                                              \n",
       "Color                                                                 \n",
       "Transmission                                                          \n",
       "WheelTypeID                                                           \n",
       "WheelType                                                             \n",
       "VehOdo                                        114184.0  14604.099691  \n",
       "Nationality                                                           \n",
       "Size                                                                  \n",
       "TopThreeAmericanName                                                  \n",
       "MMRAcquisitionAuctionAveragePrice              35722.0   2461.969087  \n",
       "MMRAcquisitionAuctionCleanPrice                36859.0   2723.607987  \n",
       "MMRAcquisitionRetailAveragePrice               39080.0   3157.823086  \n",
       "MMRAcquisitonRetailCleanPrice                  41482.0   3388.277761  \n",
       "MMRCurrentAuctionAveragePrice                  35722.0   2425.863067  \n",
       "MMRCurrentAuctionCleanPrice                    36859.0   2677.997397  \n",
       "MMRCurrentRetailAveragePrice                   39080.0   3080.389118  \n",
       "MMRCurrentRetailCleanPrice                     41062.0   3300.075476  \n",
       "PRIMEUNIT                                                             \n",
       "AUCGUART                                                              \n",
       "BYRNO                                                                 \n",
       "VNZIP1                                                                \n",
       "VNST                                                                  \n",
       "VehBCost                                       45469.0   1771.444583  \n",
       "IsOnlineSale                                                          \n",
       "WarrantyCost                                    7498.0    596.970028  \n",
       "Month                                                                 \n",
       "Year                                                                  "
      ]
     },
     "metadata": {},
     "output_type": "display_data"
    }
   ],
   "source": [
    "summarize_dataframe(df_smaller_train)"
   ]
  },
  {
   "cell_type": "markdown",
   "metadata": {},
   "source": [
    "## Evaluation of Binary Prediction Problems"
   ]
  },
  {
   "cell_type": "markdown",
   "metadata": {},
   "source": [
    "Ultimately, the goal is to predict whether or not a car is a bad buy. The most straightforward evaluation of a model would be to determine how many times a car is labeled a bad buy (a good buy), that is a `1` (`0`), and it actually is a bad buy (good buy) versus when it is not."
   ]
  },
  {
   "cell_type": "markdown",
   "metadata": {},
   "source": [
    "As we discuss some different ways to evaluate a binary classification model, we will use a naive forecast for whether or not a car is a bad buy. Specifically, we will predict that the probability of a car being a bad buy is equal to the proportion of cars in the training data that are bad buys. As we saw from the summary of the data above, about $12\\%$ of cars in the training data are bad buys, so we can predict that for any given car, there is a $12\\%$ chance that it is a bad buy. We will create this prediction as a baseline and call it the `naive` prediction."
   ]
  },
  {
   "cell_type": "code",
   "execution_count": 20,
   "metadata": {},
   "outputs": [],
   "source": [
    "naive = np.repeat(np.mean(df_smaller_train['IsBadBuy']), len(df_validation['IsBadBuy']))"
   ]
  },
  {
   "cell_type": "markdown",
   "metadata": {},
   "source": [
    "However, if we want to predict whether or not a specific car is actually a bad buy, and not just the probability that it is, we have to go further then the naive prediction. A natural way to accomplish this is to set a threshold where if the probability that a car is a bad buy is higher than a threshold, we will predict that it is a bad buy. In practice, this would mean that we would not purchase the car to sell at Carvana. If the probability is lower than the threshold, we would predict that it is a good buy. We can do that with the following code that will turn our naive probabilies into a concrete prediction."
   ]
  },
  {
   "cell_type": "code",
   "execution_count": 21,
   "metadata": {},
   "outputs": [],
   "source": [
    "threshold = .5\n",
    "naive_predictions = naive > threshold"
   ]
  },
  {
   "cell_type": "markdown",
   "metadata": {},
   "source": [
    "Above, we set the threshold at $50\\%$, but you could set the threshold to any number between $0$ and $1$. Note that this implies that we are predicting that all the cars are good buys, since we predict that the probability for any car in our data set to be a bad buy is about $12\\%$."
   ]
  },
  {
   "cell_type": "markdown",
   "metadata": {},
   "source": [
    "In binary classification, we call the label with a `1` the _positive class_ and the label with a `0` the _negative class_. Given this, we can compute the following primitives:\n",
    "\n",
    "- **True Positive (TP)**: The number of times that we predicted positive and the actual value was positive.\n",
    "- **True Negative (TN)**: The number of times that we predicted negative and the actual value was negative.\n",
    "- **False Positive (FP)**: The number of times that we predicted positive and the actual value was negative.\n",
    "- **False Negative (FN)**: The number of times that we predicted negative and the actual value was positive."
   ]
  },
  {
   "cell_type": "markdown",
   "metadata": {},
   "source": [
    "We can visualize the above numbers with a **confusion matrix**. A confusion matrix is a graphical way to show how many TP, TN, FP, and FN are in any prediction. We can plot that easily in python with the below code."
   ]
  },
  {
   "cell_type": "code",
   "execution_count": 22,
   "metadata": {},
   "outputs": [
    {
     "data": {
      "image/png": "[encoded data removed]",
      "text/plain": [
       "<Figure size 1100x1100 with 2 Axes>"
      ]
     },
     "metadata": {},
     "output_type": "display_data"
    }
   ],
   "source": [
    "predictions = naive_predictions\n",
    "\n",
    "disp = ConfusionMatrixDisplay(confusion_matrix(df_validation['IsBadBuy'], predictions))\n",
    "disp.plot()\n",
    "plt.xticks(rotation=45, horizontalalignment='right')\n",
    "plt.show()"
   ]
  },
  {
   "cell_type": "markdown",
   "metadata": {},
   "source": [
    "As we can see, we always predict a $0$, so there are no TP or FP. There are $6,078$ FN and $48,029$ TN."
   ]
  },
  {
   "cell_type": "markdown",
   "metadata": {},
   "source": [
    "While the confusion matrix gives us a way to see how many of each class we are predicting correctly (or incorrectly), it is not easy to compare one model to another with a confusion matrix directly. We can use the primitives above to compute the most common metrics for classification in order to compare models more directly and succinctly:\n",
    "\n",
    "- **precision**: When this refers to the positive class, this metric answers the question, \"What proportion of predicted positives are actually positive?\" This can be computed as $TP/(TP + FP)$. Similarly, if we are referring to the models performance on the negative class, we can compute this as $TN/(TN + FN)$.\n",
    "- **recall**: When this refers to the positive class, this metric answers the question, \"What proportion of actual positives are correctly classified?\" This can be computed as $TP/(TP + FN)$. Similarly, if we are referring to the models performance on the negative class, we can compute this as $TN/(TN + FP)$.\n",
    "- **f1-score**: The goal of this metric is to give a combined score for both precision and recall at the same time. We could just average the precision and recall scores, but that turns out to have some serious problems. Instead, we use the _harmonic mean_ which basically puts more weight on lower numbers. The calculation is just $2(precision * recall)/(precision + recall)$.\n",
    "- **accuracy**: This is a metric that answers the question, \"What percentage of the time did we get the right answer (positive or negative)?\" It can be computed as $(TP + TN)/(TP + TN + FP + FN) = (TP + TN)/(\\text{\\# of Samples})$.\n",
    "\n",
    "However, we really want to combine these scores to come up with a total score for our model. The natural approach is to just average the scores (for example _precision_) across both the positive and negative classes. This is called a _macro_ average. Alternatively, we can weight the scores by the proportion of the samples we have seen that have that class. This is called the _weighted_ average."
   ]
  },
  {
   "cell_type": "markdown",
   "metadata": {},
   "source": [
    "Computing these all individually would be a bit tedious, but fortunately, there is a very simple function called `classification_report` that will compute the precision, recall, and f1-score for all classes as well as computing the macro and weighted averages. It will also compute the accuracy over all the classes as well."
   ]
  },
  {
   "cell_type": "code",
   "execution_count": 23,
   "metadata": {},
   "outputs": [
    {
     "name": "stdout",
     "output_type": "stream",
     "text": [
      "              precision    recall  f1-score   support\n",
      "\n",
      "           0       0.88      1.00      0.93     15978\n",
      "           1       0.00      0.00      0.00      2268\n",
      "\n",
      "    accuracy                           0.88     18246\n",
      "   macro avg       0.44      0.50      0.47     18246\n",
      "weighted avg       0.77      0.88      0.82     18246\n",
      "\n"
     ]
    }
   ],
   "source": [
    "print(classification_report(df_validation['IsBadBuy'], naive_predictions, zero_division=0))"
   ]
  },
  {
   "cell_type": "markdown",
   "metadata": {},
   "source": [
    "NOTE: We have to include the additional parameter `zero_division = 0` because we never predict the positive class and that means we would divide by 0 for the precision metric for the positve class. This parameter says return 0 for that score when that happens."
   ]
  },
  {
   "cell_type": "markdown",
   "metadata": {},
   "source": [
    "One of the big issues with the above metrics is that they rely on a particular threshold chosen. If you go back to the code where we chose the threshold and instead set it to something below $12\\%$, the metrics will change entirely. It would be better to be able to compare models, irrespective of threshold. For this, we can use the **area under the reciever operating characteristic curve**, more commonly referred to as **AUC**. A brief explanation of AUC can be found at the answer to the stack exchange question [here](https://stats.stackexchange.com/questions/132777/what-does-auc-stand-for-and-what-is-it).\n",
    "\n",
    "The **receiver operating characteristic curve** (or **ROC**) is a curve that plots the false positive rate (calculated as $FP/(FP + TN)$) against the true positive rate (calculated as $TP/(TP + FN)$, i.e. the recall for the positive class) for any given threshold chosen. This takes in the predicted *probabilities* and varies the threshold to draw out the line. To see this, it is helpful to imagine what the true positive rate and the false positive rate would be if we set the threshold to $0$. If the threshold is $0$, then we will label all examples as positives. This will mean that our true positive rate will be $1$ since there will be no false negatives because we do not predict any negatives. Similarly, the false positive rate will also be $1$ since there will be no true negatives for the same reason.\n",
    "\n",
    "Similarly, if we set the threshold to $1$, we will predict that every example is a negative class. This will lead to a false positive rate of $0$, since we do not predict any positives we do not have any false positives. The true positive rate will also be $0$ since the number of true positives will be $0$.\n",
    "\n",
    "Given the above two points on the curve, we can imagine connecting them as we vary the threshold. We can plot the ROC for the naive prediction below."
   ]
  },
  {
   "cell_type": "code",
   "execution_count": 24,
   "metadata": {},
   "outputs": [
    {
     "data": {
      "image/png": "[encoded data removed]",
      "text/plain": [
       "<Figure size 1100x1100 with 1 Axes>"
      ]
     },
     "metadata": {},
     "output_type": "display_data"
    }
   ],
   "source": [
    "RocCurveDisplay.from_predictions(df_validation['IsBadBuy'], naive)\n",
    "plt.show()"
   ]
  },
  {
   "cell_type": "markdown",
   "metadata": {},
   "source": [
    "The naive prediction has a very bad AUC; the plot shows the AUC is .5. Can it get worse?\n",
    "\n",
    "The hope would be that as we lower the threshold from $1$ (i.e. starting at a true positive and false positive rate of $0$) that the true positive rate would increase significantly faster than the false positive rate, leading to a curve that is bowed towards the upper left. We will look for that when we have more complicated models. The AUC will measure the amount of the this bowing by measuing the total area under the above. What is the maximum for the AUC?"
   ]
  },
  {
   "cell_type": "markdown",
   "metadata": {},
   "source": [
    "For the Carvana challenge, Kaggle uses something a little different. Specifically, it uses a scaled version of the normalized Gini index. The normalized Gini index is `2*AUC - 1`.\n",
    "\n",
    "The Kaggle competition uses a non-standard calculation of the Gini index. It takes the normal Gini index, and it multiplies it by `0.4639`. The exact reason for this was never revealed, but a [discussion](https://www.kaggle.com/c/DontGetKicked/discussion/937) on the metric with a Kaggle staff member confirmed this was the case for the competition."
   ]
  },
  {
   "cell_type": "code",
   "execution_count": 25,
   "metadata": {},
   "outputs": [],
   "source": [
    "def Kaggle_Gini_Index(realizations, predictions):\n",
    "    this_score = 0.43639 * (2 * roc_auc_score(realizations, predictions) - 1)\n",
    "    return this_score"
   ]
  },
  {
   "cell_type": "markdown",
   "metadata": {},
   "source": [
    "Below we compute the score for the *naive* forecast for both the Kaggle Gini index and the AUC."
   ]
  },
  {
   "cell_type": "code",
   "execution_count": 26,
   "metadata": {},
   "outputs": [
    {
     "data": {
      "text/plain": [
       "0.0"
      ]
     },
     "execution_count": 26,
     "metadata": {},
     "output_type": "execute_result"
    }
   ],
   "source": [
    "Kaggle_Gini_Index(df_validation['IsBadBuy'], naive)"
   ]
  },
  {
   "cell_type": "code",
   "execution_count": 27,
   "metadata": {},
   "outputs": [
    {
     "data": {
      "text/plain": [
       "0.5"
      ]
     },
     "execution_count": 27,
     "metadata": {},
     "output_type": "execute_result"
    }
   ],
   "source": [
    "roc_auc_score(df_validation['IsBadBuy'], naive)"
   ]
  },
  {
   "cell_type": "markdown",
   "metadata": {},
   "source": [
    "## Linear Model Feature Engineering"
   ]
  },
  {
   "cell_type": "markdown",
   "metadata": {},
   "source": [
    "As we have seen, linear models like lasso, ridge, or logistic regression typically require different kinds of features to be engineered from the variables. For example, we have seen that dummy variables are necessary in linear models, but not strictly necessary in tree based models (like regression trees and random forests). Additionally, interaction variables are the only way to get at certain effects in linear models, but tree based models can learn them directly. Another difference is with linear models you need to be more careful about is over-specifying the training data, i.e. if you have dummy variables you need to drop one column or the model is overspecified.\n",
    "\n",
    "Therefore, it will be useful to do feature selection and feature engineering separately for the two classes of models. Luckily `dmatrices` is a function that is very good at setting up data for a linear model. While we've used this a number of times before, [this](https://patsy.readthedocs.io/en/latest/formulas.html#) link about how formulas work may be very helpful in constructing more complicated features including interactions and transformations."
   ]
  },
  {
   "cell_type": "markdown",
   "metadata": {},
   "source": [
    "We will start by specifying the formula we are going to use to generate our data. Again, refer to the link above for a refresher on how formulas work."
   ]
  },
  {
   "cell_type": "code",
   "execution_count": 28,
   "metadata": {},
   "outputs": [],
   "source": [
    "formula_linear = 'IsBadBuy ~ Auction + VehYear + standardize(VehOdo) + WheelTypeID + Year + Size + Transmission + standardize(VehOdo)*Transmission'"
   ]
  },
  {
   "cell_type": "markdown",
   "metadata": {},
   "source": [
    "We by default have added seven variables, and an interaction term. The five variables are `Auction`, `VehYear`, `VehOdo`, `WheelTypeID`, `Year`, `Size`,  and `Transmission`. Then we interact `VehOdo` and `Transmission` with `VehOdo*Transmission`. Note that we use the `standardize()` function for `VehOdo` both by itself and in the interaction. Standardizing continuous variables can significantly improve the performance of a regularized regression model, and it's generally recommended. There is no need to standardize dummy variables, and all of the other variables currently in the formula are dummy variables.\n",
    "\n",
    "Another useful aspect of standardizing variables is in interpreting coefficients. If we don't standardize, then variables with larger variance (like `VehOdo`) will necessarily have smaller coefficients because the number that multiplies the coefficients is just larger. Once all variables have been rescaled to have mean 0 and standard deviation of 1, we can say that the effect of one unit deviation from average is just the coefficient, which makes all the coefficients comparable.\n",
    "\n",
    "Let's check to make sure our formula looks right (remember you have to get variable names exactly right, case and spelling are important!)."
   ]
  },
  {
   "cell_type": "code",
   "execution_count": 29,
   "metadata": {},
   "outputs": [
    {
     "data": {
      "text/plain": [
       "'IsBadBuy ~ Auction + VehYear + standardize(VehOdo) + WheelTypeID + Year + Size + Transmission + standardize(VehOdo)*Transmission'"
      ]
     },
     "execution_count": 29,
     "metadata": {},
     "output_type": "execute_result"
    }
   ],
   "source": [
    "formula_linear"
   ]
  },
  {
   "cell_type": "markdown",
   "metadata": {},
   "source": [
    "Now we can build our X and y to train our model."
   ]
  },
  {
   "cell_type": "code",
   "execution_count": 30,
   "metadata": {},
   "outputs": [],
   "source": [
    "y_logit_train, X_logit_train = dmatrices(formula_linear, df_smaller_train, return_type=\"dataframe\")"
   ]
  },
  {
   "cell_type": "markdown",
   "metadata": {},
   "source": [
    "Let's look at what it made."
   ]
  },
  {
   "cell_type": "code",
   "execution_count": 31,
   "metadata": {},
   "outputs": [
    {
     "data": {
      "text/html": [
       "<div>\n",
       "<style scoped>\n",
       "    .dataframe tbody tr th:only-of-type {\n",
       "        vertical-align: middle;\n",
       "    }\n",
       "\n",
       "    .dataframe tbody tr th {\n",
       "        vertical-align: top;\n",
       "    }\n",
       "\n",
       "    .dataframe thead th {\n",
       "        text-align: right;\n",
       "    }\n",
       "</style>\n",
       "<table border=\"1\" class=\"dataframe\">\n",
       "  <thead>\n",
       "    <tr style=\"text-align: right;\">\n",
       "      <th></th>\n",
       "      <th>IsBadBuy</th>\n",
       "    </tr>\n",
       "  </thead>\n",
       "  <tbody>\n",
       "    <tr>\n",
       "      <th>64267</th>\n",
       "      <td>1.0</td>\n",
       "    </tr>\n",
       "    <tr>\n",
       "      <th>42527</th>\n",
       "      <td>0.0</td>\n",
       "    </tr>\n",
       "    <tr>\n",
       "      <th>67750</th>\n",
       "      <td>0.0</td>\n",
       "    </tr>\n",
       "    <tr>\n",
       "      <th>61339</th>\n",
       "      <td>0.0</td>\n",
       "    </tr>\n",
       "    <tr>\n",
       "      <th>71991</th>\n",
       "      <td>0.0</td>\n",
       "    </tr>\n",
       "    <tr>\n",
       "      <th>...</th>\n",
       "      <td>...</td>\n",
       "    </tr>\n",
       "    <tr>\n",
       "      <th>34659</th>\n",
       "      <td>0.0</td>\n",
       "    </tr>\n",
       "    <tr>\n",
       "      <th>27607</th>\n",
       "      <td>0.0</td>\n",
       "    </tr>\n",
       "    <tr>\n",
       "      <th>33269</th>\n",
       "      <td>0.0</td>\n",
       "    </tr>\n",
       "    <tr>\n",
       "      <th>25444</th>\n",
       "      <td>0.0</td>\n",
       "    </tr>\n",
       "    <tr>\n",
       "      <th>55808</th>\n",
       "      <td>0.0</td>\n",
       "    </tr>\n",
       "  </tbody>\n",
       "</table>\n",
       "<p>54737 rows × 1 columns</p>\n",
       "</div>"
      ],
      "text/plain": [
       "       IsBadBuy\n",
       "64267       1.0\n",
       "42527       0.0\n",
       "67750       0.0\n",
       "61339       0.0\n",
       "71991       0.0\n",
       "...         ...\n",
       "34659       0.0\n",
       "27607       0.0\n",
       "33269       0.0\n",
       "25444       0.0\n",
       "55808       0.0\n",
       "\n",
       "[54737 rows x 1 columns]"
      ]
     },
     "execution_count": 31,
     "metadata": {},
     "output_type": "execute_result"
    }
   ],
   "source": [
    "y_logit_train"
   ]
  },
  {
   "cell_type": "code",
   "execution_count": 32,
   "metadata": {},
   "outputs": [
    {
     "data": {
      "text/html": [
       "<div>\n",
       "<style scoped>\n",
       "    .dataframe tbody tr th:only-of-type {\n",
       "        vertical-align: middle;\n",
       "    }\n",
       "\n",
       "    .dataframe tbody tr th {\n",
       "        vertical-align: top;\n",
       "    }\n",
       "\n",
       "    .dataframe thead th {\n",
       "        text-align: right;\n",
       "    }\n",
       "</style>\n",
       "<table border=\"1\" class=\"dataframe\">\n",
       "  <thead>\n",
       "    <tr style=\"text-align: right;\">\n",
       "      <th></th>\n",
       "      <th>Intercept</th>\n",
       "      <th>Auction[T.OTHER]</th>\n",
       "      <th>VehYear[T.2002]</th>\n",
       "      <th>VehYear[T.2003]</th>\n",
       "      <th>VehYear[T.2004]</th>\n",
       "      <th>VehYear[T.2005]</th>\n",
       "      <th>VehYear[T.2006]</th>\n",
       "      <th>VehYear[T.2007]</th>\n",
       "      <th>VehYear[T.2008]</th>\n",
       "      <th>VehYear[T.2009]</th>\n",
       "      <th>VehYear[T.OTHER]</th>\n",
       "      <th>WheelTypeID[T.2.0]</th>\n",
       "      <th>WheelTypeID[T.3.0]</th>\n",
       "      <th>WheelTypeID[T.MISSING]</th>\n",
       "      <th>WheelTypeID[T.OTHER]</th>\n",
       "      <th>Year[T.OTHER]</th>\n",
       "      <th>Size[T.CROSSOVER]</th>\n",
       "      <th>Size[T.LARGE]</th>\n",
       "      <th>Size[T.LARGE SUV]</th>\n",
       "      <th>Size[T.LARGE TRUCK]</th>\n",
       "      <th>Size[T.MEDIUM]</th>\n",
       "      <th>Size[T.MEDIUM SUV]</th>\n",
       "      <th>Size[T.OTHER]</th>\n",
       "      <th>Size[T.SMALL SUV]</th>\n",
       "      <th>Size[T.SMALL TRUCK]</th>\n",
       "      <th>Size[T.SPECIALTY]</th>\n",
       "      <th>Size[T.VAN]</th>\n",
       "      <th>Transmission[T.MANUAL]</th>\n",
       "      <th>Transmission[T.OTHER]</th>\n",
       "      <th>standardize(VehOdo)</th>\n",
       "      <th>standardize(VehOdo):Transmission[T.MANUAL]</th>\n",
       "      <th>standardize(VehOdo):Transmission[T.OTHER]</th>\n",
       "    </tr>\n",
       "  </thead>\n",
       "  <tbody>\n",
       "    <tr>\n",
       "      <th>64267</th>\n",
       "      <td>1.0</td>\n",
       "      <td>1.0</td>\n",
       "      <td>0.0</td>\n",
       "      <td>0.0</td>\n",
       "      <td>1.0</td>\n",
       "      <td>0.0</td>\n",
       "      <td>0.0</td>\n",
       "      <td>0.0</td>\n",
       "      <td>0.0</td>\n",
       "      <td>0.0</td>\n",
       "      <td>0.0</td>\n",
       "      <td>1.0</td>\n",
       "      <td>0.0</td>\n",
       "      <td>0.0</td>\n",
       "      <td>0.0</td>\n",
       "      <td>0.0</td>\n",
       "      <td>0.0</td>\n",
       "      <td>0.0</td>\n",
       "      <td>0.0</td>\n",
       "      <td>0.0</td>\n",
       "      <td>0.0</td>\n",
       "      <td>0.0</td>\n",
       "      <td>0.0</td>\n",
       "      <td>0.0</td>\n",
       "      <td>0.0</td>\n",
       "      <td>0.0</td>\n",
       "      <td>0.0</td>\n",
       "      <td>0.0</td>\n",
       "      <td>0.0</td>\n",
       "      <td>-3.474413</td>\n",
       "      <td>-0.0</td>\n",
       "      <td>-0.0</td>\n",
       "    </tr>\n",
       "    <tr>\n",
       "      <th>42527</th>\n",
       "      <td>1.0</td>\n",
       "      <td>0.0</td>\n",
       "      <td>0.0</td>\n",
       "      <td>0.0</td>\n",
       "      <td>0.0</td>\n",
       "      <td>0.0</td>\n",
       "      <td>1.0</td>\n",
       "      <td>0.0</td>\n",
       "      <td>0.0</td>\n",
       "      <td>0.0</td>\n",
       "      <td>0.0</td>\n",
       "      <td>1.0</td>\n",
       "      <td>0.0</td>\n",
       "      <td>0.0</td>\n",
       "      <td>0.0</td>\n",
       "      <td>0.0</td>\n",
       "      <td>0.0</td>\n",
       "      <td>0.0</td>\n",
       "      <td>0.0</td>\n",
       "      <td>0.0</td>\n",
       "      <td>1.0</td>\n",
       "      <td>0.0</td>\n",
       "      <td>0.0</td>\n",
       "      <td>0.0</td>\n",
       "      <td>0.0</td>\n",
       "      <td>0.0</td>\n",
       "      <td>0.0</td>\n",
       "      <td>0.0</td>\n",
       "      <td>0.0</td>\n",
       "      <td>0.043535</td>\n",
       "      <td>0.0</td>\n",
       "      <td>0.0</td>\n",
       "    </tr>\n",
       "    <tr>\n",
       "      <th>67750</th>\n",
       "      <td>1.0</td>\n",
       "      <td>1.0</td>\n",
       "      <td>0.0</td>\n",
       "      <td>0.0</td>\n",
       "      <td>0.0</td>\n",
       "      <td>0.0</td>\n",
       "      <td>1.0</td>\n",
       "      <td>0.0</td>\n",
       "      <td>0.0</td>\n",
       "      <td>0.0</td>\n",
       "      <td>0.0</td>\n",
       "      <td>0.0</td>\n",
       "      <td>0.0</td>\n",
       "      <td>0.0</td>\n",
       "      <td>0.0</td>\n",
       "      <td>0.0</td>\n",
       "      <td>0.0</td>\n",
       "      <td>1.0</td>\n",
       "      <td>0.0</td>\n",
       "      <td>0.0</td>\n",
       "      <td>0.0</td>\n",
       "      <td>0.0</td>\n",
       "      <td>0.0</td>\n",
       "      <td>0.0</td>\n",
       "      <td>0.0</td>\n",
       "      <td>0.0</td>\n",
       "      <td>0.0</td>\n",
       "      <td>0.0</td>\n",
       "      <td>0.0</td>\n",
       "      <td>0.787443</td>\n",
       "      <td>0.0</td>\n",
       "      <td>0.0</td>\n",
       "    </tr>\n",
       "    <tr>\n",
       "      <th>61339</th>\n",
       "      <td>1.0</td>\n",
       "      <td>0.0</td>\n",
       "      <td>0.0</td>\n",
       "      <td>0.0</td>\n",
       "      <td>0.0</td>\n",
       "      <td>1.0</td>\n",
       "      <td>0.0</td>\n",
       "      <td>0.0</td>\n",
       "      <td>0.0</td>\n",
       "      <td>0.0</td>\n",
       "      <td>0.0</td>\n",
       "      <td>1.0</td>\n",
       "      <td>0.0</td>\n",
       "      <td>0.0</td>\n",
       "      <td>0.0</td>\n",
       "      <td>1.0</td>\n",
       "      <td>0.0</td>\n",
       "      <td>0.0</td>\n",
       "      <td>0.0</td>\n",
       "      <td>0.0</td>\n",
       "      <td>0.0</td>\n",
       "      <td>0.0</td>\n",
       "      <td>0.0</td>\n",
       "      <td>0.0</td>\n",
       "      <td>0.0</td>\n",
       "      <td>0.0</td>\n",
       "      <td>0.0</td>\n",
       "      <td>0.0</td>\n",
       "      <td>0.0</td>\n",
       "      <td>-1.542951</td>\n",
       "      <td>-0.0</td>\n",
       "      <td>-0.0</td>\n",
       "    </tr>\n",
       "    <tr>\n",
       "      <th>71991</th>\n",
       "      <td>1.0</td>\n",
       "      <td>1.0</td>\n",
       "      <td>0.0</td>\n",
       "      <td>0.0</td>\n",
       "      <td>0.0</td>\n",
       "      <td>0.0</td>\n",
       "      <td>0.0</td>\n",
       "      <td>1.0</td>\n",
       "      <td>0.0</td>\n",
       "      <td>0.0</td>\n",
       "      <td>0.0</td>\n",
       "      <td>0.0</td>\n",
       "      <td>0.0</td>\n",
       "      <td>0.0</td>\n",
       "      <td>0.0</td>\n",
       "      <td>0.0</td>\n",
       "      <td>0.0</td>\n",
       "      <td>1.0</td>\n",
       "      <td>0.0</td>\n",
       "      <td>0.0</td>\n",
       "      <td>0.0</td>\n",
       "      <td>0.0</td>\n",
       "      <td>0.0</td>\n",
       "      <td>0.0</td>\n",
       "      <td>0.0</td>\n",
       "      <td>0.0</td>\n",
       "      <td>0.0</td>\n",
       "      <td>0.0</td>\n",
       "      <td>0.0</td>\n",
       "      <td>-0.709274</td>\n",
       "      <td>-0.0</td>\n",
       "      <td>-0.0</td>\n",
       "    </tr>\n",
       "    <tr>\n",
       "      <th>...</th>\n",
       "      <td>...</td>\n",
       "      <td>...</td>\n",
       "      <td>...</td>\n",
       "      <td>...</td>\n",
       "      <td>...</td>\n",
       "      <td>...</td>\n",
       "      <td>...</td>\n",
       "      <td>...</td>\n",
       "      <td>...</td>\n",
       "      <td>...</td>\n",
       "      <td>...</td>\n",
       "      <td>...</td>\n",
       "      <td>...</td>\n",
       "      <td>...</td>\n",
       "      <td>...</td>\n",
       "      <td>...</td>\n",
       "      <td>...</td>\n",
       "      <td>...</td>\n",
       "      <td>...</td>\n",
       "      <td>...</td>\n",
       "      <td>...</td>\n",
       "      <td>...</td>\n",
       "      <td>...</td>\n",
       "      <td>...</td>\n",
       "      <td>...</td>\n",
       "      <td>...</td>\n",
       "      <td>...</td>\n",
       "      <td>...</td>\n",
       "      <td>...</td>\n",
       "      <td>...</td>\n",
       "      <td>...</td>\n",
       "      <td>...</td>\n",
       "    </tr>\n",
       "    <tr>\n",
       "      <th>34659</th>\n",
       "      <td>1.0</td>\n",
       "      <td>0.0</td>\n",
       "      <td>0.0</td>\n",
       "      <td>0.0</td>\n",
       "      <td>0.0</td>\n",
       "      <td>0.0</td>\n",
       "      <td>0.0</td>\n",
       "      <td>1.0</td>\n",
       "      <td>0.0</td>\n",
       "      <td>0.0</td>\n",
       "      <td>0.0</td>\n",
       "      <td>0.0</td>\n",
       "      <td>0.0</td>\n",
       "      <td>0.0</td>\n",
       "      <td>0.0</td>\n",
       "      <td>0.0</td>\n",
       "      <td>0.0</td>\n",
       "      <td>0.0</td>\n",
       "      <td>0.0</td>\n",
       "      <td>0.0</td>\n",
       "      <td>1.0</td>\n",
       "      <td>0.0</td>\n",
       "      <td>0.0</td>\n",
       "      <td>0.0</td>\n",
       "      <td>0.0</td>\n",
       "      <td>0.0</td>\n",
       "      <td>0.0</td>\n",
       "      <td>0.0</td>\n",
       "      <td>0.0</td>\n",
       "      <td>-0.749126</td>\n",
       "      <td>-0.0</td>\n",
       "      <td>-0.0</td>\n",
       "    </tr>\n",
       "    <tr>\n",
       "      <th>27607</th>\n",
       "      <td>1.0</td>\n",
       "      <td>0.0</td>\n",
       "      <td>0.0</td>\n",
       "      <td>0.0</td>\n",
       "      <td>0.0</td>\n",
       "      <td>0.0</td>\n",
       "      <td>1.0</td>\n",
       "      <td>0.0</td>\n",
       "      <td>0.0</td>\n",
       "      <td>0.0</td>\n",
       "      <td>0.0</td>\n",
       "      <td>0.0</td>\n",
       "      <td>0.0</td>\n",
       "      <td>0.0</td>\n",
       "      <td>0.0</td>\n",
       "      <td>1.0</td>\n",
       "      <td>0.0</td>\n",
       "      <td>1.0</td>\n",
       "      <td>0.0</td>\n",
       "      <td>0.0</td>\n",
       "      <td>0.0</td>\n",
       "      <td>0.0</td>\n",
       "      <td>0.0</td>\n",
       "      <td>0.0</td>\n",
       "      <td>0.0</td>\n",
       "      <td>0.0</td>\n",
       "      <td>0.0</td>\n",
       "      <td>0.0</td>\n",
       "      <td>0.0</td>\n",
       "      <td>-0.742210</td>\n",
       "      <td>-0.0</td>\n",
       "      <td>-0.0</td>\n",
       "    </tr>\n",
       "    <tr>\n",
       "      <th>33269</th>\n",
       "      <td>1.0</td>\n",
       "      <td>0.0</td>\n",
       "      <td>0.0</td>\n",
       "      <td>0.0</td>\n",
       "      <td>0.0</td>\n",
       "      <td>1.0</td>\n",
       "      <td>0.0</td>\n",
       "      <td>0.0</td>\n",
       "      <td>0.0</td>\n",
       "      <td>0.0</td>\n",
       "      <td>0.0</td>\n",
       "      <td>1.0</td>\n",
       "      <td>0.0</td>\n",
       "      <td>0.0</td>\n",
       "      <td>0.0</td>\n",
       "      <td>1.0</td>\n",
       "      <td>0.0</td>\n",
       "      <td>0.0</td>\n",
       "      <td>0.0</td>\n",
       "      <td>0.0</td>\n",
       "      <td>0.0</td>\n",
       "      <td>0.0</td>\n",
       "      <td>0.0</td>\n",
       "      <td>0.0</td>\n",
       "      <td>0.0</td>\n",
       "      <td>0.0</td>\n",
       "      <td>1.0</td>\n",
       "      <td>0.0</td>\n",
       "      <td>0.0</td>\n",
       "      <td>-1.103687</td>\n",
       "      <td>-0.0</td>\n",
       "      <td>-0.0</td>\n",
       "    </tr>\n",
       "    <tr>\n",
       "      <th>25444</th>\n",
       "      <td>1.0</td>\n",
       "      <td>0.0</td>\n",
       "      <td>0.0</td>\n",
       "      <td>0.0</td>\n",
       "      <td>1.0</td>\n",
       "      <td>0.0</td>\n",
       "      <td>0.0</td>\n",
       "      <td>0.0</td>\n",
       "      <td>0.0</td>\n",
       "      <td>0.0</td>\n",
       "      <td>0.0</td>\n",
       "      <td>1.0</td>\n",
       "      <td>0.0</td>\n",
       "      <td>0.0</td>\n",
       "      <td>0.0</td>\n",
       "      <td>1.0</td>\n",
       "      <td>0.0</td>\n",
       "      <td>0.0</td>\n",
       "      <td>0.0</td>\n",
       "      <td>0.0</td>\n",
       "      <td>1.0</td>\n",
       "      <td>0.0</td>\n",
       "      <td>0.0</td>\n",
       "      <td>0.0</td>\n",
       "      <td>0.0</td>\n",
       "      <td>0.0</td>\n",
       "      <td>0.0</td>\n",
       "      <td>0.0</td>\n",
       "      <td>0.0</td>\n",
       "      <td>0.249918</td>\n",
       "      <td>0.0</td>\n",
       "      <td>0.0</td>\n",
       "    </tr>\n",
       "    <tr>\n",
       "      <th>55808</th>\n",
       "      <td>1.0</td>\n",
       "      <td>1.0</td>\n",
       "      <td>0.0</td>\n",
       "      <td>0.0</td>\n",
       "      <td>0.0</td>\n",
       "      <td>0.0</td>\n",
       "      <td>0.0</td>\n",
       "      <td>0.0</td>\n",
       "      <td>1.0</td>\n",
       "      <td>0.0</td>\n",
       "      <td>0.0</td>\n",
       "      <td>1.0</td>\n",
       "      <td>0.0</td>\n",
       "      <td>0.0</td>\n",
       "      <td>0.0</td>\n",
       "      <td>1.0</td>\n",
       "      <td>0.0</td>\n",
       "      <td>0.0</td>\n",
       "      <td>0.0</td>\n",
       "      <td>0.0</td>\n",
       "      <td>1.0</td>\n",
       "      <td>0.0</td>\n",
       "      <td>0.0</td>\n",
       "      <td>0.0</td>\n",
       "      <td>0.0</td>\n",
       "      <td>0.0</td>\n",
       "      <td>0.0</td>\n",
       "      <td>0.0</td>\n",
       "      <td>0.0</td>\n",
       "      <td>-1.726874</td>\n",
       "      <td>-0.0</td>\n",
       "      <td>-0.0</td>\n",
       "    </tr>\n",
       "  </tbody>\n",
       "</table>\n",
       "<p>54737 rows × 32 columns</p>\n",
       "</div>"
      ],
      "text/plain": [
       "       Intercept  Auction[T.OTHER]  VehYear[T.2002]  VehYear[T.2003]  \\\n",
       "64267        1.0               1.0              0.0              0.0   \n",
       "42527        1.0               0.0              0.0              0.0   \n",
       "67750        1.0               1.0              0.0              0.0   \n",
       "61339        1.0               0.0              0.0              0.0   \n",
       "71991        1.0               1.0              0.0              0.0   \n",
       "...          ...               ...              ...              ...   \n",
       "34659        1.0               0.0              0.0              0.0   \n",
       "27607        1.0               0.0              0.0              0.0   \n",
       "33269        1.0               0.0              0.0              0.0   \n",
       "25444        1.0               0.0              0.0              0.0   \n",
       "55808        1.0               1.0              0.0              0.0   \n",
       "\n",
       "       VehYear[T.2004]  VehYear[T.2005]  VehYear[T.2006]  VehYear[T.2007]  \\\n",
       "64267              1.0              0.0              0.0              0.0   \n",
       "42527              0.0              0.0              1.0              0.0   \n",
       "67750              0.0              0.0              1.0              0.0   \n",
       "61339              0.0              1.0              0.0              0.0   \n",
       "71991              0.0              0.0              0.0              1.0   \n",
       "...                ...              ...              ...              ...   \n",
       "34659              0.0              0.0              0.0              1.0   \n",
       "27607              0.0              0.0              1.0              0.0   \n",
       "33269              0.0              1.0              0.0              0.0   \n",
       "25444              1.0              0.0              0.0              0.0   \n",
       "55808              0.0              0.0              0.0              0.0   \n",
       "\n",
       "       VehYear[T.2008]  VehYear[T.2009]  VehYear[T.OTHER]  WheelTypeID[T.2.0]  \\\n",
       "64267              0.0              0.0               0.0                 1.0   \n",
       "42527              0.0              0.0               0.0                 1.0   \n",
       "67750              0.0              0.0               0.0                 0.0   \n",
       "61339              0.0              0.0               0.0                 1.0   \n",
       "71991              0.0              0.0               0.0                 0.0   \n",
       "...                ...              ...               ...                 ...   \n",
       "34659              0.0              0.0               0.0                 0.0   \n",
       "27607              0.0              0.0               0.0                 0.0   \n",
       "33269              0.0              0.0               0.0                 1.0   \n",
       "25444              0.0              0.0               0.0                 1.0   \n",
       "55808              1.0              0.0               0.0                 1.0   \n",
       "\n",
       "       WheelTypeID[T.3.0]  WheelTypeID[T.MISSING]  WheelTypeID[T.OTHER]  \\\n",
       "64267                 0.0                     0.0                   0.0   \n",
       "42527                 0.0                     0.0                   0.0   \n",
       "67750                 0.0                     0.0                   0.0   \n",
       "61339                 0.0                     0.0                   0.0   \n",
       "71991                 0.0                     0.0                   0.0   \n",
       "...                   ...                     ...                   ...   \n",
       "34659                 0.0                     0.0                   0.0   \n",
       "27607                 0.0                     0.0                   0.0   \n",
       "33269                 0.0                     0.0                   0.0   \n",
       "25444                 0.0                     0.0                   0.0   \n",
       "55808                 0.0                     0.0                   0.0   \n",
       "\n",
       "       Year[T.OTHER]  Size[T.CROSSOVER]  Size[T.LARGE]  Size[T.LARGE SUV]  \\\n",
       "64267            0.0                0.0            0.0                0.0   \n",
       "42527            0.0                0.0            0.0                0.0   \n",
       "67750            0.0                0.0            1.0                0.0   \n",
       "61339            1.0                0.0            0.0                0.0   \n",
       "71991            0.0                0.0            1.0                0.0   \n",
       "...              ...                ...            ...                ...   \n",
       "34659            0.0                0.0            0.0                0.0   \n",
       "27607            1.0                0.0            1.0                0.0   \n",
       "33269            1.0                0.0            0.0                0.0   \n",
       "25444            1.0                0.0            0.0                0.0   \n",
       "55808            1.0                0.0            0.0                0.0   \n",
       "\n",
       "       Size[T.LARGE TRUCK]  Size[T.MEDIUM]  Size[T.MEDIUM SUV]  Size[T.OTHER]  \\\n",
       "64267                  0.0             0.0                 0.0            0.0   \n",
       "42527                  0.0             1.0                 0.0            0.0   \n",
       "67750                  0.0             0.0                 0.0            0.0   \n",
       "61339                  0.0             0.0                 0.0            0.0   \n",
       "71991                  0.0             0.0                 0.0            0.0   \n",
       "...                    ...             ...                 ...            ...   \n",
       "34659                  0.0             1.0                 0.0            0.0   \n",
       "27607                  0.0             0.0                 0.0            0.0   \n",
       "33269                  0.0             0.0                 0.0            0.0   \n",
       "25444                  0.0             1.0                 0.0            0.0   \n",
       "55808                  0.0             1.0                 0.0            0.0   \n",
       "\n",
       "       Size[T.SMALL SUV]  Size[T.SMALL TRUCK]  Size[T.SPECIALTY]  Size[T.VAN]  \\\n",
       "64267                0.0                  0.0                0.0          0.0   \n",
       "42527                0.0                  0.0                0.0          0.0   \n",
       "67750                0.0                  0.0                0.0          0.0   \n",
       "61339                0.0                  0.0                0.0          0.0   \n",
       "71991                0.0                  0.0                0.0          0.0   \n",
       "...                  ...                  ...                ...          ...   \n",
       "34659                0.0                  0.0                0.0          0.0   \n",
       "27607                0.0                  0.0                0.0          0.0   \n",
       "33269                0.0                  0.0                0.0          1.0   \n",
       "25444                0.0                  0.0                0.0          0.0   \n",
       "55808                0.0                  0.0                0.0          0.0   \n",
       "\n",
       "       Transmission[T.MANUAL]  Transmission[T.OTHER]  standardize(VehOdo)  \\\n",
       "64267                     0.0                    0.0            -3.474413   \n",
       "42527                     0.0                    0.0             0.043535   \n",
       "67750                     0.0                    0.0             0.787443   \n",
       "61339                     0.0                    0.0            -1.542951   \n",
       "71991                     0.0                    0.0            -0.709274   \n",
       "...                       ...                    ...                  ...   \n",
       "34659                     0.0                    0.0            -0.749126   \n",
       "27607                     0.0                    0.0            -0.742210   \n",
       "33269                     0.0                    0.0            -1.103687   \n",
       "25444                     0.0                    0.0             0.249918   \n",
       "55808                     0.0                    0.0            -1.726874   \n",
       "\n",
       "       standardize(VehOdo):Transmission[T.MANUAL]  \\\n",
       "64267                                        -0.0   \n",
       "42527                                         0.0   \n",
       "67750                                         0.0   \n",
       "61339                                        -0.0   \n",
       "71991                                        -0.0   \n",
       "...                                           ...   \n",
       "34659                                        -0.0   \n",
       "27607                                        -0.0   \n",
       "33269                                        -0.0   \n",
       "25444                                         0.0   \n",
       "55808                                        -0.0   \n",
       "\n",
       "       standardize(VehOdo):Transmission[T.OTHER]  \n",
       "64267                                       -0.0  \n",
       "42527                                        0.0  \n",
       "67750                                        0.0  \n",
       "61339                                       -0.0  \n",
       "71991                                       -0.0  \n",
       "...                                          ...  \n",
       "34659                                       -0.0  \n",
       "27607                                       -0.0  \n",
       "33269                                       -0.0  \n",
       "25444                                        0.0  \n",
       "55808                                       -0.0  \n",
       "\n",
       "[54737 rows x 32 columns]"
      ]
     },
     "execution_count": 32,
     "metadata": {},
     "output_type": "execute_result"
    }
   ],
   "source": [
    "X_logit_train"
   ]
  },
  {
   "cell_type": "markdown",
   "metadata": {},
   "source": [
    "What we see is that it created an intercept column, it created dummy variables for `Auction` (though there is only one column, when there are two possible values, that is because it automatically drops one column), it created 8 columns for dummy variables for `VehYear`, it adds columns for our other continuous and dummy variables, and it adds two columns interacting the dummy columns of `Transmission` with `VehOdo`. Note that it automatically created dummy columns because `VehYear` is an `object` type of data (which it automatically classifies as categorical variables).\n",
    "\n",
    "Notice that it doesn't treats `VehYear` as a continuous variable, which might be what we want, but we also might want to treat `VehYear` as a continuous variable. Because we have used the categorical imputer for `VehYear`, `VehYear` is an `object` in our data set, so it automatically assumes it is a categorical variable. Alternatively, we could have forced it to treat it as a dummy, instead of using the categorical imputer, by replacing `VehYear` in the formula with `C(VehYear)`. The `C()` forces the variable to be treated as a dummy no matter what type it is."
   ]
  },
  {
   "cell_type": "markdown",
   "metadata": {},
   "source": [
    "We will go ahead and build the validation matrix. In order to test on our validation set, we have to perform the _exact same transformations on it_. First, we will use our `build_design_matrices` function to get our `X_linear_validation` matrix. Remember the `y` values for the validation set are just `df_validation['IsBadBuy']`."
   ]
  },
  {
   "cell_type": "code",
   "execution_count": 33,
   "metadata": {},
   "outputs": [],
   "source": [
    "X_logit_validation = build_design_matrices([X_logit_train.design_info], df_validation, return_type=\"dataframe\")[0]"
   ]
  },
  {
   "cell_type": "markdown",
   "metadata": {},
   "source": [
    "Now we can predict on the validation set after we have built out model."
   ]
  },
  {
   "cell_type": "markdown",
   "metadata": {},
   "source": [
    "## Regularized Logistic Regression"
   ]
  },
  {
   "cell_type": "markdown",
   "metadata": {},
   "source": [
    "Now, we can train a logistic regression model. For a discussion on non-regularized logistic regression, see ISL chapters 4-4.3.4 (pp. 129-139)."
   ]
  },
  {
   "cell_type": "markdown",
   "metadata": {},
   "source": [
    "In the regularized logistic regression model, the paramater `C` is the main tuning parameter here. It controls the degree of regularization (i.e., the penalty for large coefficients in the logistic regression). A large `C` translate into less regularization. A small `C` translates into more regularization. Note that this is the opposite of the regression models Lasso and Ridge. In those models, a larger `alpha` meant more regularization."
   ]
  },
  {
   "cell_type": "code",
   "execution_count": 34,
   "metadata": {},
   "outputs": [
    {
     "name": "stderr",
     "output_type": "stream",
     "text": [
      "/opt/conda/lib/python3.11/site-packages/sklearn/utils/validation.py:1184: DataConversionWarning: A column-vector y was passed when a 1d array was expected. Please change the shape of y to (n_samples, ), for example using ravel().\n",
      "  y = column_or_1d(y, warn=True)\n"
     ]
    },
    {
     "data": {
      "text/html": [
       "<style>#sk-container-id-1 {color: black;}#sk-container-id-1 pre{padding: 0;}#sk-container-id-1 div.sk-toggleable {background-color: white;}#sk-container-id-1 label.sk-toggleable__label {cursor: pointer;display: block;width: 100%;margin-bottom: 0;padding: 0.3em;box-sizing: border-box;text-align: center;}#sk-container-id-1 label.sk-toggleable__label-arrow:before {content: \"▸\";float: left;margin-right: 0.25em;color: #696969;}#sk-container-id-1 label.sk-toggleable__label-arrow:hover:before {color: black;}#sk-container-id-1 div.sk-estimator:hover label.sk-toggleable__label-arrow:before {color: black;}#sk-container-id-1 div.sk-toggleable__content {max-height: 0;max-width: 0;overflow: hidden;text-align: left;background-color: #f0f8ff;}#sk-container-id-1 div.sk-toggleable__content pre {margin: 0.2em;color: black;border-radius: 0.25em;background-color: #f0f8ff;}#sk-container-id-1 input.sk-toggleable__control:checked~div.sk-toggleable__content {max-height: 200px;max-width: 100%;overflow: auto;}#sk-container-id-1 input.sk-toggleable__control:checked~label.sk-toggleable__label-arrow:before {content: \"▾\";}#sk-container-id-1 div.sk-estimator input.sk-toggleable__control:checked~label.sk-toggleable__label {background-color: #d4ebff;}#sk-container-id-1 div.sk-label input.sk-toggleable__control:checked~label.sk-toggleable__label {background-color: #d4ebff;}#sk-container-id-1 input.sk-hidden--visually {border: 0;clip: rect(1px 1px 1px 1px);clip: rect(1px, 1px, 1px, 1px);height: 1px;margin: -1px;overflow: hidden;padding: 0;position: absolute;width: 1px;}#sk-container-id-1 div.sk-estimator {font-family: monospace;background-color: #f0f8ff;border: 1px dotted black;border-radius: 0.25em;box-sizing: border-box;margin-bottom: 0.5em;}#sk-container-id-1 div.sk-estimator:hover {background-color: #d4ebff;}#sk-container-id-1 div.sk-parallel-item::after {content: \"\";width: 100%;border-bottom: 1px solid gray;flex-grow: 1;}#sk-container-id-1 div.sk-label:hover label.sk-toggleable__label {background-color: #d4ebff;}#sk-container-id-1 div.sk-serial::before {content: \"\";position: absolute;border-left: 1px solid gray;box-sizing: border-box;top: 0;bottom: 0;left: 50%;z-index: 0;}#sk-container-id-1 div.sk-serial {display: flex;flex-direction: column;align-items: center;background-color: white;padding-right: 0.2em;padding-left: 0.2em;position: relative;}#sk-container-id-1 div.sk-item {position: relative;z-index: 1;}#sk-container-id-1 div.sk-parallel {display: flex;align-items: stretch;justify-content: center;background-color: white;position: relative;}#sk-container-id-1 div.sk-item::before, #sk-container-id-1 div.sk-parallel-item::before {content: \"\";position: absolute;border-left: 1px solid gray;box-sizing: border-box;top: 0;bottom: 0;left: 50%;z-index: -1;}#sk-container-id-1 div.sk-parallel-item {display: flex;flex-direction: column;z-index: 1;position: relative;background-color: white;}#sk-container-id-1 div.sk-parallel-item:first-child::after {align-self: flex-end;width: 50%;}#sk-container-id-1 div.sk-parallel-item:last-child::after {align-self: flex-start;width: 50%;}#sk-container-id-1 div.sk-parallel-item:only-child::after {width: 0;}#sk-container-id-1 div.sk-dashed-wrapped {border: 1px dashed gray;margin: 0 0.4em 0.5em 0.4em;box-sizing: border-box;padding-bottom: 0.4em;background-color: white;}#sk-container-id-1 div.sk-label label {font-family: monospace;font-weight: bold;display: inline-block;line-height: 1.2em;}#sk-container-id-1 div.sk-label-container {text-align: center;}#sk-container-id-1 div.sk-container {/* jupyter's `normalize.less` sets `[hidden] { display: none; }` but bootstrap.min.css set `[hidden] { display: none !important; }` so we also need the `!important` here to be able to override the default hidden behavior on the sphinx rendered scikit-learn.org. See: https://github.com/scikit-learn/scikit-learn/issues/21755 */display: inline-block !important;position: relative;}#sk-container-id-1 div.sk-text-repr-fallback {display: none;}</style><div id=\"sk-container-id-1\" class=\"sk-top-container\"><div class=\"sk-text-repr-fallback\"><pre>LogisticRegression(C=0.1, random_state=201)</pre><b>In a Jupyter environment, please rerun this cell to show the HTML representation or trust the notebook. <br />On GitHub, the HTML representation is unable to render, please try loading this page with nbviewer.org.</b></div><div class=\"sk-container\" hidden><div class=\"sk-item\"><div class=\"sk-estimator sk-toggleable\"><input class=\"sk-toggleable__control sk-hidden--visually\" id=\"sk-estimator-id-1\" type=\"checkbox\" checked><label for=\"sk-estimator-id-1\" class=\"sk-toggleable__label sk-toggleable__label-arrow\">LogisticRegression</label><div class=\"sk-toggleable__content\"><pre>LogisticRegression(C=0.1, random_state=201)</pre></div></div></div></div></div>"
      ],
      "text/plain": [
       "LogisticRegression(C=0.1, random_state=201)"
      ]
     },
     "execution_count": 34,
     "metadata": {},
     "output_type": "execute_result"
    }
   ],
   "source": [
    "rlr_model = LogisticRegression(C=1/10, random_state=201)\n",
    "rlr_model.fit(X_logit_train, y_logit_train)"
   ]
  },
  {
   "cell_type": "markdown",
   "metadata": {},
   "source": [
    "You may get a warning, but ignore it."
   ]
  },
  {
   "cell_type": "markdown",
   "metadata": {},
   "source": [
    "We can look at the size of the coefficients that it returned. Note that it is the absolute value of the coefficient that is most important."
   ]
  },
  {
   "cell_type": "code",
   "execution_count": 35,
   "metadata": {},
   "outputs": [
    {
     "data": {
      "text/html": [
       "<div>\n",
       "<style scoped>\n",
       "    .dataframe tbody tr th:only-of-type {\n",
       "        vertical-align: middle;\n",
       "    }\n",
       "\n",
       "    .dataframe tbody tr th {\n",
       "        vertical-align: top;\n",
       "    }\n",
       "\n",
       "    .dataframe thead th {\n",
       "        text-align: right;\n",
       "    }\n",
       "</style>\n",
       "<table border=\"1\" class=\"dataframe\">\n",
       "  <thead>\n",
       "    <tr style=\"text-align: right;\">\n",
       "      <th></th>\n",
       "      <th>Importance</th>\n",
       "    </tr>\n",
       "  </thead>\n",
       "  <tbody>\n",
       "    <tr>\n",
       "      <th>WheelTypeID[T.MISSING]</th>\n",
       "      <td>3.010298</td>\n",
       "    </tr>\n",
       "    <tr>\n",
       "      <th>VehYear[T.2008]</th>\n",
       "      <td>-1.494947</td>\n",
       "    </tr>\n",
       "    <tr>\n",
       "      <th>VehYear[T.2009]</th>\n",
       "      <td>-1.325646</td>\n",
       "    </tr>\n",
       "    <tr>\n",
       "      <th>VehYear[T.2007]</th>\n",
       "      <td>-1.258226</td>\n",
       "    </tr>\n",
       "    <tr>\n",
       "      <th>VehYear[T.2006]</th>\n",
       "      <td>-1.014125</td>\n",
       "    </tr>\n",
       "    <tr>\n",
       "      <th>VehYear[T.2005]</th>\n",
       "      <td>-0.666961</td>\n",
       "    </tr>\n",
       "    <tr>\n",
       "      <th>Size[T.LARGE TRUCK]</th>\n",
       "      <td>-0.513866</td>\n",
       "    </tr>\n",
       "    <tr>\n",
       "      <th>VehYear[T.2004]</th>\n",
       "      <td>-0.420634</td>\n",
       "    </tr>\n",
       "    <tr>\n",
       "      <th>Transmission[T.OTHER]</th>\n",
       "      <td>-0.405452</td>\n",
       "    </tr>\n",
       "    <tr>\n",
       "      <th>Size[T.LARGE]</th>\n",
       "      <td>-0.365220</td>\n",
       "    </tr>\n",
       "    <tr>\n",
       "      <th>Size[T.LARGE SUV]</th>\n",
       "      <td>-0.336666</td>\n",
       "    </tr>\n",
       "    <tr>\n",
       "      <th>Year[T.OTHER]</th>\n",
       "      <td>-0.308765</td>\n",
       "    </tr>\n",
       "    <tr>\n",
       "      <th>Size[T.CROSSOVER]</th>\n",
       "      <td>-0.285865</td>\n",
       "    </tr>\n",
       "    <tr>\n",
       "      <th>Size[T.SMALL TRUCK]</th>\n",
       "      <td>-0.276057</td>\n",
       "    </tr>\n",
       "    <tr>\n",
       "      <th>VehYear[T.2003]</th>\n",
       "      <td>-0.229949</td>\n",
       "    </tr>\n",
       "    <tr>\n",
       "      <th>Size[T.MEDIUM SUV]</th>\n",
       "      <td>-0.216947</td>\n",
       "    </tr>\n",
       "    <tr>\n",
       "      <th>WheelTypeID[T.3.0]</th>\n",
       "      <td>0.206366</td>\n",
       "    </tr>\n",
       "    <tr>\n",
       "      <th>Size[T.SMALL SUV]</th>\n",
       "      <td>-0.186973</td>\n",
       "    </tr>\n",
       "    <tr>\n",
       "      <th>Size[T.SPECIALTY]</th>\n",
       "      <td>-0.179193</td>\n",
       "    </tr>\n",
       "    <tr>\n",
       "      <th>WheelTypeID[T.2.0]</th>\n",
       "      <td>-0.146821</td>\n",
       "    </tr>\n",
       "    <tr>\n",
       "      <th>standardize(VehOdo)</th>\n",
       "      <td>0.144462</td>\n",
       "    </tr>\n",
       "    <tr>\n",
       "      <th>Size[T.VAN]</th>\n",
       "      <td>-0.132869</td>\n",
       "    </tr>\n",
       "    <tr>\n",
       "      <th>VehYear[T.2002]</th>\n",
       "      <td>0.119126</td>\n",
       "    </tr>\n",
       "    <tr>\n",
       "      <th>Size[T.MEDIUM]</th>\n",
       "      <td>-0.115702</td>\n",
       "    </tr>\n",
       "    <tr>\n",
       "      <th>standardize(VehOdo):Transmission[T.MANUAL]</th>\n",
       "      <td>0.093366</td>\n",
       "    </tr>\n",
       "    <tr>\n",
       "      <th>standardize(VehOdo):Transmission[T.OTHER]</th>\n",
       "      <td>-0.073843</td>\n",
       "    </tr>\n",
       "    <tr>\n",
       "      <th>WheelTypeID[T.OTHER]</th>\n",
       "      <td>0.059939</td>\n",
       "    </tr>\n",
       "    <tr>\n",
       "      <th>Auction[T.OTHER]</th>\n",
       "      <td>-0.058932</td>\n",
       "    </tr>\n",
       "    <tr>\n",
       "      <th>Transmission[T.MANUAL]</th>\n",
       "      <td>-0.042614</td>\n",
       "    </tr>\n",
       "    <tr>\n",
       "      <th>VehYear[T.OTHER]</th>\n",
       "      <td>-0.022625</td>\n",
       "    </tr>\n",
       "    <tr>\n",
       "      <th>Size[T.OTHER]</th>\n",
       "      <td>0.002878</td>\n",
       "    </tr>\n",
       "    <tr>\n",
       "      <th>Intercept</th>\n",
       "      <td>0.000875</td>\n",
       "    </tr>\n",
       "  </tbody>\n",
       "</table>\n",
       "</div>"
      ],
      "text/plain": [
       "                                            Importance\n",
       "WheelTypeID[T.MISSING]                        3.010298\n",
       "VehYear[T.2008]                              -1.494947\n",
       "VehYear[T.2009]                              -1.325646\n",
       "VehYear[T.2007]                              -1.258226\n",
       "VehYear[T.2006]                              -1.014125\n",
       "VehYear[T.2005]                              -0.666961\n",
       "Size[T.LARGE TRUCK]                          -0.513866\n",
       "VehYear[T.2004]                              -0.420634\n",
       "Transmission[T.OTHER]                        -0.405452\n",
       "Size[T.LARGE]                                -0.365220\n",
       "Size[T.LARGE SUV]                            -0.336666\n",
       "Year[T.OTHER]                                -0.308765\n",
       "Size[T.CROSSOVER]                            -0.285865\n",
       "Size[T.SMALL TRUCK]                          -0.276057\n",
       "VehYear[T.2003]                              -0.229949\n",
       "Size[T.MEDIUM SUV]                           -0.216947\n",
       "WheelTypeID[T.3.0]                            0.206366\n",
       "Size[T.SMALL SUV]                            -0.186973\n",
       "Size[T.SPECIALTY]                            -0.179193\n",
       "WheelTypeID[T.2.0]                           -0.146821\n",
       "standardize(VehOdo)                           0.144462\n",
       "Size[T.VAN]                                  -0.132869\n",
       "VehYear[T.2002]                               0.119126\n",
       "Size[T.MEDIUM]                               -0.115702\n",
       "standardize(VehOdo):Transmission[T.MANUAL]    0.093366\n",
       "standardize(VehOdo):Transmission[T.OTHER]    -0.073843\n",
       "WheelTypeID[T.OTHER]                          0.059939\n",
       "Auction[T.OTHER]                             -0.058932\n",
       "Transmission[T.MANUAL]                       -0.042614\n",
       "VehYear[T.OTHER]                             -0.022625\n",
       "Size[T.OTHER]                                 0.002878\n",
       "Intercept                                     0.000875"
      ]
     },
     "execution_count": 35,
     "metadata": {},
     "output_type": "execute_result"
    }
   ],
   "source": [
    "coef_df = pd.DataFrame({'Importance': rlr_model.coef_[0]}, index=X_logit_train.columns)\n",
    "coef_df.reindex(coef_df.Importance.abs().sort_values(ascending=False).index)"
   ]
  },
  {
   "cell_type": "markdown",
   "metadata": {},
   "source": [
    "And we can predict on our validation set."
   ]
  },
  {
   "cell_type": "code",
   "execution_count": 36,
   "metadata": {},
   "outputs": [],
   "source": [
    "rlr_pred = rlr_model.predict_proba(X_logit_validation)[:,1]"
   ]
  },
  {
   "cell_type": "markdown",
   "metadata": {},
   "source": [
    "Note that above, we use the method `.predict_proba` instead of `.predict`. That is because the `.predict` method will return only a `0` or a `1` indicating whether or not the car `IsBadBuy`. It will return `1` if the probability is greater than `.5` and `0` otherwise. If we use `.predict_proba`, it will return a probability of the car being either. However, `.predict_proba` gives both the probability of a `0` and the probability of a `1`, so we have to pull out just the probability of a `1` with the `[:,1]` above."
   ]
  },
  {
   "cell_type": "markdown",
   "metadata": {},
   "source": [
    "Let's test our predictions."
   ]
  },
  {
   "cell_type": "code",
   "execution_count": 37,
   "metadata": {},
   "outputs": [
    {
     "data": {
      "text/plain": [
       "0.21195283938171824"
      ]
     },
     "execution_count": 37,
     "metadata": {},
     "output_type": "execute_result"
    }
   ],
   "source": [
    "Kaggle_Gini_Index(df_validation['IsBadBuy'], rlr_pred)"
   ]
  },
  {
   "cell_type": "markdown",
   "metadata": {},
   "source": [
    "We can also look at the ROC curve directly (remember AUC is the area under the ROC, i.e. the area under the receiver operating characteristic (ROC) curve). How would you use this curve to determine what cars to buy? Note that as desired, the curve bows to the upper left, leading to a greater area under the curve than the naive forecast."
   ]
  },
  {
   "cell_type": "code",
   "execution_count": 38,
   "metadata": {},
   "outputs": [
    {
     "data": {
      "image/png": "[encoded data removed]",
      "text/plain": [
       "<Figure size 1100x1100 with 1 Axes>"
      ]
     },
     "metadata": {},
     "output_type": "display_data"
    }
   ],
   "source": [
    "RocCurveDisplay.from_predictions(df_validation['IsBadBuy'], rlr_pred)\n",
    "plt.show()"
   ]
  },
  {
   "cell_type": "markdown",
   "metadata": {},
   "source": [
    "If we are willing to set a threshold, we can also display the confusion matrix and the other classification metrics we previously discussed. However, these metrics will depend on the threshold set. Modify the threshold and see how the metrics change."
   ]
  },
  {
   "cell_type": "code",
   "execution_count": 39,
   "metadata": {},
   "outputs": [],
   "source": [
    "threshold_rlr = .5\n",
    "rlr_pred_classes = rlr_pred > threshold_rlr"
   ]
  },
  {
   "cell_type": "markdown",
   "metadata": {},
   "source": [
    "Below is the confusion matrix."
   ]
  },
  {
   "cell_type": "code",
   "execution_count": 40,
   "metadata": {},
   "outputs": [
    {
     "data": {
      "image/png": "[encoded data removed]",
      "text/plain": [
       "<Figure size 1100x1100 with 2 Axes>"
      ]
     },
     "metadata": {},
     "output_type": "display_data"
    }
   ],
   "source": [
    "predictions = rlr_pred_classes\n",
    "\n",
    "disp = ConfusionMatrixDisplay(confusion_matrix(df_validation['IsBadBuy'], predictions))\n",
    "disp.plot()\n",
    "plt.xticks(rotation=45, horizontalalignment='right')\n",
    "plt.show()"
   ]
  },
  {
   "cell_type": "markdown",
   "metadata": {},
   "source": [
    "We can see that now we have both true and false positives. Those numbers will change as you modify the threshold. Try predicting which way the numbers should change before you modify the threshold.\n",
    "\n",
    "We can also view the classification report."
   ]
  },
  {
   "cell_type": "code",
   "execution_count": 41,
   "metadata": {},
   "outputs": [
    {
     "name": "stdout",
     "output_type": "stream",
     "text": [
      "              precision    recall  f1-score   support\n",
      "\n",
      "           0       0.90      0.99      0.94     15978\n",
      "           1       0.75      0.25      0.37      2268\n",
      "\n",
      "    accuracy                           0.90     18246\n",
      "   macro avg       0.82      0.62      0.66     18246\n",
      "weighted avg       0.88      0.90      0.87     18246\n",
      "\n"
     ]
    }
   ],
   "source": [
    "print(classification_report(df_validation['IsBadBuy'], rlr_pred_classes))"
   ]
  },
  {
   "cell_type": "markdown",
   "metadata": {},
   "source": [
    "## Feature Engineering for Tree Based Models"
   ]
  },
  {
   "cell_type": "markdown",
   "metadata": {},
   "source": [
    "In many ways, feature engineering is less important for tree based models. This is because tree based models can learn both interactions and how to pick out a single class. Think carefully about a) why it is unnecessary relative to logistic regression and b) why it might be harmful (particularly when you set `max_features` to something less than all features).\n",
    "\n",
    "However, that does not mean that it is entirely irrelevant. First, we can let our trees do less work finding the most important relationships if we can construct some of them for it, and we can save some splitting that the tree would normally have to do if we provide some dummy variables. We can also help point it in the right direction if we provide some interactions.\n",
    "\n",
    "Additionally, we can't just give our tree a list of strings (which is what a categorical variable is). Computers work with numbers so we need to use numbers. So, if we don't use dummy variables for a particular variable, we will still need to _encode_ it. The most common way is with an ordinal encoding scheme. Ordinal encoding assigns an integer to each category, and then that number replaces the original category. We can do this with the `OrdinalEncoder` function from `sklearn`. The `OrdinalEncoder` works just like the imputers we have seen before, but instead of imputing values it replaces categories with numbers so that the trees can work with them. Note that it is important to `.fit()` on your training data, and then use the _same encoder_ to `.transform()` the validation set (and later the testing set). If you re-fit the encoder on the validation or testing set, you may end up with categories being assigned to different numbers and your model would just be acting randomly on things.\n",
    "\n",
    "First let's make a list of what to include broken up into three categories: continuous variables, ordinal encoded categorical variables, and dummy encoded categorical variables."
   ]
  },
  {
   "cell_type": "code",
   "execution_count": 42,
   "metadata": {},
   "outputs": [],
   "source": [
    "continuous_features_trees = ['VehOdo']\n",
    "cat_ordinal_features_trees = ['VehYear', 'Year', 'Size', 'Transmission']\n",
    "cat_dummy_features_trees = ['WheelTypeID', 'Auction']"
   ]
  },
  {
   "cell_type": "markdown",
   "metadata": {},
   "source": [
    "Above we chose to create dummy variables for `WheelTypeID` because there are only three possible values and we already know that is an important variable. We are ordinal encoding `VehYear` because it would add 9 columns to our data if we tried to dummy encode it. That could throw off the random feature selection for things like random forests."
   ]
  },
  {
   "cell_type": "markdown",
   "metadata": {},
   "source": [
    "We can use these selected variables to make our training `X` matrix."
   ]
  },
  {
   "cell_type": "code",
   "execution_count": 43,
   "metadata": {},
   "outputs": [],
   "source": [
    "X_tree_train = df_smaller_train[continuous_features_trees + cat_ordinal_features_trees]\n",
    "y_tree_train = df_smaller_train['IsBadBuy']"
   ]
  },
  {
   "cell_type": "markdown",
   "metadata": {},
   "source": [
    "That gives us the continuous features and the ordinal features, but we don't yet have the dummy features. The best way to get those is using the `dmatrix` command, which is really similar to `dmatrices`, but it doesn't give us back a `y` (which we already have from above. The syntax is very similar but we only specify the right hand side of the formula. For example, here we would do this."
   ]
  },
  {
   "cell_type": "code",
   "execution_count": 44,
   "metadata": {},
   "outputs": [],
   "source": [
    "formula_tree = \"0 + \" + \" + \".join(cat_dummy_features_trees)"
   ]
  },
  {
   "cell_type": "code",
   "execution_count": 45,
   "metadata": {},
   "outputs": [
    {
     "data": {
      "text/plain": [
       "'0 + WheelTypeID + Auction'"
      ]
     },
     "execution_count": 45,
     "metadata": {},
     "output_type": "execute_result"
    }
   ],
   "source": [
    "formula_tree"
   ]
  },
  {
   "cell_type": "markdown",
   "metadata": {},
   "source": [
    "The `0` above says don't add in an intercept. We can also easily add in interaction variables if we want to."
   ]
  },
  {
   "cell_type": "code",
   "execution_count": 46,
   "metadata": {},
   "outputs": [],
   "source": [
    "formula_tree = \"0 + \" + \" + \".join(cat_dummy_features_trees) + \" + VehOdo:Transmission\""
   ]
  },
  {
   "cell_type": "code",
   "execution_count": 47,
   "metadata": {},
   "outputs": [
    {
     "data": {
      "text/plain": [
       "'0 + WheelTypeID + Auction + VehOdo:Transmission'"
      ]
     },
     "execution_count": 47,
     "metadata": {},
     "output_type": "execute_result"
    }
   ],
   "source": [
    "formula_tree"
   ]
  },
  {
   "cell_type": "markdown",
   "metadata": {},
   "source": [
    "Note that I used `:` when adding the interaction term `VehOdo:Transmission`. This tells `dmatrix` to just add the interaction, not the individual variables (which we already have in our model).\n",
    "\n",
    "Now we can create our dummy variables and interactions easily."
   ]
  },
  {
   "cell_type": "code",
   "execution_count": 48,
   "metadata": {},
   "outputs": [],
   "source": [
    "X_tree_train_patsy = dmatrix(formula_tree, df_smaller_train, return_type=\"dataframe\")"
   ]
  },
  {
   "cell_type": "code",
   "execution_count": 49,
   "metadata": {},
   "outputs": [
    {
     "data": {
      "text/html": [
       "<div>\n",
       "<style scoped>\n",
       "    .dataframe tbody tr th:only-of-type {\n",
       "        vertical-align: middle;\n",
       "    }\n",
       "\n",
       "    .dataframe tbody tr th {\n",
       "        vertical-align: top;\n",
       "    }\n",
       "\n",
       "    .dataframe thead th {\n",
       "        text-align: right;\n",
       "    }\n",
       "</style>\n",
       "<table border=\"1\" class=\"dataframe\">\n",
       "  <thead>\n",
       "    <tr style=\"text-align: right;\">\n",
       "      <th></th>\n",
       "      <th>WheelTypeID[1.0]</th>\n",
       "      <th>WheelTypeID[2.0]</th>\n",
       "      <th>WheelTypeID[3.0]</th>\n",
       "      <th>WheelTypeID[MISSING]</th>\n",
       "      <th>WheelTypeID[OTHER]</th>\n",
       "      <th>Auction[T.OTHER]</th>\n",
       "      <th>VehOdo:Transmission[AUTO]</th>\n",
       "      <th>VehOdo:Transmission[MANUAL]</th>\n",
       "      <th>VehOdo:Transmission[OTHER]</th>\n",
       "    </tr>\n",
       "  </thead>\n",
       "  <tbody>\n",
       "    <tr>\n",
       "      <th>64267</th>\n",
       "      <td>0.0</td>\n",
       "      <td>1.0</td>\n",
       "      <td>0.0</td>\n",
       "      <td>0.0</td>\n",
       "      <td>0.0</td>\n",
       "      <td>1.0</td>\n",
       "      <td>20728.0</td>\n",
       "      <td>0.0</td>\n",
       "      <td>0.0</td>\n",
       "    </tr>\n",
       "    <tr>\n",
       "      <th>42527</th>\n",
       "      <td>0.0</td>\n",
       "      <td>1.0</td>\n",
       "      <td>0.0</td>\n",
       "      <td>0.0</td>\n",
       "      <td>0.0</td>\n",
       "      <td>0.0</td>\n",
       "      <td>72104.0</td>\n",
       "      <td>0.0</td>\n",
       "      <td>0.0</td>\n",
       "    </tr>\n",
       "    <tr>\n",
       "      <th>67750</th>\n",
       "      <td>1.0</td>\n",
       "      <td>0.0</td>\n",
       "      <td>0.0</td>\n",
       "      <td>0.0</td>\n",
       "      <td>0.0</td>\n",
       "      <td>1.0</td>\n",
       "      <td>82968.0</td>\n",
       "      <td>0.0</td>\n",
       "      <td>0.0</td>\n",
       "    </tr>\n",
       "    <tr>\n",
       "      <th>61339</th>\n",
       "      <td>0.0</td>\n",
       "      <td>1.0</td>\n",
       "      <td>0.0</td>\n",
       "      <td>0.0</td>\n",
       "      <td>0.0</td>\n",
       "      <td>0.0</td>\n",
       "      <td>48935.0</td>\n",
       "      <td>0.0</td>\n",
       "      <td>0.0</td>\n",
       "    </tr>\n",
       "    <tr>\n",
       "      <th>71991</th>\n",
       "      <td>1.0</td>\n",
       "      <td>0.0</td>\n",
       "      <td>0.0</td>\n",
       "      <td>0.0</td>\n",
       "      <td>0.0</td>\n",
       "      <td>1.0</td>\n",
       "      <td>61110.0</td>\n",
       "      <td>0.0</td>\n",
       "      <td>0.0</td>\n",
       "    </tr>\n",
       "    <tr>\n",
       "      <th>...</th>\n",
       "      <td>...</td>\n",
       "      <td>...</td>\n",
       "      <td>...</td>\n",
       "      <td>...</td>\n",
       "      <td>...</td>\n",
       "      <td>...</td>\n",
       "      <td>...</td>\n",
       "      <td>...</td>\n",
       "      <td>...</td>\n",
       "    </tr>\n",
       "    <tr>\n",
       "      <th>34659</th>\n",
       "      <td>1.0</td>\n",
       "      <td>0.0</td>\n",
       "      <td>0.0</td>\n",
       "      <td>0.0</td>\n",
       "      <td>0.0</td>\n",
       "      <td>0.0</td>\n",
       "      <td>60528.0</td>\n",
       "      <td>0.0</td>\n",
       "      <td>0.0</td>\n",
       "    </tr>\n",
       "    <tr>\n",
       "      <th>27607</th>\n",
       "      <td>1.0</td>\n",
       "      <td>0.0</td>\n",
       "      <td>0.0</td>\n",
       "      <td>0.0</td>\n",
       "      <td>0.0</td>\n",
       "      <td>0.0</td>\n",
       "      <td>60629.0</td>\n",
       "      <td>0.0</td>\n",
       "      <td>0.0</td>\n",
       "    </tr>\n",
       "    <tr>\n",
       "      <th>33269</th>\n",
       "      <td>0.0</td>\n",
       "      <td>1.0</td>\n",
       "      <td>0.0</td>\n",
       "      <td>0.0</td>\n",
       "      <td>0.0</td>\n",
       "      <td>0.0</td>\n",
       "      <td>55350.0</td>\n",
       "      <td>0.0</td>\n",
       "      <td>0.0</td>\n",
       "    </tr>\n",
       "    <tr>\n",
       "      <th>25444</th>\n",
       "      <td>0.0</td>\n",
       "      <td>1.0</td>\n",
       "      <td>0.0</td>\n",
       "      <td>0.0</td>\n",
       "      <td>0.0</td>\n",
       "      <td>0.0</td>\n",
       "      <td>75118.0</td>\n",
       "      <td>0.0</td>\n",
       "      <td>0.0</td>\n",
       "    </tr>\n",
       "    <tr>\n",
       "      <th>55808</th>\n",
       "      <td>0.0</td>\n",
       "      <td>1.0</td>\n",
       "      <td>0.0</td>\n",
       "      <td>0.0</td>\n",
       "      <td>0.0</td>\n",
       "      <td>1.0</td>\n",
       "      <td>46249.0</td>\n",
       "      <td>0.0</td>\n",
       "      <td>0.0</td>\n",
       "    </tr>\n",
       "  </tbody>\n",
       "</table>\n",
       "<p>54737 rows × 9 columns</p>\n",
       "</div>"
      ],
      "text/plain": [
       "       WheelTypeID[1.0]  WheelTypeID[2.0]  WheelTypeID[3.0]  \\\n",
       "64267               0.0               1.0               0.0   \n",
       "42527               0.0               1.0               0.0   \n",
       "67750               1.0               0.0               0.0   \n",
       "61339               0.0               1.0               0.0   \n",
       "71991               1.0               0.0               0.0   \n",
       "...                 ...               ...               ...   \n",
       "34659               1.0               0.0               0.0   \n",
       "27607               1.0               0.0               0.0   \n",
       "33269               0.0               1.0               0.0   \n",
       "25444               0.0               1.0               0.0   \n",
       "55808               0.0               1.0               0.0   \n",
       "\n",
       "       WheelTypeID[MISSING]  WheelTypeID[OTHER]  Auction[T.OTHER]  \\\n",
       "64267                   0.0                 0.0               1.0   \n",
       "42527                   0.0                 0.0               0.0   \n",
       "67750                   0.0                 0.0               1.0   \n",
       "61339                   0.0                 0.0               0.0   \n",
       "71991                   0.0                 0.0               1.0   \n",
       "...                     ...                 ...               ...   \n",
       "34659                   0.0                 0.0               0.0   \n",
       "27607                   0.0                 0.0               0.0   \n",
       "33269                   0.0                 0.0               0.0   \n",
       "25444                   0.0                 0.0               0.0   \n",
       "55808                   0.0                 0.0               1.0   \n",
       "\n",
       "       VehOdo:Transmission[AUTO]  VehOdo:Transmission[MANUAL]  \\\n",
       "64267                    20728.0                          0.0   \n",
       "42527                    72104.0                          0.0   \n",
       "67750                    82968.0                          0.0   \n",
       "61339                    48935.0                          0.0   \n",
       "71991                    61110.0                          0.0   \n",
       "...                          ...                          ...   \n",
       "34659                    60528.0                          0.0   \n",
       "27607                    60629.0                          0.0   \n",
       "33269                    55350.0                          0.0   \n",
       "25444                    75118.0                          0.0   \n",
       "55808                    46249.0                          0.0   \n",
       "\n",
       "       VehOdo:Transmission[OTHER]  \n",
       "64267                         0.0  \n",
       "42527                         0.0  \n",
       "67750                         0.0  \n",
       "61339                         0.0  \n",
       "71991                         0.0  \n",
       "...                           ...  \n",
       "34659                         0.0  \n",
       "27607                         0.0  \n",
       "33269                         0.0  \n",
       "25444                         0.0  \n",
       "55808                         0.0  \n",
       "\n",
       "[54737 rows x 9 columns]"
      ]
     },
     "execution_count": 49,
     "metadata": {},
     "output_type": "execute_result"
    }
   ],
   "source": [
    "X_tree_train_patsy"
   ]
  },
  {
   "cell_type": "markdown",
   "metadata": {},
   "source": [
    "It did exactly what we were expecting, but we need to add it to our `X_tree_train` to get everything in the same place. We can concatenate the two dataframes with `pd.concat()`."
   ]
  },
  {
   "cell_type": "code",
   "execution_count": 50,
   "metadata": {},
   "outputs": [],
   "source": [
    "X_tree_train = pd.concat([X_tree_train, X_tree_train_patsy], axis=1)"
   ]
  },
  {
   "cell_type": "markdown",
   "metadata": {},
   "source": [
    "This added the two dataframes together, and we can check to make sure it is what we want."
   ]
  },
  {
   "cell_type": "code",
   "execution_count": 51,
   "metadata": {},
   "outputs": [
    {
     "data": {
      "text/html": [
       "<div>\n",
       "<style scoped>\n",
       "    .dataframe tbody tr th:only-of-type {\n",
       "        vertical-align: middle;\n",
       "    }\n",
       "\n",
       "    .dataframe tbody tr th {\n",
       "        vertical-align: top;\n",
       "    }\n",
       "\n",
       "    .dataframe thead th {\n",
       "        text-align: right;\n",
       "    }\n",
       "</style>\n",
       "<table border=\"1\" class=\"dataframe\">\n",
       "  <thead>\n",
       "    <tr style=\"text-align: right;\">\n",
       "      <th></th>\n",
       "      <th>VehOdo</th>\n",
       "      <th>VehYear</th>\n",
       "      <th>Year</th>\n",
       "      <th>Size</th>\n",
       "      <th>Transmission</th>\n",
       "      <th>WheelTypeID[1.0]</th>\n",
       "      <th>WheelTypeID[2.0]</th>\n",
       "      <th>WheelTypeID[3.0]</th>\n",
       "      <th>WheelTypeID[MISSING]</th>\n",
       "      <th>WheelTypeID[OTHER]</th>\n",
       "      <th>Auction[T.OTHER]</th>\n",
       "      <th>VehOdo:Transmission[AUTO]</th>\n",
       "      <th>VehOdo:Transmission[MANUAL]</th>\n",
       "      <th>VehOdo:Transmission[OTHER]</th>\n",
       "    </tr>\n",
       "  </thead>\n",
       "  <tbody>\n",
       "    <tr>\n",
       "      <th>64267</th>\n",
       "      <td>20728</td>\n",
       "      <td>2004</td>\n",
       "      <td>2010</td>\n",
       "      <td>COMPACT</td>\n",
       "      <td>AUTO</td>\n",
       "      <td>0.0</td>\n",
       "      <td>1.0</td>\n",
       "      <td>0.0</td>\n",
       "      <td>0.0</td>\n",
       "      <td>0.0</td>\n",
       "      <td>1.0</td>\n",
       "      <td>20728.0</td>\n",
       "      <td>0.0</td>\n",
       "      <td>0.0</td>\n",
       "    </tr>\n",
       "    <tr>\n",
       "      <th>42527</th>\n",
       "      <td>72104</td>\n",
       "      <td>2006</td>\n",
       "      <td>2010</td>\n",
       "      <td>MEDIUM</td>\n",
       "      <td>AUTO</td>\n",
       "      <td>0.0</td>\n",
       "      <td>1.0</td>\n",
       "      <td>0.0</td>\n",
       "      <td>0.0</td>\n",
       "      <td>0.0</td>\n",
       "      <td>0.0</td>\n",
       "      <td>72104.0</td>\n",
       "      <td>0.0</td>\n",
       "      <td>0.0</td>\n",
       "    </tr>\n",
       "    <tr>\n",
       "      <th>67750</th>\n",
       "      <td>82968</td>\n",
       "      <td>2006</td>\n",
       "      <td>2010</td>\n",
       "      <td>LARGE</td>\n",
       "      <td>AUTO</td>\n",
       "      <td>1.0</td>\n",
       "      <td>0.0</td>\n",
       "      <td>0.0</td>\n",
       "      <td>0.0</td>\n",
       "      <td>0.0</td>\n",
       "      <td>1.0</td>\n",
       "      <td>82968.0</td>\n",
       "      <td>0.0</td>\n",
       "      <td>0.0</td>\n",
       "    </tr>\n",
       "    <tr>\n",
       "      <th>61339</th>\n",
       "      <td>48935</td>\n",
       "      <td>2005</td>\n",
       "      <td>OTHER</td>\n",
       "      <td>COMPACT</td>\n",
       "      <td>AUTO</td>\n",
       "      <td>0.0</td>\n",
       "      <td>1.0</td>\n",
       "      <td>0.0</td>\n",
       "      <td>0.0</td>\n",
       "      <td>0.0</td>\n",
       "      <td>0.0</td>\n",
       "      <td>48935.0</td>\n",
       "      <td>0.0</td>\n",
       "      <td>0.0</td>\n",
       "    </tr>\n",
       "    <tr>\n",
       "      <th>71991</th>\n",
       "      <td>61110</td>\n",
       "      <td>2007</td>\n",
       "      <td>2010</td>\n",
       "      <td>LARGE</td>\n",
       "      <td>AUTO</td>\n",
       "      <td>1.0</td>\n",
       "      <td>0.0</td>\n",
       "      <td>0.0</td>\n",
       "      <td>0.0</td>\n",
       "      <td>0.0</td>\n",
       "      <td>1.0</td>\n",
       "      <td>61110.0</td>\n",
       "      <td>0.0</td>\n",
       "      <td>0.0</td>\n",
       "    </tr>\n",
       "    <tr>\n",
       "      <th>...</th>\n",
       "      <td>...</td>\n",
       "      <td>...</td>\n",
       "      <td>...</td>\n",
       "      <td>...</td>\n",
       "      <td>...</td>\n",
       "      <td>...</td>\n",
       "      <td>...</td>\n",
       "      <td>...</td>\n",
       "      <td>...</td>\n",
       "      <td>...</td>\n",
       "      <td>...</td>\n",
       "      <td>...</td>\n",
       "      <td>...</td>\n",
       "      <td>...</td>\n",
       "    </tr>\n",
       "    <tr>\n",
       "      <th>34659</th>\n",
       "      <td>60528</td>\n",
       "      <td>2007</td>\n",
       "      <td>2010</td>\n",
       "      <td>MEDIUM</td>\n",
       "      <td>AUTO</td>\n",
       "      <td>1.0</td>\n",
       "      <td>0.0</td>\n",
       "      <td>0.0</td>\n",
       "      <td>0.0</td>\n",
       "      <td>0.0</td>\n",
       "      <td>0.0</td>\n",
       "      <td>60528.0</td>\n",
       "      <td>0.0</td>\n",
       "      <td>0.0</td>\n",
       "    </tr>\n",
       "    <tr>\n",
       "      <th>27607</th>\n",
       "      <td>60629</td>\n",
       "      <td>2006</td>\n",
       "      <td>OTHER</td>\n",
       "      <td>LARGE</td>\n",
       "      <td>AUTO</td>\n",
       "      <td>1.0</td>\n",
       "      <td>0.0</td>\n",
       "      <td>0.0</td>\n",
       "      <td>0.0</td>\n",
       "      <td>0.0</td>\n",
       "      <td>0.0</td>\n",
       "      <td>60629.0</td>\n",
       "      <td>0.0</td>\n",
       "      <td>0.0</td>\n",
       "    </tr>\n",
       "    <tr>\n",
       "      <th>33269</th>\n",
       "      <td>55350</td>\n",
       "      <td>2005</td>\n",
       "      <td>OTHER</td>\n",
       "      <td>VAN</td>\n",
       "      <td>AUTO</td>\n",
       "      <td>0.0</td>\n",
       "      <td>1.0</td>\n",
       "      <td>0.0</td>\n",
       "      <td>0.0</td>\n",
       "      <td>0.0</td>\n",
       "      <td>0.0</td>\n",
       "      <td>55350.0</td>\n",
       "      <td>0.0</td>\n",
       "      <td>0.0</td>\n",
       "    </tr>\n",
       "    <tr>\n",
       "      <th>25444</th>\n",
       "      <td>75118</td>\n",
       "      <td>2004</td>\n",
       "      <td>OTHER</td>\n",
       "      <td>MEDIUM</td>\n",
       "      <td>AUTO</td>\n",
       "      <td>0.0</td>\n",
       "      <td>1.0</td>\n",
       "      <td>0.0</td>\n",
       "      <td>0.0</td>\n",
       "      <td>0.0</td>\n",
       "      <td>0.0</td>\n",
       "      <td>75118.0</td>\n",
       "      <td>0.0</td>\n",
       "      <td>0.0</td>\n",
       "    </tr>\n",
       "    <tr>\n",
       "      <th>55808</th>\n",
       "      <td>46249</td>\n",
       "      <td>2008</td>\n",
       "      <td>OTHER</td>\n",
       "      <td>MEDIUM</td>\n",
       "      <td>AUTO</td>\n",
       "      <td>0.0</td>\n",
       "      <td>1.0</td>\n",
       "      <td>0.0</td>\n",
       "      <td>0.0</td>\n",
       "      <td>0.0</td>\n",
       "      <td>1.0</td>\n",
       "      <td>46249.0</td>\n",
       "      <td>0.0</td>\n",
       "      <td>0.0</td>\n",
       "    </tr>\n",
       "  </tbody>\n",
       "</table>\n",
       "<p>54737 rows × 14 columns</p>\n",
       "</div>"
      ],
      "text/plain": [
       "       VehOdo VehYear   Year     Size Transmission  WheelTypeID[1.0]  \\\n",
       "64267   20728    2004   2010  COMPACT         AUTO               0.0   \n",
       "42527   72104    2006   2010   MEDIUM         AUTO               0.0   \n",
       "67750   82968    2006   2010    LARGE         AUTO               1.0   \n",
       "61339   48935    2005  OTHER  COMPACT         AUTO               0.0   \n",
       "71991   61110    2007   2010    LARGE         AUTO               1.0   \n",
       "...       ...     ...    ...      ...          ...               ...   \n",
       "34659   60528    2007   2010   MEDIUM         AUTO               1.0   \n",
       "27607   60629    2006  OTHER    LARGE         AUTO               1.0   \n",
       "33269   55350    2005  OTHER      VAN         AUTO               0.0   \n",
       "25444   75118    2004  OTHER   MEDIUM         AUTO               0.0   \n",
       "55808   46249    2008  OTHER   MEDIUM         AUTO               0.0   \n",
       "\n",
       "       WheelTypeID[2.0]  WheelTypeID[3.0]  WheelTypeID[MISSING]  \\\n",
       "64267               1.0               0.0                   0.0   \n",
       "42527               1.0               0.0                   0.0   \n",
       "67750               0.0               0.0                   0.0   \n",
       "61339               1.0               0.0                   0.0   \n",
       "71991               0.0               0.0                   0.0   \n",
       "...                 ...               ...                   ...   \n",
       "34659               0.0               0.0                   0.0   \n",
       "27607               0.0               0.0                   0.0   \n",
       "33269               1.0               0.0                   0.0   \n",
       "25444               1.0               0.0                   0.0   \n",
       "55808               1.0               0.0                   0.0   \n",
       "\n",
       "       WheelTypeID[OTHER]  Auction[T.OTHER]  VehOdo:Transmission[AUTO]  \\\n",
       "64267                 0.0               1.0                    20728.0   \n",
       "42527                 0.0               0.0                    72104.0   \n",
       "67750                 0.0               1.0                    82968.0   \n",
       "61339                 0.0               0.0                    48935.0   \n",
       "71991                 0.0               1.0                    61110.0   \n",
       "...                   ...               ...                        ...   \n",
       "34659                 0.0               0.0                    60528.0   \n",
       "27607                 0.0               0.0                    60629.0   \n",
       "33269                 0.0               0.0                    55350.0   \n",
       "25444                 0.0               0.0                    75118.0   \n",
       "55808                 0.0               1.0                    46249.0   \n",
       "\n",
       "       VehOdo:Transmission[MANUAL]  VehOdo:Transmission[OTHER]  \n",
       "64267                          0.0                         0.0  \n",
       "42527                          0.0                         0.0  \n",
       "67750                          0.0                         0.0  \n",
       "61339                          0.0                         0.0  \n",
       "71991                          0.0                         0.0  \n",
       "...                            ...                         ...  \n",
       "34659                          0.0                         0.0  \n",
       "27607                          0.0                         0.0  \n",
       "33269                          0.0                         0.0  \n",
       "25444                          0.0                         0.0  \n",
       "55808                          0.0                         0.0  \n",
       "\n",
       "[54737 rows x 14 columns]"
      ]
     },
     "execution_count": 51,
     "metadata": {},
     "output_type": "execute_result"
    }
   ],
   "source": [
    "X_tree_train"
   ]
  },
  {
   "cell_type": "markdown",
   "metadata": {},
   "source": [
    "The final step is we need to ordinal encode any variables that are not dummies with `OrdinalEncoder`."
   ]
  },
  {
   "cell_type": "code",
   "execution_count": 52,
   "metadata": {},
   "outputs": [],
   "source": [
    "ordinal_encoder = OrdinalEncoder()\n",
    "ordinal_encoder.fit(X_tree_train[cat_ordinal_features_trees])\n",
    "X_tree_train[cat_ordinal_features_trees] = ordinal_encoder.transform(X_tree_train[cat_ordinal_features_trees])"
   ]
  },
  {
   "cell_type": "code",
   "execution_count": 53,
   "metadata": {},
   "outputs": [
    {
     "data": {
      "text/html": [
       "<div>\n",
       "<style scoped>\n",
       "    .dataframe tbody tr th:only-of-type {\n",
       "        vertical-align: middle;\n",
       "    }\n",
       "\n",
       "    .dataframe tbody tr th {\n",
       "        vertical-align: top;\n",
       "    }\n",
       "\n",
       "    .dataframe thead th {\n",
       "        text-align: right;\n",
       "    }\n",
       "</style>\n",
       "<table border=\"1\" class=\"dataframe\">\n",
       "  <thead>\n",
       "    <tr style=\"text-align: right;\">\n",
       "      <th></th>\n",
       "      <th>VehOdo</th>\n",
       "      <th>VehYear</th>\n",
       "      <th>Year</th>\n",
       "      <th>Size</th>\n",
       "      <th>Transmission</th>\n",
       "      <th>WheelTypeID[1.0]</th>\n",
       "      <th>WheelTypeID[2.0]</th>\n",
       "      <th>WheelTypeID[3.0]</th>\n",
       "      <th>WheelTypeID[MISSING]</th>\n",
       "      <th>WheelTypeID[OTHER]</th>\n",
       "      <th>Auction[T.OTHER]</th>\n",
       "      <th>VehOdo:Transmission[AUTO]</th>\n",
       "      <th>VehOdo:Transmission[MANUAL]</th>\n",
       "      <th>VehOdo:Transmission[OTHER]</th>\n",
       "    </tr>\n",
       "  </thead>\n",
       "  <tbody>\n",
       "    <tr>\n",
       "      <th>64267</th>\n",
       "      <td>20728</td>\n",
       "      <td>3.0</td>\n",
       "      <td>0.0</td>\n",
       "      <td>0.0</td>\n",
       "      <td>0.0</td>\n",
       "      <td>0.0</td>\n",
       "      <td>1.0</td>\n",
       "      <td>0.0</td>\n",
       "      <td>0.0</td>\n",
       "      <td>0.0</td>\n",
       "      <td>1.0</td>\n",
       "      <td>20728.0</td>\n",
       "      <td>0.0</td>\n",
       "      <td>0.0</td>\n",
       "    </tr>\n",
       "    <tr>\n",
       "      <th>42527</th>\n",
       "      <td>72104</td>\n",
       "      <td>5.0</td>\n",
       "      <td>0.0</td>\n",
       "      <td>5.0</td>\n",
       "      <td>0.0</td>\n",
       "      <td>0.0</td>\n",
       "      <td>1.0</td>\n",
       "      <td>0.0</td>\n",
       "      <td>0.0</td>\n",
       "      <td>0.0</td>\n",
       "      <td>0.0</td>\n",
       "      <td>72104.0</td>\n",
       "      <td>0.0</td>\n",
       "      <td>0.0</td>\n",
       "    </tr>\n",
       "    <tr>\n",
       "      <th>67750</th>\n",
       "      <td>82968</td>\n",
       "      <td>5.0</td>\n",
       "      <td>0.0</td>\n",
       "      <td>2.0</td>\n",
       "      <td>0.0</td>\n",
       "      <td>1.0</td>\n",
       "      <td>0.0</td>\n",
       "      <td>0.0</td>\n",
       "      <td>0.0</td>\n",
       "      <td>0.0</td>\n",
       "      <td>1.0</td>\n",
       "      <td>82968.0</td>\n",
       "      <td>0.0</td>\n",
       "      <td>0.0</td>\n",
       "    </tr>\n",
       "    <tr>\n",
       "      <th>61339</th>\n",
       "      <td>48935</td>\n",
       "      <td>4.0</td>\n",
       "      <td>1.0</td>\n",
       "      <td>0.0</td>\n",
       "      <td>0.0</td>\n",
       "      <td>0.0</td>\n",
       "      <td>1.0</td>\n",
       "      <td>0.0</td>\n",
       "      <td>0.0</td>\n",
       "      <td>0.0</td>\n",
       "      <td>0.0</td>\n",
       "      <td>48935.0</td>\n",
       "      <td>0.0</td>\n",
       "      <td>0.0</td>\n",
       "    </tr>\n",
       "    <tr>\n",
       "      <th>71991</th>\n",
       "      <td>61110</td>\n",
       "      <td>6.0</td>\n",
       "      <td>0.0</td>\n",
       "      <td>2.0</td>\n",
       "      <td>0.0</td>\n",
       "      <td>1.0</td>\n",
       "      <td>0.0</td>\n",
       "      <td>0.0</td>\n",
       "      <td>0.0</td>\n",
       "      <td>0.0</td>\n",
       "      <td>1.0</td>\n",
       "      <td>61110.0</td>\n",
       "      <td>0.0</td>\n",
       "      <td>0.0</td>\n",
       "    </tr>\n",
       "    <tr>\n",
       "      <th>...</th>\n",
       "      <td>...</td>\n",
       "      <td>...</td>\n",
       "      <td>...</td>\n",
       "      <td>...</td>\n",
       "      <td>...</td>\n",
       "      <td>...</td>\n",
       "      <td>...</td>\n",
       "      <td>...</td>\n",
       "      <td>...</td>\n",
       "      <td>...</td>\n",
       "      <td>...</td>\n",
       "      <td>...</td>\n",
       "      <td>...</td>\n",
       "      <td>...</td>\n",
       "    </tr>\n",
       "    <tr>\n",
       "      <th>34659</th>\n",
       "      <td>60528</td>\n",
       "      <td>6.0</td>\n",
       "      <td>0.0</td>\n",
       "      <td>5.0</td>\n",
       "      <td>0.0</td>\n",
       "      <td>1.0</td>\n",
       "      <td>0.0</td>\n",
       "      <td>0.0</td>\n",
       "      <td>0.0</td>\n",
       "      <td>0.0</td>\n",
       "      <td>0.0</td>\n",
       "      <td>60528.0</td>\n",
       "      <td>0.0</td>\n",
       "      <td>0.0</td>\n",
       "    </tr>\n",
       "    <tr>\n",
       "      <th>27607</th>\n",
       "      <td>60629</td>\n",
       "      <td>5.0</td>\n",
       "      <td>1.0</td>\n",
       "      <td>2.0</td>\n",
       "      <td>0.0</td>\n",
       "      <td>1.0</td>\n",
       "      <td>0.0</td>\n",
       "      <td>0.0</td>\n",
       "      <td>0.0</td>\n",
       "      <td>0.0</td>\n",
       "      <td>0.0</td>\n",
       "      <td>60629.0</td>\n",
       "      <td>0.0</td>\n",
       "      <td>0.0</td>\n",
       "    </tr>\n",
       "    <tr>\n",
       "      <th>33269</th>\n",
       "      <td>55350</td>\n",
       "      <td>4.0</td>\n",
       "      <td>1.0</td>\n",
       "      <td>11.0</td>\n",
       "      <td>0.0</td>\n",
       "      <td>0.0</td>\n",
       "      <td>1.0</td>\n",
       "      <td>0.0</td>\n",
       "      <td>0.0</td>\n",
       "      <td>0.0</td>\n",
       "      <td>0.0</td>\n",
       "      <td>55350.0</td>\n",
       "      <td>0.0</td>\n",
       "      <td>0.0</td>\n",
       "    </tr>\n",
       "    <tr>\n",
       "      <th>25444</th>\n",
       "      <td>75118</td>\n",
       "      <td>3.0</td>\n",
       "      <td>1.0</td>\n",
       "      <td>5.0</td>\n",
       "      <td>0.0</td>\n",
       "      <td>0.0</td>\n",
       "      <td>1.0</td>\n",
       "      <td>0.0</td>\n",
       "      <td>0.0</td>\n",
       "      <td>0.0</td>\n",
       "      <td>0.0</td>\n",
       "      <td>75118.0</td>\n",
       "      <td>0.0</td>\n",
       "      <td>0.0</td>\n",
       "    </tr>\n",
       "    <tr>\n",
       "      <th>55808</th>\n",
       "      <td>46249</td>\n",
       "      <td>7.0</td>\n",
       "      <td>1.0</td>\n",
       "      <td>5.0</td>\n",
       "      <td>0.0</td>\n",
       "      <td>0.0</td>\n",
       "      <td>1.0</td>\n",
       "      <td>0.0</td>\n",
       "      <td>0.0</td>\n",
       "      <td>0.0</td>\n",
       "      <td>1.0</td>\n",
       "      <td>46249.0</td>\n",
       "      <td>0.0</td>\n",
       "      <td>0.0</td>\n",
       "    </tr>\n",
       "  </tbody>\n",
       "</table>\n",
       "<p>54737 rows × 14 columns</p>\n",
       "</div>"
      ],
      "text/plain": [
       "       VehOdo  VehYear  Year  Size  Transmission  WheelTypeID[1.0]  \\\n",
       "64267   20728      3.0   0.0   0.0           0.0               0.0   \n",
       "42527   72104      5.0   0.0   5.0           0.0               0.0   \n",
       "67750   82968      5.0   0.0   2.0           0.0               1.0   \n",
       "61339   48935      4.0   1.0   0.0           0.0               0.0   \n",
       "71991   61110      6.0   0.0   2.0           0.0               1.0   \n",
       "...       ...      ...   ...   ...           ...               ...   \n",
       "34659   60528      6.0   0.0   5.0           0.0               1.0   \n",
       "27607   60629      5.0   1.0   2.0           0.0               1.0   \n",
       "33269   55350      4.0   1.0  11.0           0.0               0.0   \n",
       "25444   75118      3.0   1.0   5.0           0.0               0.0   \n",
       "55808   46249      7.0   1.0   5.0           0.0               0.0   \n",
       "\n",
       "       WheelTypeID[2.0]  WheelTypeID[3.0]  WheelTypeID[MISSING]  \\\n",
       "64267               1.0               0.0                   0.0   \n",
       "42527               1.0               0.0                   0.0   \n",
       "67750               0.0               0.0                   0.0   \n",
       "61339               1.0               0.0                   0.0   \n",
       "71991               0.0               0.0                   0.0   \n",
       "...                 ...               ...                   ...   \n",
       "34659               0.0               0.0                   0.0   \n",
       "27607               0.0               0.0                   0.0   \n",
       "33269               1.0               0.0                   0.0   \n",
       "25444               1.0               0.0                   0.0   \n",
       "55808               1.0               0.0                   0.0   \n",
       "\n",
       "       WheelTypeID[OTHER]  Auction[T.OTHER]  VehOdo:Transmission[AUTO]  \\\n",
       "64267                 0.0               1.0                    20728.0   \n",
       "42527                 0.0               0.0                    72104.0   \n",
       "67750                 0.0               1.0                    82968.0   \n",
       "61339                 0.0               0.0                    48935.0   \n",
       "71991                 0.0               1.0                    61110.0   \n",
       "...                   ...               ...                        ...   \n",
       "34659                 0.0               0.0                    60528.0   \n",
       "27607                 0.0               0.0                    60629.0   \n",
       "33269                 0.0               0.0                    55350.0   \n",
       "25444                 0.0               0.0                    75118.0   \n",
       "55808                 0.0               1.0                    46249.0   \n",
       "\n",
       "       VehOdo:Transmission[MANUAL]  VehOdo:Transmission[OTHER]  \n",
       "64267                          0.0                         0.0  \n",
       "42527                          0.0                         0.0  \n",
       "67750                          0.0                         0.0  \n",
       "61339                          0.0                         0.0  \n",
       "71991                          0.0                         0.0  \n",
       "...                            ...                         ...  \n",
       "34659                          0.0                         0.0  \n",
       "27607                          0.0                         0.0  \n",
       "33269                          0.0                         0.0  \n",
       "25444                          0.0                         0.0  \n",
       "55808                          0.0                         0.0  \n",
       "\n",
       "[54737 rows x 14 columns]"
      ]
     },
     "execution_count": 53,
     "metadata": {},
     "output_type": "execute_result"
    }
   ],
   "source": [
    "X_tree_train"
   ]
  },
  {
   "cell_type": "markdown",
   "metadata": {},
   "source": [
    "One final detail, xgboost does not like `[` or `]` in column names (e.g. `WheelTypeID[MISSING]`), so we will replace those with `(` and `)`."
   ]
  },
  {
   "cell_type": "code",
   "execution_count": 54,
   "metadata": {},
   "outputs": [],
   "source": [
    "X_tree_train.columns = X_tree_train.columns.str.replace('[', '(', regex=False).str.replace(']', ')', regex=False)"
   ]
  },
  {
   "cell_type": "code",
   "execution_count": 55,
   "metadata": {},
   "outputs": [
    {
     "data": {
      "text/plain": [
       "Index(['VehOdo', 'VehYear', 'Year', 'Size', 'Transmission', 'WheelTypeID(1.0)',\n",
       "       'WheelTypeID(2.0)', 'WheelTypeID(3.0)', 'WheelTypeID(MISSING)',\n",
       "       'WheelTypeID(OTHER)', 'Auction(T.OTHER)', 'VehOdo:Transmission(AUTO)',\n",
       "       'VehOdo:Transmission(MANUAL)', 'VehOdo:Transmission(OTHER)'],\n",
       "      dtype='object')"
      ]
     },
     "execution_count": 55,
     "metadata": {},
     "output_type": "execute_result"
    }
   ],
   "source": [
    "X_tree_train.columns"
   ]
  },
  {
   "cell_type": "markdown",
   "metadata": {},
   "source": [
    "Let's go ahead and transform our validation set."
   ]
  },
  {
   "cell_type": "code",
   "execution_count": 56,
   "metadata": {},
   "outputs": [],
   "source": [
    "X_tree_validation = df_validation[continuous_features_trees + cat_ordinal_features_trees]\n",
    "y_tree_validation = df_validation['IsBadBuy']\n",
    "\n",
    "X_tree_validation_patsy = build_design_matrices([X_tree_train_patsy.design_info], df_validation, return_type=\"dataframe\")[0]\n",
    "\n",
    "X_tree_validation = pd.concat([X_tree_validation, X_tree_validation_patsy], axis=1)\n",
    "\n",
    "X_tree_validation[cat_ordinal_features_trees] = ordinal_encoder.transform(X_tree_validation[cat_ordinal_features_trees])\n",
    "\n",
    "X_tree_validation.columns = X_tree_validation.columns.str.replace('[', '(', regex=False).str.replace(']', ')', regex=False)"
   ]
  },
  {
   "cell_type": "markdown",
   "metadata": {},
   "source": [
    "Now we are ready to start training trees."
   ]
  },
  {
   "cell_type": "markdown",
   "metadata": {},
   "source": [
    "## Decision Tree"
   ]
  },
  {
   "cell_type": "markdown",
   "metadata": {},
   "source": [
    "Let's build our decision tree. Note that the only difference between this and the decision tree regression we've used before is the function is called `DecisionTreeClassifier` instead of `DecisionTreeRegressor`."
   ]
  },
  {
   "cell_type": "code",
   "execution_count": 57,
   "metadata": {},
   "outputs": [],
   "source": [
    "dt_model = DecisionTreeClassifier(max_depth=30,\n",
    "                                  min_samples_split=25, \n",
    "                                  max_features=.5, \n",
    "                                  min_impurity_decrease=.001, \n",
    "                                  random_state=201)"
   ]
  },
  {
   "cell_type": "code",
   "execution_count": 58,
   "metadata": {},
   "outputs": [
    {
     "data": {
      "text/html": [
       "<style>#sk-container-id-2 {color: black;}#sk-container-id-2 pre{padding: 0;}#sk-container-id-2 div.sk-toggleable {background-color: white;}#sk-container-id-2 label.sk-toggleable__label {cursor: pointer;display: block;width: 100%;margin-bottom: 0;padding: 0.3em;box-sizing: border-box;text-align: center;}#sk-container-id-2 label.sk-toggleable__label-arrow:before {content: \"▸\";float: left;margin-right: 0.25em;color: #696969;}#sk-container-id-2 label.sk-toggleable__label-arrow:hover:before {color: black;}#sk-container-id-2 div.sk-estimator:hover label.sk-toggleable__label-arrow:before {color: black;}#sk-container-id-2 div.sk-toggleable__content {max-height: 0;max-width: 0;overflow: hidden;text-align: left;background-color: #f0f8ff;}#sk-container-id-2 div.sk-toggleable__content pre {margin: 0.2em;color: black;border-radius: 0.25em;background-color: #f0f8ff;}#sk-container-id-2 input.sk-toggleable__control:checked~div.sk-toggleable__content {max-height: 200px;max-width: 100%;overflow: auto;}#sk-container-id-2 input.sk-toggleable__control:checked~label.sk-toggleable__label-arrow:before {content: \"▾\";}#sk-container-id-2 div.sk-estimator input.sk-toggleable__control:checked~label.sk-toggleable__label {background-color: #d4ebff;}#sk-container-id-2 div.sk-label input.sk-toggleable__control:checked~label.sk-toggleable__label {background-color: #d4ebff;}#sk-container-id-2 input.sk-hidden--visually {border: 0;clip: rect(1px 1px 1px 1px);clip: rect(1px, 1px, 1px, 1px);height: 1px;margin: -1px;overflow: hidden;padding: 0;position: absolute;width: 1px;}#sk-container-id-2 div.sk-estimator {font-family: monospace;background-color: #f0f8ff;border: 1px dotted black;border-radius: 0.25em;box-sizing: border-box;margin-bottom: 0.5em;}#sk-container-id-2 div.sk-estimator:hover {background-color: #d4ebff;}#sk-container-id-2 div.sk-parallel-item::after {content: \"\";width: 100%;border-bottom: 1px solid gray;flex-grow: 1;}#sk-container-id-2 div.sk-label:hover label.sk-toggleable__label {background-color: #d4ebff;}#sk-container-id-2 div.sk-serial::before {content: \"\";position: absolute;border-left: 1px solid gray;box-sizing: border-box;top: 0;bottom: 0;left: 50%;z-index: 0;}#sk-container-id-2 div.sk-serial {display: flex;flex-direction: column;align-items: center;background-color: white;padding-right: 0.2em;padding-left: 0.2em;position: relative;}#sk-container-id-2 div.sk-item {position: relative;z-index: 1;}#sk-container-id-2 div.sk-parallel {display: flex;align-items: stretch;justify-content: center;background-color: white;position: relative;}#sk-container-id-2 div.sk-item::before, #sk-container-id-2 div.sk-parallel-item::before {content: \"\";position: absolute;border-left: 1px solid gray;box-sizing: border-box;top: 0;bottom: 0;left: 50%;z-index: -1;}#sk-container-id-2 div.sk-parallel-item {display: flex;flex-direction: column;z-index: 1;position: relative;background-color: white;}#sk-container-id-2 div.sk-parallel-item:first-child::after {align-self: flex-end;width: 50%;}#sk-container-id-2 div.sk-parallel-item:last-child::after {align-self: flex-start;width: 50%;}#sk-container-id-2 div.sk-parallel-item:only-child::after {width: 0;}#sk-container-id-2 div.sk-dashed-wrapped {border: 1px dashed gray;margin: 0 0.4em 0.5em 0.4em;box-sizing: border-box;padding-bottom: 0.4em;background-color: white;}#sk-container-id-2 div.sk-label label {font-family: monospace;font-weight: bold;display: inline-block;line-height: 1.2em;}#sk-container-id-2 div.sk-label-container {text-align: center;}#sk-container-id-2 div.sk-container {/* jupyter's `normalize.less` sets `[hidden] { display: none; }` but bootstrap.min.css set `[hidden] { display: none !important; }` so we also need the `!important` here to be able to override the default hidden behavior on the sphinx rendered scikit-learn.org. See: https://github.com/scikit-learn/scikit-learn/issues/21755 */display: inline-block !important;position: relative;}#sk-container-id-2 div.sk-text-repr-fallback {display: none;}</style><div id=\"sk-container-id-2\" class=\"sk-top-container\"><div class=\"sk-text-repr-fallback\"><pre>DecisionTreeClassifier(max_depth=30, max_features=0.5,\n",
       "                       min_impurity_decrease=0.001, min_samples_split=25,\n",
       "                       random_state=201)</pre><b>In a Jupyter environment, please rerun this cell to show the HTML representation or trust the notebook. <br />On GitHub, the HTML representation is unable to render, please try loading this page with nbviewer.org.</b></div><div class=\"sk-container\" hidden><div class=\"sk-item\"><div class=\"sk-estimator sk-toggleable\"><input class=\"sk-toggleable__control sk-hidden--visually\" id=\"sk-estimator-id-2\" type=\"checkbox\" checked><label for=\"sk-estimator-id-2\" class=\"sk-toggleable__label sk-toggleable__label-arrow\">DecisionTreeClassifier</label><div class=\"sk-toggleable__content\"><pre>DecisionTreeClassifier(max_depth=30, max_features=0.5,\n",
       "                       min_impurity_decrease=0.001, min_samples_split=25,\n",
       "                       random_state=201)</pre></div></div></div></div></div>"
      ],
      "text/plain": [
       "DecisionTreeClassifier(max_depth=30, max_features=0.5,\n",
       "                       min_impurity_decrease=0.001, min_samples_split=25,\n",
       "                       random_state=201)"
      ]
     },
     "execution_count": 58,
     "metadata": {},
     "output_type": "execute_result"
    }
   ],
   "source": [
    "dt_model.fit(X_tree_train, y_tree_train)"
   ]
  },
  {
   "cell_type": "code",
   "execution_count": 59,
   "metadata": {},
   "outputs": [
    {
     "data": {
      "image/png": "[encoded data removed]",
      "text/plain": [
       "<Figure size 2000x2000 with 1 Axes>"
      ]
     },
     "metadata": {},
     "output_type": "display_data"
    }
   ],
   "source": [
    "plt.figure(figsize=(20,20))\n",
    "plot_tree(dt_model, feature_names=list(X_tree_train.columns), filled=True, fontsize=12)\n",
    "plt.show()"
   ]
  },
  {
   "cell_type": "markdown",
   "metadata": {},
   "source": [
    "We can also look at the feature importance."
   ]
  },
  {
   "cell_type": "code",
   "execution_count": 60,
   "metadata": {},
   "outputs": [
    {
     "data": {
      "text/html": [
       "<div>\n",
       "<style scoped>\n",
       "    .dataframe tbody tr th:only-of-type {\n",
       "        vertical-align: middle;\n",
       "    }\n",
       "\n",
       "    .dataframe tbody tr th {\n",
       "        vertical-align: top;\n",
       "    }\n",
       "\n",
       "    .dataframe thead th {\n",
       "        text-align: right;\n",
       "    }\n",
       "</style>\n",
       "<table border=\"1\" class=\"dataframe\">\n",
       "  <thead>\n",
       "    <tr style=\"text-align: right;\">\n",
       "      <th></th>\n",
       "      <th>Importance</th>\n",
       "    </tr>\n",
       "  </thead>\n",
       "  <tbody>\n",
       "    <tr>\n",
       "      <th>WheelTypeID(MISSING)</th>\n",
       "      <td>0.881338</td>\n",
       "    </tr>\n",
       "    <tr>\n",
       "      <th>Auction(T.OTHER)</th>\n",
       "      <td>0.118662</td>\n",
       "    </tr>\n",
       "    <tr>\n",
       "      <th>VehOdo</th>\n",
       "      <td>0.000000</td>\n",
       "    </tr>\n",
       "    <tr>\n",
       "      <th>VehYear</th>\n",
       "      <td>0.000000</td>\n",
       "    </tr>\n",
       "    <tr>\n",
       "      <th>Year</th>\n",
       "      <td>0.000000</td>\n",
       "    </tr>\n",
       "    <tr>\n",
       "      <th>Size</th>\n",
       "      <td>0.000000</td>\n",
       "    </tr>\n",
       "    <tr>\n",
       "      <th>Transmission</th>\n",
       "      <td>0.000000</td>\n",
       "    </tr>\n",
       "    <tr>\n",
       "      <th>WheelTypeID(1.0)</th>\n",
       "      <td>0.000000</td>\n",
       "    </tr>\n",
       "    <tr>\n",
       "      <th>WheelTypeID(2.0)</th>\n",
       "      <td>0.000000</td>\n",
       "    </tr>\n",
       "    <tr>\n",
       "      <th>WheelTypeID(3.0)</th>\n",
       "      <td>0.000000</td>\n",
       "    </tr>\n",
       "    <tr>\n",
       "      <th>WheelTypeID(OTHER)</th>\n",
       "      <td>0.000000</td>\n",
       "    </tr>\n",
       "    <tr>\n",
       "      <th>VehOdo:Transmission(AUTO)</th>\n",
       "      <td>0.000000</td>\n",
       "    </tr>\n",
       "    <tr>\n",
       "      <th>VehOdo:Transmission(MANUAL)</th>\n",
       "      <td>0.000000</td>\n",
       "    </tr>\n",
       "    <tr>\n",
       "      <th>VehOdo:Transmission(OTHER)</th>\n",
       "      <td>0.000000</td>\n",
       "    </tr>\n",
       "  </tbody>\n",
       "</table>\n",
       "</div>"
      ],
      "text/plain": [
       "                             Importance\n",
       "WheelTypeID(MISSING)           0.881338\n",
       "Auction(T.OTHER)               0.118662\n",
       "VehOdo                         0.000000\n",
       "VehYear                        0.000000\n",
       "Year                           0.000000\n",
       "Size                           0.000000\n",
       "Transmission                   0.000000\n",
       "WheelTypeID(1.0)               0.000000\n",
       "WheelTypeID(2.0)               0.000000\n",
       "WheelTypeID(3.0)               0.000000\n",
       "WheelTypeID(OTHER)             0.000000\n",
       "VehOdo:Transmission(AUTO)      0.000000\n",
       "VehOdo:Transmission(MANUAL)    0.000000\n",
       "VehOdo:Transmission(OTHER)     0.000000"
      ]
     },
     "execution_count": 60,
     "metadata": {},
     "output_type": "execute_result"
    }
   ],
   "source": [
    "pd.DataFrame({'Importance': dt_model.feature_importances_}, index=X_tree_train.columns).sort_values(['Importance'], ascending=False)"
   ]
  },
  {
   "cell_type": "markdown",
   "metadata": {},
   "source": [
    "Now we can predict on our validation set."
   ]
  },
  {
   "cell_type": "code",
   "execution_count": 61,
   "metadata": {},
   "outputs": [],
   "source": [
    "dt_pred = dt_model.predict_proba(X_tree_validation)[:,1]"
   ]
  },
  {
   "cell_type": "markdown",
   "metadata": {},
   "source": [
    "Let's check the accuracy."
   ]
  },
  {
   "cell_type": "code",
   "execution_count": 62,
   "metadata": {},
   "outputs": [
    {
     "data": {
      "text/plain": [
       "0.10879562370647215"
      ]
     },
     "execution_count": 62,
     "metadata": {},
     "output_type": "execute_result"
    }
   ],
   "source": [
    "Kaggle_Gini_Index(df_validation['IsBadBuy'], dt_pred)"
   ]
  },
  {
   "cell_type": "markdown",
   "metadata": {},
   "source": [
    "We probably underfit the above tree."
   ]
  },
  {
   "cell_type": "markdown",
   "metadata": {},
   "source": [
    "Let's look at the ROC curve:"
   ]
  },
  {
   "cell_type": "code",
   "execution_count": 63,
   "metadata": {},
   "outputs": [
    {
     "data": {
      "image/png": "[encoded data removed]",
      "text/plain": [
       "<Figure size 1100x1100 with 1 Axes>"
      ]
     },
     "metadata": {},
     "output_type": "display_data"
    }
   ],
   "source": [
    "RocCurveDisplay.from_predictions(df_validation['IsBadBuy'], dt_pred)\n",
    "plt.show()"
   ]
  },
  {
   "cell_type": "markdown",
   "metadata": {},
   "source": [
    "If we are willing to set a threshold, we can also display the confusion matrix and the other classification metrics we previously discussed. However, these metrics will depend on the threshold set. Modify the threshold and see how the metrics change."
   ]
  },
  {
   "cell_type": "code",
   "execution_count": 64,
   "metadata": {},
   "outputs": [],
   "source": [
    "threshold_dt = .5\n",
    "dt_pred_classes = dt_pred > threshold_dt"
   ]
  },
  {
   "cell_type": "markdown",
   "metadata": {},
   "source": [
    "Below is the confusion matrix."
   ]
  },
  {
   "cell_type": "code",
   "execution_count": 65,
   "metadata": {},
   "outputs": [
    {
     "data": {
      "image/png": "[encoded data removed]",
      "text/plain": [
       "<Figure size 1100x1100 with 2 Axes>"
      ]
     },
     "metadata": {},
     "output_type": "display_data"
    }
   ],
   "source": [
    "predictions = dt_pred_classes\n",
    "\n",
    "disp = ConfusionMatrixDisplay(confusion_matrix(df_validation['IsBadBuy'], predictions))\n",
    "disp.plot()\n",
    "plt.xticks(rotation=45, horizontalalignment='right')\n",
    "plt.show()"
   ]
  },
  {
   "cell_type": "markdown",
   "metadata": {},
   "source": [
    "We can see that now we have both true and false positives. Those numbers will change as you modify the threshold. Try predicting which way the numbers should change before you modify the threshold.\n",
    "\n",
    "We can also view the classification report."
   ]
  },
  {
   "cell_type": "code",
   "execution_count": 66,
   "metadata": {},
   "outputs": [
    {
     "name": "stdout",
     "output_type": "stream",
     "text": [
      "              precision    recall  f1-score   support\n",
      "\n",
      "           0       0.90      1.00      0.95     15978\n",
      "           1       0.87      0.23      0.37      2268\n",
      "\n",
      "    accuracy                           0.90     18246\n",
      "   macro avg       0.89      0.61      0.66     18246\n",
      "weighted avg       0.90      0.90      0.87     18246\n",
      "\n"
     ]
    }
   ],
   "source": [
    "print(classification_report(df_validation['IsBadBuy'], dt_pred_classes))"
   ]
  },
  {
   "cell_type": "markdown",
   "metadata": {},
   "source": [
    "## Random Forest"
   ]
  },
  {
   "cell_type": "markdown",
   "metadata": {},
   "source": [
    "Let's build our random frest. Note that the only difference between this and the decision tree regression we've used before is the function is called `RandomForestClassifier` instead of `RandomForestRegressor`."
   ]
  },
  {
   "cell_type": "code",
   "execution_count": 67,
   "metadata": {},
   "outputs": [],
   "source": [
    "rf_model = RandomForestClassifier(n_estimators=500,\n",
    "                                  max_features=4,\n",
    "                                  min_samples_leaf=5,\n",
    "                                  random_state=201,\n",
    "                                  n_jobs=num_cpus)"
   ]
  },
  {
   "cell_type": "code",
   "execution_count": 68,
   "metadata": {},
   "outputs": [
    {
     "data": {
      "text/html": [
       "<style>#sk-container-id-3 {color: black;}#sk-container-id-3 pre{padding: 0;}#sk-container-id-3 div.sk-toggleable {background-color: white;}#sk-container-id-3 label.sk-toggleable__label {cursor: pointer;display: block;width: 100%;margin-bottom: 0;padding: 0.3em;box-sizing: border-box;text-align: center;}#sk-container-id-3 label.sk-toggleable__label-arrow:before {content: \"▸\";float: left;margin-right: 0.25em;color: #696969;}#sk-container-id-3 label.sk-toggleable__label-arrow:hover:before {color: black;}#sk-container-id-3 div.sk-estimator:hover label.sk-toggleable__label-arrow:before {color: black;}#sk-container-id-3 div.sk-toggleable__content {max-height: 0;max-width: 0;overflow: hidden;text-align: left;background-color: #f0f8ff;}#sk-container-id-3 div.sk-toggleable__content pre {margin: 0.2em;color: black;border-radius: 0.25em;background-color: #f0f8ff;}#sk-container-id-3 input.sk-toggleable__control:checked~div.sk-toggleable__content {max-height: 200px;max-width: 100%;overflow: auto;}#sk-container-id-3 input.sk-toggleable__control:checked~label.sk-toggleable__label-arrow:before {content: \"▾\";}#sk-container-id-3 div.sk-estimator input.sk-toggleable__control:checked~label.sk-toggleable__label {background-color: #d4ebff;}#sk-container-id-3 div.sk-label input.sk-toggleable__control:checked~label.sk-toggleable__label {background-color: #d4ebff;}#sk-container-id-3 input.sk-hidden--visually {border: 0;clip: rect(1px 1px 1px 1px);clip: rect(1px, 1px, 1px, 1px);height: 1px;margin: -1px;overflow: hidden;padding: 0;position: absolute;width: 1px;}#sk-container-id-3 div.sk-estimator {font-family: monospace;background-color: #f0f8ff;border: 1px dotted black;border-radius: 0.25em;box-sizing: border-box;margin-bottom: 0.5em;}#sk-container-id-3 div.sk-estimator:hover {background-color: #d4ebff;}#sk-container-id-3 div.sk-parallel-item::after {content: \"\";width: 100%;border-bottom: 1px solid gray;flex-grow: 1;}#sk-container-id-3 div.sk-label:hover label.sk-toggleable__label {background-color: #d4ebff;}#sk-container-id-3 div.sk-serial::before {content: \"\";position: absolute;border-left: 1px solid gray;box-sizing: border-box;top: 0;bottom: 0;left: 50%;z-index: 0;}#sk-container-id-3 div.sk-serial {display: flex;flex-direction: column;align-items: center;background-color: white;padding-right: 0.2em;padding-left: 0.2em;position: relative;}#sk-container-id-3 div.sk-item {position: relative;z-index: 1;}#sk-container-id-3 div.sk-parallel {display: flex;align-items: stretch;justify-content: center;background-color: white;position: relative;}#sk-container-id-3 div.sk-item::before, #sk-container-id-3 div.sk-parallel-item::before {content: \"\";position: absolute;border-left: 1px solid gray;box-sizing: border-box;top: 0;bottom: 0;left: 50%;z-index: -1;}#sk-container-id-3 div.sk-parallel-item {display: flex;flex-direction: column;z-index: 1;position: relative;background-color: white;}#sk-container-id-3 div.sk-parallel-item:first-child::after {align-self: flex-end;width: 50%;}#sk-container-id-3 div.sk-parallel-item:last-child::after {align-self: flex-start;width: 50%;}#sk-container-id-3 div.sk-parallel-item:only-child::after {width: 0;}#sk-container-id-3 div.sk-dashed-wrapped {border: 1px dashed gray;margin: 0 0.4em 0.5em 0.4em;box-sizing: border-box;padding-bottom: 0.4em;background-color: white;}#sk-container-id-3 div.sk-label label {font-family: monospace;font-weight: bold;display: inline-block;line-height: 1.2em;}#sk-container-id-3 div.sk-label-container {text-align: center;}#sk-container-id-3 div.sk-container {/* jupyter's `normalize.less` sets `[hidden] { display: none; }` but bootstrap.min.css set `[hidden] { display: none !important; }` so we also need the `!important` here to be able to override the default hidden behavior on the sphinx rendered scikit-learn.org. See: https://github.com/scikit-learn/scikit-learn/issues/21755 */display: inline-block !important;position: relative;}#sk-container-id-3 div.sk-text-repr-fallback {display: none;}</style><div id=\"sk-container-id-3\" class=\"sk-top-container\"><div class=\"sk-text-repr-fallback\"><pre>RandomForestClassifier(max_features=4, min_samples_leaf=5, n_estimators=500,\n",
       "                       n_jobs=2, random_state=201)</pre><b>In a Jupyter environment, please rerun this cell to show the HTML representation or trust the notebook. <br />On GitHub, the HTML representation is unable to render, please try loading this page with nbviewer.org.</b></div><div class=\"sk-container\" hidden><div class=\"sk-item\"><div class=\"sk-estimator sk-toggleable\"><input class=\"sk-toggleable__control sk-hidden--visually\" id=\"sk-estimator-id-3\" type=\"checkbox\" checked><label for=\"sk-estimator-id-3\" class=\"sk-toggleable__label sk-toggleable__label-arrow\">RandomForestClassifier</label><div class=\"sk-toggleable__content\"><pre>RandomForestClassifier(max_features=4, min_samples_leaf=5, n_estimators=500,\n",
       "                       n_jobs=2, random_state=201)</pre></div></div></div></div></div>"
      ],
      "text/plain": [
       "RandomForestClassifier(max_features=4, min_samples_leaf=5, n_estimators=500,\n",
       "                       n_jobs=2, random_state=201)"
      ]
     },
     "execution_count": 68,
     "metadata": {},
     "output_type": "execute_result"
    }
   ],
   "source": [
    "rf_model.fit(X_tree_train, y_tree_train)"
   ]
  },
  {
   "cell_type": "markdown",
   "metadata": {},
   "source": [
    "We can also look at the feature importance."
   ]
  },
  {
   "cell_type": "code",
   "execution_count": 69,
   "metadata": {},
   "outputs": [
    {
     "data": {
      "text/html": [
       "<div>\n",
       "<style scoped>\n",
       "    .dataframe tbody tr th:only-of-type {\n",
       "        vertical-align: middle;\n",
       "    }\n",
       "\n",
       "    .dataframe tbody tr th {\n",
       "        vertical-align: top;\n",
       "    }\n",
       "\n",
       "    .dataframe thead th {\n",
       "        text-align: right;\n",
       "    }\n",
       "</style>\n",
       "<table border=\"1\" class=\"dataframe\">\n",
       "  <thead>\n",
       "    <tr style=\"text-align: right;\">\n",
       "      <th></th>\n",
       "      <th>Importance</th>\n",
       "    </tr>\n",
       "  </thead>\n",
       "  <tbody>\n",
       "    <tr>\n",
       "      <th>WheelTypeID(MISSING)</th>\n",
       "      <td>0.275241</td>\n",
       "    </tr>\n",
       "    <tr>\n",
       "      <th>VehOdo</th>\n",
       "      <td>0.222428</td>\n",
       "    </tr>\n",
       "    <tr>\n",
       "      <th>VehOdo:Transmission(AUTO)</th>\n",
       "      <td>0.213257</td>\n",
       "    </tr>\n",
       "    <tr>\n",
       "      <th>VehYear</th>\n",
       "      <td>0.078880</td>\n",
       "    </tr>\n",
       "    <tr>\n",
       "      <th>Size</th>\n",
       "      <td>0.060232</td>\n",
       "    </tr>\n",
       "    <tr>\n",
       "      <th>Auction(T.OTHER)</th>\n",
       "      <td>0.046610</td>\n",
       "    </tr>\n",
       "    <tr>\n",
       "      <th>WheelTypeID(1.0)</th>\n",
       "      <td>0.041424</td>\n",
       "    </tr>\n",
       "    <tr>\n",
       "      <th>WheelTypeID(2.0)</th>\n",
       "      <td>0.029863</td>\n",
       "    </tr>\n",
       "    <tr>\n",
       "      <th>Year</th>\n",
       "      <td>0.015559</td>\n",
       "    </tr>\n",
       "    <tr>\n",
       "      <th>VehOdo:Transmission(MANUAL)</th>\n",
       "      <td>0.009622</td>\n",
       "    </tr>\n",
       "    <tr>\n",
       "      <th>WheelTypeID(3.0)</th>\n",
       "      <td>0.004949</td>\n",
       "    </tr>\n",
       "    <tr>\n",
       "      <th>Transmission</th>\n",
       "      <td>0.001893</td>\n",
       "    </tr>\n",
       "    <tr>\n",
       "      <th>VehOdo:Transmission(OTHER)</th>\n",
       "      <td>0.000044</td>\n",
       "    </tr>\n",
       "    <tr>\n",
       "      <th>WheelTypeID(OTHER)</th>\n",
       "      <td>0.000000</td>\n",
       "    </tr>\n",
       "  </tbody>\n",
       "</table>\n",
       "</div>"
      ],
      "text/plain": [
       "                             Importance\n",
       "WheelTypeID(MISSING)           0.275241\n",
       "VehOdo                         0.222428\n",
       "VehOdo:Transmission(AUTO)      0.213257\n",
       "VehYear                        0.078880\n",
       "Size                           0.060232\n",
       "Auction(T.OTHER)               0.046610\n",
       "WheelTypeID(1.0)               0.041424\n",
       "WheelTypeID(2.0)               0.029863\n",
       "Year                           0.015559\n",
       "VehOdo:Transmission(MANUAL)    0.009622\n",
       "WheelTypeID(3.0)               0.004949\n",
       "Transmission                   0.001893\n",
       "VehOdo:Transmission(OTHER)     0.000044\n",
       "WheelTypeID(OTHER)             0.000000"
      ]
     },
     "execution_count": 69,
     "metadata": {},
     "output_type": "execute_result"
    }
   ],
   "source": [
    "pd.DataFrame({'Importance': rf_model.feature_importances_}, index=X_tree_train.columns).sort_values(['Importance'], ascending=False)"
   ]
  },
  {
   "cell_type": "markdown",
   "metadata": {},
   "source": [
    "Now we can predict on our validation set."
   ]
  },
  {
   "cell_type": "code",
   "execution_count": 70,
   "metadata": {},
   "outputs": [],
   "source": [
    "rf_pred = rf_model.predict_proba(X_tree_validation)[:,1]"
   ]
  },
  {
   "cell_type": "markdown",
   "metadata": {},
   "source": [
    "Let's check the accuracy."
   ]
  },
  {
   "cell_type": "code",
   "execution_count": 71,
   "metadata": {},
   "outputs": [
    {
     "data": {
      "text/plain": [
       "0.19574625627930203"
      ]
     },
     "execution_count": 71,
     "metadata": {},
     "output_type": "execute_result"
    }
   ],
   "source": [
    "Kaggle_Gini_Index(df_validation['IsBadBuy'], rf_pred)"
   ]
  },
  {
   "cell_type": "markdown",
   "metadata": {},
   "source": [
    "And the ROC curve:"
   ]
  },
  {
   "cell_type": "code",
   "execution_count": 72,
   "metadata": {},
   "outputs": [
    {
     "data": {
      "image/png": "[encoded data removed]",
      "text/plain": [
       "<Figure size 1100x1100 with 1 Axes>"
      ]
     },
     "metadata": {},
     "output_type": "display_data"
    }
   ],
   "source": [
    "RocCurveDisplay.from_predictions(df_validation['IsBadBuy'], rf_pred)\n",
    "plt.show()"
   ]
  },
  {
   "cell_type": "markdown",
   "metadata": {},
   "source": [
    "That's definitely better, but we can probably do even better."
   ]
  },
  {
   "cell_type": "markdown",
   "metadata": {},
   "source": [
    "If we are willing to set a threshold, we can also display the confusion matrix and the other classification metrics we previously discussed. However, these metrics will depend on the threshold set. Modify the threshold and see how the metrics change."
   ]
  },
  {
   "cell_type": "code",
   "execution_count": 73,
   "metadata": {},
   "outputs": [],
   "source": [
    "threshold_rf = .5\n",
    "rf_pred_classes = rf_pred > threshold_rf"
   ]
  },
  {
   "cell_type": "markdown",
   "metadata": {},
   "source": [
    "Below is the confusion matrix."
   ]
  },
  {
   "cell_type": "code",
   "execution_count": 74,
   "metadata": {},
   "outputs": [
    {
     "data": {
      "image/png": "[encoded data removed]",
      "text/plain": [
       "<Figure size 1100x1100 with 2 Axes>"
      ]
     },
     "metadata": {},
     "output_type": "display_data"
    }
   ],
   "source": [
    "predictions = rf_pred_classes\n",
    "\n",
    "disp = ConfusionMatrixDisplay(confusion_matrix(df_validation['IsBadBuy'], predictions))\n",
    "disp.plot()\n",
    "plt.xticks(rotation=45, horizontalalignment='right')\n",
    "plt.show()"
   ]
  },
  {
   "cell_type": "markdown",
   "metadata": {},
   "source": [
    "We can see that now we have both true and false positives. Those numbers will change as you modify the threshold. Try predicting which way the numbers should change before you modify the threshold.\n",
    "\n",
    "We can also view the classification report."
   ]
  },
  {
   "cell_type": "code",
   "execution_count": 75,
   "metadata": {},
   "outputs": [
    {
     "name": "stdout",
     "output_type": "stream",
     "text": [
      "              precision    recall  f1-score   support\n",
      "\n",
      "           0       0.90      0.99      0.95     15978\n",
      "           1       0.84      0.24      0.37      2268\n",
      "\n",
      "    accuracy                           0.90     18246\n",
      "   macro avg       0.87      0.62      0.66     18246\n",
      "weighted avg       0.89      0.90      0.87     18246\n",
      "\n"
     ]
    }
   ],
   "source": [
    "print(classification_report(df_validation['IsBadBuy'], rf_pred_classes))"
   ]
  },
  {
   "cell_type": "markdown",
   "metadata": {},
   "source": [
    "## Boosted trees model"
   ]
  },
  {
   "cell_type": "markdown",
   "metadata": {},
   "source": [
    "Again, the only real difference between what we have seen before and this is that we will use `XGBClassifier` instead of the decision tree or boosted trees."
   ]
  },
  {
   "cell_type": "code",
   "execution_count": 76,
   "metadata": {},
   "outputs": [],
   "source": [
    "xgb_model = XGBClassifier(max_depth=6,\n",
    "                          n_estimators = 50,\n",
    "                          learning_rate=.1,\n",
    "                          random_state=201)"
   ]
  },
  {
   "cell_type": "code",
   "execution_count": 77,
   "metadata": {},
   "outputs": [
    {
     "data": {
      "text/html": [
       "<style>#sk-container-id-4 {color: black;}#sk-container-id-4 pre{padding: 0;}#sk-container-id-4 div.sk-toggleable {background-color: white;}#sk-container-id-4 label.sk-toggleable__label {cursor: pointer;display: block;width: 100%;margin-bottom: 0;padding: 0.3em;box-sizing: border-box;text-align: center;}#sk-container-id-4 label.sk-toggleable__label-arrow:before {content: \"▸\";float: left;margin-right: 0.25em;color: #696969;}#sk-container-id-4 label.sk-toggleable__label-arrow:hover:before {color: black;}#sk-container-id-4 div.sk-estimator:hover label.sk-toggleable__label-arrow:before {color: black;}#sk-container-id-4 div.sk-toggleable__content {max-height: 0;max-width: 0;overflow: hidden;text-align: left;background-color: #f0f8ff;}#sk-container-id-4 div.sk-toggleable__content pre {margin: 0.2em;color: black;border-radius: 0.25em;background-color: #f0f8ff;}#sk-container-id-4 input.sk-toggleable__control:checked~div.sk-toggleable__content {max-height: 200px;max-width: 100%;overflow: auto;}#sk-container-id-4 input.sk-toggleable__control:checked~label.sk-toggleable__label-arrow:before {content: \"▾\";}#sk-container-id-4 div.sk-estimator input.sk-toggleable__control:checked~label.sk-toggleable__label {background-color: #d4ebff;}#sk-container-id-4 div.sk-label input.sk-toggleable__control:checked~label.sk-toggleable__label {background-color: #d4ebff;}#sk-container-id-4 input.sk-hidden--visually {border: 0;clip: rect(1px 1px 1px 1px);clip: rect(1px, 1px, 1px, 1px);height: 1px;margin: -1px;overflow: hidden;padding: 0;position: absolute;width: 1px;}#sk-container-id-4 div.sk-estimator {font-family: monospace;background-color: #f0f8ff;border: 1px dotted black;border-radius: 0.25em;box-sizing: border-box;margin-bottom: 0.5em;}#sk-container-id-4 div.sk-estimator:hover {background-color: #d4ebff;}#sk-container-id-4 div.sk-parallel-item::after {content: \"\";width: 100%;border-bottom: 1px solid gray;flex-grow: 1;}#sk-container-id-4 div.sk-label:hover label.sk-toggleable__label {background-color: #d4ebff;}#sk-container-id-4 div.sk-serial::before {content: \"\";position: absolute;border-left: 1px solid gray;box-sizing: border-box;top: 0;bottom: 0;left: 50%;z-index: 0;}#sk-container-id-4 div.sk-serial {display: flex;flex-direction: column;align-items: center;background-color: white;padding-right: 0.2em;padding-left: 0.2em;position: relative;}#sk-container-id-4 div.sk-item {position: relative;z-index: 1;}#sk-container-id-4 div.sk-parallel {display: flex;align-items: stretch;justify-content: center;background-color: white;position: relative;}#sk-container-id-4 div.sk-item::before, #sk-container-id-4 div.sk-parallel-item::before {content: \"\";position: absolute;border-left: 1px solid gray;box-sizing: border-box;top: 0;bottom: 0;left: 50%;z-index: -1;}#sk-container-id-4 div.sk-parallel-item {display: flex;flex-direction: column;z-index: 1;position: relative;background-color: white;}#sk-container-id-4 div.sk-parallel-item:first-child::after {align-self: flex-end;width: 50%;}#sk-container-id-4 div.sk-parallel-item:last-child::after {align-self: flex-start;width: 50%;}#sk-container-id-4 div.sk-parallel-item:only-child::after {width: 0;}#sk-container-id-4 div.sk-dashed-wrapped {border: 1px dashed gray;margin: 0 0.4em 0.5em 0.4em;box-sizing: border-box;padding-bottom: 0.4em;background-color: white;}#sk-container-id-4 div.sk-label label {font-family: monospace;font-weight: bold;display: inline-block;line-height: 1.2em;}#sk-container-id-4 div.sk-label-container {text-align: center;}#sk-container-id-4 div.sk-container {/* jupyter's `normalize.less` sets `[hidden] { display: none; }` but bootstrap.min.css set `[hidden] { display: none !important; }` so we also need the `!important` here to be able to override the default hidden behavior on the sphinx rendered scikit-learn.org. See: https://github.com/scikit-learn/scikit-learn/issues/21755 */display: inline-block !important;position: relative;}#sk-container-id-4 div.sk-text-repr-fallback {display: none;}</style><div id=\"sk-container-id-4\" class=\"sk-top-container\"><div class=\"sk-text-repr-fallback\"><pre>XGBClassifier(base_score=None, booster=None, callbacks=None,\n",
       "              colsample_bylevel=None, colsample_bynode=None,\n",
       "              colsample_bytree=None, early_stopping_rounds=None,\n",
       "              enable_categorical=False, eval_metric=None, feature_types=None,\n",
       "              gamma=None, gpu_id=None, grow_policy=None, importance_type=None,\n",
       "              interaction_constraints=None, learning_rate=0.1, max_bin=None,\n",
       "              max_cat_threshold=None, max_cat_to_onehot=None,\n",
       "              max_delta_step=None, max_depth=6, max_leaves=None,\n",
       "              min_child_weight=None, missing=nan, monotone_constraints=None,\n",
       "              n_estimators=50, n_jobs=None, num_parallel_tree=None,\n",
       "              predictor=None, random_state=201, ...)</pre><b>In a Jupyter environment, please rerun this cell to show the HTML representation or trust the notebook. <br />On GitHub, the HTML representation is unable to render, please try loading this page with nbviewer.org.</b></div><div class=\"sk-container\" hidden><div class=\"sk-item\"><div class=\"sk-estimator sk-toggleable\"><input class=\"sk-toggleable__control sk-hidden--visually\" id=\"sk-estimator-id-4\" type=\"checkbox\" checked><label for=\"sk-estimator-id-4\" class=\"sk-toggleable__label sk-toggleable__label-arrow\">XGBClassifier</label><div class=\"sk-toggleable__content\"><pre>XGBClassifier(base_score=None, booster=None, callbacks=None,\n",
       "              colsample_bylevel=None, colsample_bynode=None,\n",
       "              colsample_bytree=None, early_stopping_rounds=None,\n",
       "              enable_categorical=False, eval_metric=None, feature_types=None,\n",
       "              gamma=None, gpu_id=None, grow_policy=None, importance_type=None,\n",
       "              interaction_constraints=None, learning_rate=0.1, max_bin=None,\n",
       "              max_cat_threshold=None, max_cat_to_onehot=None,\n",
       "              max_delta_step=None, max_depth=6, max_leaves=None,\n",
       "              min_child_weight=None, missing=nan, monotone_constraints=None,\n",
       "              n_estimators=50, n_jobs=None, num_parallel_tree=None,\n",
       "              predictor=None, random_state=201, ...)</pre></div></div></div></div></div>"
      ],
      "text/plain": [
       "XGBClassifier(base_score=None, booster=None, callbacks=None,\n",
       "              colsample_bylevel=None, colsample_bynode=None,\n",
       "              colsample_bytree=None, early_stopping_rounds=None,\n",
       "              enable_categorical=False, eval_metric=None, feature_types=None,\n",
       "              gamma=None, gpu_id=None, grow_policy=None, importance_type=None,\n",
       "              interaction_constraints=None, learning_rate=0.1, max_bin=None,\n",
       "              max_cat_threshold=None, max_cat_to_onehot=None,\n",
       "              max_delta_step=None, max_depth=6, max_leaves=None,\n",
       "              min_child_weight=None, missing=nan, monotone_constraints=None,\n",
       "              n_estimators=50, n_jobs=None, num_parallel_tree=None,\n",
       "              predictor=None, random_state=201, ...)"
      ]
     },
     "execution_count": 77,
     "metadata": {},
     "output_type": "execute_result"
    }
   ],
   "source": [
    "xgb_model.fit(X_tree_train, y_tree_train)"
   ]
  },
  {
   "cell_type": "markdown",
   "metadata": {},
   "source": [
    "We can also look at the feature importance."
   ]
  },
  {
   "cell_type": "code",
   "execution_count": 78,
   "metadata": {},
   "outputs": [
    {
     "data": {
      "text/html": [
       "<div>\n",
       "<style scoped>\n",
       "    .dataframe tbody tr th:only-of-type {\n",
       "        vertical-align: middle;\n",
       "    }\n",
       "\n",
       "    .dataframe tbody tr th {\n",
       "        vertical-align: top;\n",
       "    }\n",
       "\n",
       "    .dataframe thead th {\n",
       "        text-align: right;\n",
       "    }\n",
       "</style>\n",
       "<table border=\"1\" class=\"dataframe\">\n",
       "  <thead>\n",
       "    <tr style=\"text-align: right;\">\n",
       "      <th></th>\n",
       "      <th>Importance</th>\n",
       "    </tr>\n",
       "  </thead>\n",
       "  <tbody>\n",
       "    <tr>\n",
       "      <th>WheelTypeID(MISSING)</th>\n",
       "      <td>0.275241</td>\n",
       "    </tr>\n",
       "    <tr>\n",
       "      <th>VehOdo</th>\n",
       "      <td>0.222428</td>\n",
       "    </tr>\n",
       "    <tr>\n",
       "      <th>VehOdo:Transmission(AUTO)</th>\n",
       "      <td>0.213257</td>\n",
       "    </tr>\n",
       "    <tr>\n",
       "      <th>VehYear</th>\n",
       "      <td>0.078880</td>\n",
       "    </tr>\n",
       "    <tr>\n",
       "      <th>Size</th>\n",
       "      <td>0.060232</td>\n",
       "    </tr>\n",
       "    <tr>\n",
       "      <th>Auction(T.OTHER)</th>\n",
       "      <td>0.046610</td>\n",
       "    </tr>\n",
       "    <tr>\n",
       "      <th>WheelTypeID(1.0)</th>\n",
       "      <td>0.041424</td>\n",
       "    </tr>\n",
       "    <tr>\n",
       "      <th>WheelTypeID(2.0)</th>\n",
       "      <td>0.029863</td>\n",
       "    </tr>\n",
       "    <tr>\n",
       "      <th>Year</th>\n",
       "      <td>0.015559</td>\n",
       "    </tr>\n",
       "    <tr>\n",
       "      <th>VehOdo:Transmission(MANUAL)</th>\n",
       "      <td>0.009622</td>\n",
       "    </tr>\n",
       "    <tr>\n",
       "      <th>WheelTypeID(3.0)</th>\n",
       "      <td>0.004949</td>\n",
       "    </tr>\n",
       "    <tr>\n",
       "      <th>Transmission</th>\n",
       "      <td>0.001893</td>\n",
       "    </tr>\n",
       "    <tr>\n",
       "      <th>VehOdo:Transmission(OTHER)</th>\n",
       "      <td>0.000044</td>\n",
       "    </tr>\n",
       "    <tr>\n",
       "      <th>WheelTypeID(OTHER)</th>\n",
       "      <td>0.000000</td>\n",
       "    </tr>\n",
       "  </tbody>\n",
       "</table>\n",
       "</div>"
      ],
      "text/plain": [
       "                             Importance\n",
       "WheelTypeID(MISSING)           0.275241\n",
       "VehOdo                         0.222428\n",
       "VehOdo:Transmission(AUTO)      0.213257\n",
       "VehYear                        0.078880\n",
       "Size                           0.060232\n",
       "Auction(T.OTHER)               0.046610\n",
       "WheelTypeID(1.0)               0.041424\n",
       "WheelTypeID(2.0)               0.029863\n",
       "Year                           0.015559\n",
       "VehOdo:Transmission(MANUAL)    0.009622\n",
       "WheelTypeID(3.0)               0.004949\n",
       "Transmission                   0.001893\n",
       "VehOdo:Transmission(OTHER)     0.000044\n",
       "WheelTypeID(OTHER)             0.000000"
      ]
     },
     "execution_count": 78,
     "metadata": {},
     "output_type": "execute_result"
    }
   ],
   "source": [
    "pd.DataFrame({'Importance': rf_model.feature_importances_}, index=X_tree_train.columns).sort_values(['Importance'], ascending=False)"
   ]
  },
  {
   "cell_type": "markdown",
   "metadata": {},
   "source": [
    "Now we can predict on our validation set."
   ]
  },
  {
   "cell_type": "code",
   "execution_count": 79,
   "metadata": {},
   "outputs": [],
   "source": [
    "xgb_pred = xgb_model.predict_proba(X_tree_validation)[:,1]"
   ]
  },
  {
   "cell_type": "markdown",
   "metadata": {},
   "source": [
    "Let's check the accuracy."
   ]
  },
  {
   "cell_type": "code",
   "execution_count": 80,
   "metadata": {},
   "outputs": [
    {
     "data": {
      "text/plain": [
       "0.21654035230733926"
      ]
     },
     "execution_count": 80,
     "metadata": {},
     "output_type": "execute_result"
    }
   ],
   "source": [
    "Kaggle_Gini_Index(df_validation['IsBadBuy'], xgb_pred)"
   ]
  },
  {
   "cell_type": "markdown",
   "metadata": {},
   "source": [
    "And the ROC curve:"
   ]
  },
  {
   "cell_type": "code",
   "execution_count": 81,
   "metadata": {},
   "outputs": [
    {
     "data": {
      "image/png": "[encoded data removed]",
      "text/plain": [
       "<Figure size 1100x1100 with 1 Axes>"
      ]
     },
     "metadata": {},
     "output_type": "display_data"
    }
   ],
   "source": [
    "RocCurveDisplay.from_predictions(df_validation['IsBadBuy'], xgb_pred)\n",
    "plt.show()"
   ]
  },
  {
   "cell_type": "markdown",
   "metadata": {},
   "source": [
    "Now we're cooking with gas. I bet you could tune this even higher with `GridSearchCV` and more careful parameter selection..."
   ]
  },
  {
   "cell_type": "markdown",
   "metadata": {},
   "source": [
    "If we are willing to set a threshold, we can also display the confusion matrix and the other classification metrics we previously discussed. However, these metrics will depend on the threshold set. Modify the threshold and see how the metrics change."
   ]
  },
  {
   "cell_type": "code",
   "execution_count": 82,
   "metadata": {},
   "outputs": [],
   "source": [
    "threshold_xgb = .5\n",
    "xgb_pred_classes = xgb_pred > threshold_xgb"
   ]
  },
  {
   "cell_type": "markdown",
   "metadata": {},
   "source": [
    "Below is the confusion matrix."
   ]
  },
  {
   "cell_type": "code",
   "execution_count": 83,
   "metadata": {},
   "outputs": [
    {
     "data": {
      "image/png": "[encoded data removed]",
      "text/plain": [
       "<Figure size 1100x1100 with 2 Axes>"
      ]
     },
     "metadata": {},
     "output_type": "display_data"
    }
   ],
   "source": [
    "predictions = xgb_pred_classes\n",
    "\n",
    "disp = ConfusionMatrixDisplay(confusion_matrix(df_validation['IsBadBuy'], predictions))\n",
    "disp.plot()\n",
    "plt.xticks(rotation=45, horizontalalignment='right')\n",
    "plt.show()"
   ]
  },
  {
   "cell_type": "markdown",
   "metadata": {},
   "source": [
    "We can see that now we have both true and false positives. Those numbers will change as you modify the threshold. Try predicting which way the numbers should change before you modify the threshold.\n",
    "\n",
    "We can also view the classification report."
   ]
  },
  {
   "cell_type": "code",
   "execution_count": 84,
   "metadata": {},
   "outputs": [
    {
     "name": "stdout",
     "output_type": "stream",
     "text": [
      "              precision    recall  f1-score   support\n",
      "\n",
      "           0       0.90      0.99      0.95     15978\n",
      "           1       0.85      0.24      0.37      2268\n",
      "\n",
      "    accuracy                           0.90     18246\n",
      "   macro avg       0.87      0.61      0.66     18246\n",
      "weighted avg       0.89      0.90      0.87     18246\n",
      "\n"
     ]
    }
   ],
   "source": [
    "print(classification_report(df_validation['IsBadBuy'], xgb_pred_classes))"
   ]
  },
  {
   "cell_type": "markdown",
   "metadata": {},
   "source": [
    "## How Do We Make Money with these Models?"
   ]
  },
  {
   "cell_type": "markdown",
   "metadata": {},
   "source": [
    "We ultimately care about buying good cars so that we can sell them. So, the best way to compare models would be to see which model will lead to the highest revenue given some kind of stylized assumptions around how much money we can make if we buy a good car and how much money we lose if we buy a bad car. However, in this case, we will need to do more than predict probabilities. We will have to decide what probability will lead us to buying (or not buying) the car. We have to set the threshold."
   ]
  },
  {
   "cell_type": "markdown",
   "metadata": {},
   "source": [
    "Below is a simple function to calculate the profit from a prediction over the validation set. The function takes in the predictions (either a $1$ or a $0$) and the true labels for all of the cars in the validation set and it computes the amount of profit (or loss) the prediction would lead to on the validation set. It then divides by the number of cars in the validation set to give us the average profit per car.\n",
    "\n",
    "Additionally, there are some parameters that indicate the profit when we identify correctly that a car is a good buy (i.e. a `0` or the negative class) and a loss for when we predict that a car is a good buy but it is a bad buy (i.e. we predict a `0` but it is actually a `1`). Currently, I assume that we make \\\\$200 on a car that is a good buy, but we lose \\\\$3000 on a car that is a bad buy. Does this seem reasonable?"
   ]
  },
  {
   "cell_type": "code",
   "execution_count": 85,
   "metadata": {},
   "outputs": [],
   "source": [
    "def compute_average_profit(y_true, y_pred, cost_per_false_negative=3000, profit_per_true_negative=200):\n",
    "    \"\"\"Compute the profit of a set of predictions.\"\"\"\n",
    "    conf_mat = confusion_matrix(y_true, y_pred)\n",
    "    profit = (conf_mat[0,0]*profit_per_true_negative - conf_mat[1,0]*cost_per_false_negative)/len(y_true)\n",
    "    return profit"
   ]
  },
  {
   "cell_type": "markdown",
   "metadata": {},
   "source": [
    "We can now test various thresholds and various predictions. I've used `.5` and the `nn_pred` as the default, but you should try various changes to see if "
   ]
  },
  {
   "cell_type": "code",
   "execution_count": 86,
   "metadata": {},
   "outputs": [
    {
     "data": {
      "text/plain": [
       "-111.02707442727173"
      ]
     },
     "execution_count": 86,
     "metadata": {},
     "output_type": "execute_result"
    }
   ],
   "source": [
    "threshold_profit = .5\n",
    "predictions = xgb_pred\n",
    "pred_classes = predictions > threshold_profit\n",
    "\n",
    "compute_average_profit(df_validation['IsBadBuy'], pred_classes)"
   ]
  },
  {
   "cell_type": "markdown",
   "metadata": {},
   "source": [
    "The above is not a very compelling business case. How much can you improve it? Which model is the best according to this criteria? Do you think the assumptions here are reasonable?"
   ]
  },
  {
   "cell_type": "markdown",
   "metadata": {},
   "source": [
    "## Predict on the Test Set"
   ]
  },
  {
   "cell_type": "markdown",
   "metadata": {},
   "source": [
    "After you have gone through and chosen your specific model and the parameters from the model using your validation set, it is now time to go back and redo everything on the full training set in order to make predictions on the test set. Note that the below will assume you want to make the same choices around formatting data as you did for the `df_smaller_train` set above. The below is really just going through the above steps to create the data but replacing `df_smaller_train` with `df_train` and `df_validation` with `df_test`."
   ]
  },
  {
   "cell_type": "markdown",
   "metadata": {},
   "source": [
    "First, we will refit the imputers and impute on `df_train` and `df_test`."
   ]
  },
  {
   "cell_type": "code",
   "execution_count": 87,
   "metadata": {},
   "outputs": [],
   "source": [
    "continuous_imputer_final = SimpleImputer(missing_values=np.nan, strategy='mean')\n",
    "categorical_imputer_final = CategoricalImputer(other_threshold=.01)"
   ]
  },
  {
   "cell_type": "code",
   "execution_count": 88,
   "metadata": {},
   "outputs": [],
   "source": [
    "continuous_imputer_final.fit(df_train[continuous_features])\n",
    "df_train[continuous_features] = continuous_imputer_final.transform(df_train[continuous_features])\n",
    "df_test[continuous_features] = continuous_imputer_final.transform(df_test[continuous_features])"
   ]
  },
  {
   "cell_type": "code",
   "execution_count": 89,
   "metadata": {},
   "outputs": [],
   "source": [
    "categorical_imputer_final.fit(df_train[categorical_features])\n",
    "df_train[categorical_features] = categorical_imputer_final.transform(df_train[categorical_features])\n",
    "df_test[categorical_features] = categorical_imputer_final.transform(df_test[categorical_features])"
   ]
  },
  {
   "cell_type": "markdown",
   "metadata": {},
   "source": [
    "Now, we will re-create the linear regression data necessary to train and predict. This will use the same `formula_linear` you created when you were first training the logistic regression."
   ]
  },
  {
   "cell_type": "code",
   "execution_count": 90,
   "metadata": {},
   "outputs": [],
   "source": [
    "y_logit_train_final, X_logit_train_final = dmatrices(formula_linear, df_train, return_type=\"dataframe\")"
   ]
  },
  {
   "cell_type": "markdown",
   "metadata": {},
   "source": [
    "Now we can build the `X_test` matrix in order to make final predictions from the linear regression models."
   ]
  },
  {
   "cell_type": "code",
   "execution_count": 91,
   "metadata": {},
   "outputs": [],
   "source": [
    "X_logit_test = build_design_matrices([X_logit_train_final.design_info], df_test, return_type=\"dataframe\")[0]"
   ]
  },
  {
   "cell_type": "markdown",
   "metadata": {},
   "source": [
    "Now, we can retrain the logistic regression model on the new data set. NOTE: You should adjust the parameters values to what you chose above."
   ]
  },
  {
   "cell_type": "code",
   "execution_count": 92,
   "metadata": {},
   "outputs": [
    {
     "name": "stderr",
     "output_type": "stream",
     "text": [
      "/opt/conda/lib/python3.11/site-packages/sklearn/utils/validation.py:1184: DataConversionWarning: A column-vector y was passed when a 1d array was expected. Please change the shape of y to (n_samples, ), for example using ravel().\n",
      "  y = column_or_1d(y, warn=True)\n"
     ]
    },
    {
     "name": "stdout",
     "output_type": "stream",
     "text": [
      "CPU times: user 739 ms, sys: 840 ms, total: 1.58 s\n",
      "Wall time: 756 ms\n"
     ]
    },
    {
     "data": {
      "text/html": [
       "<style>#sk-container-id-5 {color: black;}#sk-container-id-5 pre{padding: 0;}#sk-container-id-5 div.sk-toggleable {background-color: white;}#sk-container-id-5 label.sk-toggleable__label {cursor: pointer;display: block;width: 100%;margin-bottom: 0;padding: 0.3em;box-sizing: border-box;text-align: center;}#sk-container-id-5 label.sk-toggleable__label-arrow:before {content: \"▸\";float: left;margin-right: 0.25em;color: #696969;}#sk-container-id-5 label.sk-toggleable__label-arrow:hover:before {color: black;}#sk-container-id-5 div.sk-estimator:hover label.sk-toggleable__label-arrow:before {color: black;}#sk-container-id-5 div.sk-toggleable__content {max-height: 0;max-width: 0;overflow: hidden;text-align: left;background-color: #f0f8ff;}#sk-container-id-5 div.sk-toggleable__content pre {margin: 0.2em;color: black;border-radius: 0.25em;background-color: #f0f8ff;}#sk-container-id-5 input.sk-toggleable__control:checked~div.sk-toggleable__content {max-height: 200px;max-width: 100%;overflow: auto;}#sk-container-id-5 input.sk-toggleable__control:checked~label.sk-toggleable__label-arrow:before {content: \"▾\";}#sk-container-id-5 div.sk-estimator input.sk-toggleable__control:checked~label.sk-toggleable__label {background-color: #d4ebff;}#sk-container-id-5 div.sk-label input.sk-toggleable__control:checked~label.sk-toggleable__label {background-color: #d4ebff;}#sk-container-id-5 input.sk-hidden--visually {border: 0;clip: rect(1px 1px 1px 1px);clip: rect(1px, 1px, 1px, 1px);height: 1px;margin: -1px;overflow: hidden;padding: 0;position: absolute;width: 1px;}#sk-container-id-5 div.sk-estimator {font-family: monospace;background-color: #f0f8ff;border: 1px dotted black;border-radius: 0.25em;box-sizing: border-box;margin-bottom: 0.5em;}#sk-container-id-5 div.sk-estimator:hover {background-color: #d4ebff;}#sk-container-id-5 div.sk-parallel-item::after {content: \"\";width: 100%;border-bottom: 1px solid gray;flex-grow: 1;}#sk-container-id-5 div.sk-label:hover label.sk-toggleable__label {background-color: #d4ebff;}#sk-container-id-5 div.sk-serial::before {content: \"\";position: absolute;border-left: 1px solid gray;box-sizing: border-box;top: 0;bottom: 0;left: 50%;z-index: 0;}#sk-container-id-5 div.sk-serial {display: flex;flex-direction: column;align-items: center;background-color: white;padding-right: 0.2em;padding-left: 0.2em;position: relative;}#sk-container-id-5 div.sk-item {position: relative;z-index: 1;}#sk-container-id-5 div.sk-parallel {display: flex;align-items: stretch;justify-content: center;background-color: white;position: relative;}#sk-container-id-5 div.sk-item::before, #sk-container-id-5 div.sk-parallel-item::before {content: \"\";position: absolute;border-left: 1px solid gray;box-sizing: border-box;top: 0;bottom: 0;left: 50%;z-index: -1;}#sk-container-id-5 div.sk-parallel-item {display: flex;flex-direction: column;z-index: 1;position: relative;background-color: white;}#sk-container-id-5 div.sk-parallel-item:first-child::after {align-self: flex-end;width: 50%;}#sk-container-id-5 div.sk-parallel-item:last-child::after {align-self: flex-start;width: 50%;}#sk-container-id-5 div.sk-parallel-item:only-child::after {width: 0;}#sk-container-id-5 div.sk-dashed-wrapped {border: 1px dashed gray;margin: 0 0.4em 0.5em 0.4em;box-sizing: border-box;padding-bottom: 0.4em;background-color: white;}#sk-container-id-5 div.sk-label label {font-family: monospace;font-weight: bold;display: inline-block;line-height: 1.2em;}#sk-container-id-5 div.sk-label-container {text-align: center;}#sk-container-id-5 div.sk-container {/* jupyter's `normalize.less` sets `[hidden] { display: none; }` but bootstrap.min.css set `[hidden] { display: none !important; }` so we also need the `!important` here to be able to override the default hidden behavior on the sphinx rendered scikit-learn.org. See: https://github.com/scikit-learn/scikit-learn/issues/21755 */display: inline-block !important;position: relative;}#sk-container-id-5 div.sk-text-repr-fallback {display: none;}</style><div id=\"sk-container-id-5\" class=\"sk-top-container\"><div class=\"sk-text-repr-fallback\"><pre>LogisticRegression(C=0.1, random_state=201)</pre><b>In a Jupyter environment, please rerun this cell to show the HTML representation or trust the notebook. <br />On GitHub, the HTML representation is unable to render, please try loading this page with nbviewer.org.</b></div><div class=\"sk-container\" hidden><div class=\"sk-item\"><div class=\"sk-estimator sk-toggleable\"><input class=\"sk-toggleable__control sk-hidden--visually\" id=\"sk-estimator-id-5\" type=\"checkbox\" checked><label for=\"sk-estimator-id-5\" class=\"sk-toggleable__label sk-toggleable__label-arrow\">LogisticRegression</label><div class=\"sk-toggleable__content\"><pre>LogisticRegression(C=0.1, random_state=201)</pre></div></div></div></div></div>"
      ],
      "text/plain": [
       "LogisticRegression(C=0.1, random_state=201)"
      ]
     },
     "execution_count": 92,
     "metadata": {},
     "output_type": "execute_result"
    }
   ],
   "source": [
    "%%time\n",
    "logit_model_final = LogisticRegression(C=1/10, random_state=201)\n",
    "logit_model_final.fit(X_logit_train_final, y_logit_train_final)"
   ]
  },
  {
   "cell_type": "markdown",
   "metadata": {},
   "source": [
    "Let's make our final prediction with the logistic model."
   ]
  },
  {
   "cell_type": "code",
   "execution_count": 93,
   "metadata": {},
   "outputs": [],
   "source": [
    "logit_pred_final = logit_model_final.predict_proba(X_logit_test)[:,1]"
   ]
  },
  {
   "cell_type": "markdown",
   "metadata": {},
   "source": [
    "Now, we will recreate the tree based models data set."
   ]
  },
  {
   "cell_type": "code",
   "execution_count": 94,
   "metadata": {},
   "outputs": [],
   "source": [
    "X_tree_train_final = df_train[continuous_features_trees + cat_ordinal_features_trees]\n",
    "y_tree_train_final = df_train['IsBadBuy']"
   ]
  },
  {
   "cell_type": "markdown",
   "metadata": {},
   "source": [
    "If you created dummy variables or interactions, you will want to run the next line. If not, you can skip it. This will use the same `formula_tree` you made when first setting up the data set for trees."
   ]
  },
  {
   "cell_type": "code",
   "execution_count": 95,
   "metadata": {},
   "outputs": [],
   "source": [
    "X_tree_train_patsy_final = dmatrix(formula_tree, df_train, return_type=\"dataframe\")\n",
    "X_tree_train_final = pd.concat([X_tree_train_final, X_tree_train_patsy_final], axis=1)"
   ]
  },
  {
   "cell_type": "markdown",
   "metadata": {},
   "source": [
    "Now we ordinal encode variables. If you did not choose to ordinal encode any variables, you can skip this."
   ]
  },
  {
   "cell_type": "code",
   "execution_count": 96,
   "metadata": {},
   "outputs": [],
   "source": [
    "ordinal_encoder_final = OrdinalEncoder()\n",
    "ordinal_encoder_final.fit(X_tree_train_final[cat_ordinal_features_trees])\n",
    "X_tree_train_final[cat_ordinal_features_trees] = ordinal_encoder_final.transform(X_tree_train_final[cat_ordinal_features_trees])"
   ]
  },
  {
   "cell_type": "markdown",
   "metadata": {},
   "source": [
    "Finally, we have to replace the characters that xgboost doesn't like."
   ]
  },
  {
   "cell_type": "code",
   "execution_count": 97,
   "metadata": {},
   "outputs": [],
   "source": [
    "X_tree_train_final.columns = X_tree_train_final.columns.str.replace('[', '(', regex=False).str.replace(']', ')', regex=False)"
   ]
  },
  {
   "cell_type": "markdown",
   "metadata": {},
   "source": [
    "Now, we need to do these steps for the test set."
   ]
  },
  {
   "cell_type": "code",
   "execution_count": 98,
   "metadata": {},
   "outputs": [],
   "source": [
    "X_tree_test = df_test[continuous_features_trees + cat_ordinal_features_trees]\n",
    "\n",
    "X_tree_test_patsy = build_design_matrices([X_tree_train_patsy_final.design_info], df_test, return_type=\"dataframe\")[0]\n",
    "\n",
    "X_tree_test = pd.concat([X_tree_test, X_tree_test_patsy], axis=1)\n",
    "\n",
    "X_tree_test[cat_ordinal_features_trees] = ordinal_encoder_final.transform(X_tree_test[cat_ordinal_features_trees])\n",
    "\n",
    "X_tree_test.columns = X_tree_test.columns.str.replace('[', '(', regex=False).str.replace(']', ')', regex=False)"
   ]
  },
  {
   "cell_type": "markdown",
   "metadata": {},
   "source": [
    "Now we can retrain our tree based models, and make final predictions. Note you should adjust parameters to whatever you found above, and you may not need to run all of the below code if you don't intend to use some of the models."
   ]
  },
  {
   "cell_type": "markdown",
   "metadata": {},
   "source": [
    "First, the decision tree."
   ]
  },
  {
   "cell_type": "code",
   "execution_count": 99,
   "metadata": {},
   "outputs": [
    {
     "name": "stdout",
     "output_type": "stream",
     "text": [
      "CPU times: user 41.8 ms, sys: 199 µs, total: 42 ms\n",
      "Wall time: 40.9 ms\n"
     ]
    }
   ],
   "source": [
    "%%time\n",
    "dt_model_final = DecisionTreeClassifier(max_depth=30,\n",
    "                                        min_samples_split=25, \n",
    "                                        max_features=.5, \n",
    "                                        min_impurity_decrease=.001, \n",
    "                                        random_state=201)\n",
    "dt_model_final.fit(X_tree_train_final, y_tree_train_final)\n",
    "dt_pred_final = dt_model_final.predict_proba(X_tree_test)[:,1]"
   ]
  },
  {
   "cell_type": "markdown",
   "metadata": {},
   "source": [
    "Second, the random forest."
   ]
  },
  {
   "cell_type": "code",
   "execution_count": 100,
   "metadata": {},
   "outputs": [
    {
     "name": "stdout",
     "output_type": "stream",
     "text": [
      "CPU times: user 40.1 s, sys: 169 ms, total: 40.3 s\n",
      "Wall time: 20.3 s\n"
     ]
    }
   ],
   "source": [
    "%%time\n",
    "rf_model_final = RandomForestClassifier(n_estimators=500,\n",
    "                                        max_features=4,\n",
    "                                        min_samples_leaf=5,\n",
    "                                        random_state=201,\n",
    "                                        n_jobs=num_cpus)\n",
    "rf_model_final.fit(X_tree_train_final, y_tree_train_final)\n",
    "rf_pred_final = rf_model_final.predict_proba(X_tree_test)[:,1]"
   ]
  },
  {
   "cell_type": "markdown",
   "metadata": {},
   "source": [
    "Finally, the boosted tree."
   ]
  },
  {
   "cell_type": "code",
   "execution_count": 101,
   "metadata": {},
   "outputs": [
    {
     "name": "stdout",
     "output_type": "stream",
     "text": [
      "CPU times: user 2.56 s, sys: 8.21 ms, total: 2.57 s\n",
      "Wall time: 1.29 s\n"
     ]
    }
   ],
   "source": [
    "%%time\n",
    "xgb_model_final = XGBClassifier(max_depth=6,\n",
    "                                n_estimators = 50,\n",
    "                                learning_rate=.1,\n",
    "                                random_state=201)\n",
    "xgb_model_final.fit(X_tree_train_final, y_tree_train_final)\n",
    "xgb_pred_final = xgb_model_final.predict_proba(X_tree_test)[:,1]"
   ]
  },
  {
   "cell_type": "markdown",
   "metadata": {},
   "source": [
    "Now you can choose to ensemble however you would like. Below is one possibility of just ensembling all of the above models equally."
   ]
  },
  {
   "cell_type": "code",
   "execution_count": 102,
   "metadata": {},
   "outputs": [],
   "source": [
    "final_pred = (logit_pred_final + dt_pred_final + rf_pred_final + xgb_pred_final)/4"
   ]
  },
  {
   "cell_type": "markdown",
   "metadata": {},
   "source": [
    "Let's take a look at our `final_pred`."
   ]
  },
  {
   "cell_type": "code",
   "execution_count": 103,
   "metadata": {},
   "outputs": [
    {
     "data": {
      "text/plain": [
       "array([0.10239175, 0.10397   , 0.10147873, ..., 0.10100555, 0.09245997,\n",
       "       0.0985005 ])"
      ]
     },
     "execution_count": 103,
     "metadata": {},
     "output_type": "execute_result"
    }
   ],
   "source": [
    "final_pred"
   ]
  },
  {
   "cell_type": "markdown",
   "metadata": {},
   "source": [
    "# Make forecasts into the testing set and prepare submissions to Kaggle"
   ]
  },
  {
   "cell_type": "markdown",
   "metadata": {},
   "source": [
    "The final step is to make forecasts into the testing set and then submit to Kaggle. The submission expects a csv with two columns. The first is `RefId` and the second is `IsBadBuy` with the probability of the car being a bad buy in the second column. So, you should save the predictions into a variable called `final_pred`."
   ]
  },
  {
   "cell_type": "markdown",
   "metadata": {},
   "source": [
    "After you have your predictions in the variables `final_pred` (it should have 48,707 values), then you can run the below line to generate your final predictions. If you have not made your `final_pred`, then you will not be able to run the below lines without error."
   ]
  },
  {
   "cell_type": "code",
   "execution_count": 104,
   "metadata": {},
   "outputs": [],
   "source": [
    "submission = df_test[['RefId']].copy()\n",
    "submission['IsBadBuy'] = final_pred\n",
    "submission.to_csv('submission.csv', index=False)"
   ]
  },
  {
   "cell_type": "code",
   "execution_count": 105,
   "metadata": {
    "tags": []
   },
   "outputs": [
    {
     "data": {
      "text/html": [
       "<div>\n",
       "<style scoped>\n",
       "    .dataframe tbody tr th:only-of-type {\n",
       "        vertical-align: middle;\n",
       "    }\n",
       "\n",
       "    .dataframe tbody tr th {\n",
       "        vertical-align: top;\n",
       "    }\n",
       "\n",
       "    .dataframe thead th {\n",
       "        text-align: right;\n",
       "    }\n",
       "</style>\n",
       "<table border=\"1\" class=\"dataframe\">\n",
       "  <thead>\n",
       "    <tr style=\"text-align: right;\">\n",
       "      <th></th>\n",
       "      <th>RefId</th>\n",
       "      <th>IsBadBuy</th>\n",
       "    </tr>\n",
       "  </thead>\n",
       "  <tbody>\n",
       "    <tr>\n",
       "      <th>0</th>\n",
       "      <td>73015</td>\n",
       "      <td>0.102392</td>\n",
       "    </tr>\n",
       "    <tr>\n",
       "      <th>1</th>\n",
       "      <td>73016</td>\n",
       "      <td>0.103970</td>\n",
       "    </tr>\n",
       "    <tr>\n",
       "      <th>2</th>\n",
       "      <td>73017</td>\n",
       "      <td>0.101479</td>\n",
       "    </tr>\n",
       "    <tr>\n",
       "      <th>3</th>\n",
       "      <td>73018</td>\n",
       "      <td>0.117099</td>\n",
       "    </tr>\n",
       "    <tr>\n",
       "      <th>4</th>\n",
       "      <td>73019</td>\n",
       "      <td>0.761307</td>\n",
       "    </tr>\n",
       "    <tr>\n",
       "      <th>...</th>\n",
       "      <td>...</td>\n",
       "      <td>...</td>\n",
       "    </tr>\n",
       "    <tr>\n",
       "      <th>48702</th>\n",
       "      <td>121742</td>\n",
       "      <td>0.093860</td>\n",
       "    </tr>\n",
       "    <tr>\n",
       "      <th>48703</th>\n",
       "      <td>121743</td>\n",
       "      <td>0.123761</td>\n",
       "    </tr>\n",
       "    <tr>\n",
       "      <th>48704</th>\n",
       "      <td>121744</td>\n",
       "      <td>0.101006</td>\n",
       "    </tr>\n",
       "    <tr>\n",
       "      <th>48705</th>\n",
       "      <td>121745</td>\n",
       "      <td>0.092460</td>\n",
       "    </tr>\n",
       "    <tr>\n",
       "      <th>48706</th>\n",
       "      <td>121746</td>\n",
       "      <td>0.098501</td>\n",
       "    </tr>\n",
       "  </tbody>\n",
       "</table>\n",
       "<p>48707 rows × 2 columns</p>\n",
       "</div>"
      ],
      "text/plain": [
       "        RefId  IsBadBuy\n",
       "0       73015  0.102392\n",
       "1       73016  0.103970\n",
       "2       73017  0.101479\n",
       "3       73018  0.117099\n",
       "4       73019  0.761307\n",
       "...       ...       ...\n",
       "48702  121742  0.093860\n",
       "48703  121743  0.123761\n",
       "48704  121744  0.101006\n",
       "48705  121745  0.092460\n",
       "48706  121746  0.098501\n",
       "\n",
       "[48707 rows x 2 columns]"
      ]
     },
     "execution_count": 105,
     "metadata": {},
     "output_type": "execute_result"
    }
   ],
   "source": [
    "submission"
   ]
  }
 ],
 "metadata": {
  "kernelspec": {
   "display_name": "Python 3 (ipykernel)",
   "language": "python",
   "name": "python3"
  },
  "language_info": {
   "codemirror_mode": {
    "name": "ipython",
    "version": 3
   },
   "file_extension": ".py",
   "mimetype": "text/x-python",
   "name": "python",
   "nbconvert_exporter": "python",
   "pygments_lexer": "ipython3",
   "version": "3.11.4"
  },
  "vscode": {
   "interpreter": {
    "hash": "bb281caa4797677f8ea6ae1f44f5e39ac3bca17e340910f273999654c36eecac"
   }
  }
 },
 "nbformat": 4,
 "nbformat_minor": 4
}
